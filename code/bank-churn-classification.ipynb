{
 "cells": [
  {
   "cell_type": "code",
   "execution_count": 2,
   "id": "db99842f",
   "metadata": {
    "_cell_guid": "b1076dfc-b9ad-4769-8c92-a6c4dae69d19",
    "_uuid": "8f2839f25d086af736a60e9eeb907d3b93b6e0e5",
    "execution": {
     "iopub.execute_input": "2024-01-21T00:17:17.148299Z",
     "iopub.status.busy": "2024-01-21T00:17:17.147447Z",
     "iopub.status.idle": "2024-01-21T00:17:19.358728Z",
     "shell.execute_reply": "2024-01-21T00:17:19.357254Z"
    },
    "papermill": {
     "duration": 2.232473,
     "end_time": "2024-01-21T00:17:19.361513",
     "exception": false,
     "start_time": "2024-01-21T00:17:17.129040",
     "status": "completed"
    },
    "tags": []
   },
   "outputs": [],
   "source": [
    "import numpy as np \n",
    "import pandas as pd \n",
    "\n",
    "import matplotlib.pyplot as plt\n",
    "%matplotlib inline \n",
    "import seaborn as sns\n",
    "\n",
    "import warnings \n",
    "warnings.filterwarnings(\"ignore\")"
   ]
  },
  {
   "cell_type": "markdown",
   "id": "d754e532",
   "metadata": {
    "papermill": {
     "duration": 0.016478,
     "end_time": "2024-01-21T00:17:19.393874",
     "exception": false,
     "start_time": "2024-01-21T00:17:19.377396",
     "status": "completed"
    },
    "tags": []
   },
   "source": [
    "# loading data"
   ]
  },
  {
   "cell_type": "code",
   "execution_count": 7,
   "id": "9d6d8335",
   "metadata": {
    "execution": {
     "iopub.execute_input": "2024-01-21T00:17:19.431019Z",
     "iopub.status.busy": "2024-01-21T00:17:19.429926Z",
     "iopub.status.idle": "2024-01-21T00:17:19.509858Z",
     "shell.execute_reply": "2024-01-21T00:17:19.508821Z"
    },
    "papermill": {
     "duration": 0.101009,
     "end_time": "2024-01-21T00:17:19.513129",
     "exception": false,
     "start_time": "2024-01-21T00:17:19.412120",
     "status": "completed"
    },
    "tags": []
   },
   "outputs": [
    {
     "ename": "FileNotFoundError",
     "evalue": "[Errno 2] No such file or directory: '/kaggle/output/sample_submission.csv'",
     "output_type": "error",
     "traceback": [
      "\u001b[1;31m---------------------------------------------------------------------------\u001b[0m",
      "\u001b[1;31mFileNotFoundError\u001b[0m                         Traceback (most recent call last)",
      "Cell \u001b[1;32mIn[7], line 1\u001b[0m\n\u001b[1;32m----> 1\u001b[0m submission_df \u001b[38;5;241m=\u001b[39m \u001b[43mpd\u001b[49m\u001b[38;5;241;43m.\u001b[39;49m\u001b[43mread_csv\u001b[49m\u001b[43m(\u001b[49m\u001b[38;5;124;43m'\u001b[39;49m\u001b[38;5;124;43m/kaggle/output/sample_submission.csv\u001b[39;49m\u001b[38;5;124;43m'\u001b[39;49m\u001b[43m)\u001b[49m\n\u001b[0;32m      3\u001b[0m \u001b[38;5;28mprint\u001b[39m(submission_df\u001b[38;5;241m.\u001b[39mshape)\n\u001b[0;32m      4\u001b[0m submission_df\u001b[38;5;241m.\u001b[39mhead()\n",
      "File \u001b[1;32mc:\\Users\\omark\\anaconda3\\envs\\kaggle\\lib\\site-packages\\pandas\\io\\parsers\\readers.py:948\u001b[0m, in \u001b[0;36mread_csv\u001b[1;34m(filepath_or_buffer, sep, delimiter, header, names, index_col, usecols, dtype, engine, converters, true_values, false_values, skipinitialspace, skiprows, skipfooter, nrows, na_values, keep_default_na, na_filter, verbose, skip_blank_lines, parse_dates, infer_datetime_format, keep_date_col, date_parser, date_format, dayfirst, cache_dates, iterator, chunksize, compression, thousands, decimal, lineterminator, quotechar, quoting, doublequote, escapechar, comment, encoding, encoding_errors, dialect, on_bad_lines, delim_whitespace, low_memory, memory_map, float_precision, storage_options, dtype_backend)\u001b[0m\n\u001b[0;32m    935\u001b[0m kwds_defaults \u001b[38;5;241m=\u001b[39m _refine_defaults_read(\n\u001b[0;32m    936\u001b[0m     dialect,\n\u001b[0;32m    937\u001b[0m     delimiter,\n\u001b[1;32m   (...)\u001b[0m\n\u001b[0;32m    944\u001b[0m     dtype_backend\u001b[38;5;241m=\u001b[39mdtype_backend,\n\u001b[0;32m    945\u001b[0m )\n\u001b[0;32m    946\u001b[0m kwds\u001b[38;5;241m.\u001b[39mupdate(kwds_defaults)\n\u001b[1;32m--> 948\u001b[0m \u001b[38;5;28;01mreturn\u001b[39;00m \u001b[43m_read\u001b[49m\u001b[43m(\u001b[49m\u001b[43mfilepath_or_buffer\u001b[49m\u001b[43m,\u001b[49m\u001b[43m \u001b[49m\u001b[43mkwds\u001b[49m\u001b[43m)\u001b[49m\n",
      "File \u001b[1;32mc:\\Users\\omark\\anaconda3\\envs\\kaggle\\lib\\site-packages\\pandas\\io\\parsers\\readers.py:611\u001b[0m, in \u001b[0;36m_read\u001b[1;34m(filepath_or_buffer, kwds)\u001b[0m\n\u001b[0;32m    608\u001b[0m _validate_names(kwds\u001b[38;5;241m.\u001b[39mget(\u001b[38;5;124m\"\u001b[39m\u001b[38;5;124mnames\u001b[39m\u001b[38;5;124m\"\u001b[39m, \u001b[38;5;28;01mNone\u001b[39;00m))\n\u001b[0;32m    610\u001b[0m \u001b[38;5;66;03m# Create the parser.\u001b[39;00m\n\u001b[1;32m--> 611\u001b[0m parser \u001b[38;5;241m=\u001b[39m TextFileReader(filepath_or_buffer, \u001b[38;5;241m*\u001b[39m\u001b[38;5;241m*\u001b[39mkwds)\n\u001b[0;32m    613\u001b[0m \u001b[38;5;28;01mif\u001b[39;00m chunksize \u001b[38;5;129;01mor\u001b[39;00m iterator:\n\u001b[0;32m    614\u001b[0m     \u001b[38;5;28;01mreturn\u001b[39;00m parser\n",
      "File \u001b[1;32mc:\\Users\\omark\\anaconda3\\envs\\kaggle\\lib\\site-packages\\pandas\\io\\parsers\\readers.py:1448\u001b[0m, in \u001b[0;36mTextFileReader.__init__\u001b[1;34m(self, f, engine, **kwds)\u001b[0m\n\u001b[0;32m   1445\u001b[0m     \u001b[38;5;28mself\u001b[39m\u001b[38;5;241m.\u001b[39moptions[\u001b[38;5;124m\"\u001b[39m\u001b[38;5;124mhas_index_names\u001b[39m\u001b[38;5;124m\"\u001b[39m] \u001b[38;5;241m=\u001b[39m kwds[\u001b[38;5;124m\"\u001b[39m\u001b[38;5;124mhas_index_names\u001b[39m\u001b[38;5;124m\"\u001b[39m]\n\u001b[0;32m   1447\u001b[0m \u001b[38;5;28mself\u001b[39m\u001b[38;5;241m.\u001b[39mhandles: IOHandles \u001b[38;5;241m|\u001b[39m \u001b[38;5;28;01mNone\u001b[39;00m \u001b[38;5;241m=\u001b[39m \u001b[38;5;28;01mNone\u001b[39;00m\n\u001b[1;32m-> 1448\u001b[0m \u001b[38;5;28mself\u001b[39m\u001b[38;5;241m.\u001b[39m_engine \u001b[38;5;241m=\u001b[39m \u001b[38;5;28;43mself\u001b[39;49m\u001b[38;5;241;43m.\u001b[39;49m\u001b[43m_make_engine\u001b[49m\u001b[43m(\u001b[49m\u001b[43mf\u001b[49m\u001b[43m,\u001b[49m\u001b[43m \u001b[49m\u001b[38;5;28;43mself\u001b[39;49m\u001b[38;5;241;43m.\u001b[39;49m\u001b[43mengine\u001b[49m\u001b[43m)\u001b[49m\n",
      "File \u001b[1;32mc:\\Users\\omark\\anaconda3\\envs\\kaggle\\lib\\site-packages\\pandas\\io\\parsers\\readers.py:1705\u001b[0m, in \u001b[0;36mTextFileReader._make_engine\u001b[1;34m(self, f, engine)\u001b[0m\n\u001b[0;32m   1703\u001b[0m     \u001b[38;5;28;01mif\u001b[39;00m \u001b[38;5;124m\"\u001b[39m\u001b[38;5;124mb\u001b[39m\u001b[38;5;124m\"\u001b[39m \u001b[38;5;129;01mnot\u001b[39;00m \u001b[38;5;129;01min\u001b[39;00m mode:\n\u001b[0;32m   1704\u001b[0m         mode \u001b[38;5;241m+\u001b[39m\u001b[38;5;241m=\u001b[39m \u001b[38;5;124m\"\u001b[39m\u001b[38;5;124mb\u001b[39m\u001b[38;5;124m\"\u001b[39m\n\u001b[1;32m-> 1705\u001b[0m \u001b[38;5;28mself\u001b[39m\u001b[38;5;241m.\u001b[39mhandles \u001b[38;5;241m=\u001b[39m \u001b[43mget_handle\u001b[49m\u001b[43m(\u001b[49m\n\u001b[0;32m   1706\u001b[0m \u001b[43m    \u001b[49m\u001b[43mf\u001b[49m\u001b[43m,\u001b[49m\n\u001b[0;32m   1707\u001b[0m \u001b[43m    \u001b[49m\u001b[43mmode\u001b[49m\u001b[43m,\u001b[49m\n\u001b[0;32m   1708\u001b[0m \u001b[43m    \u001b[49m\u001b[43mencoding\u001b[49m\u001b[38;5;241;43m=\u001b[39;49m\u001b[38;5;28;43mself\u001b[39;49m\u001b[38;5;241;43m.\u001b[39;49m\u001b[43moptions\u001b[49m\u001b[38;5;241;43m.\u001b[39;49m\u001b[43mget\u001b[49m\u001b[43m(\u001b[49m\u001b[38;5;124;43m\"\u001b[39;49m\u001b[38;5;124;43mencoding\u001b[39;49m\u001b[38;5;124;43m\"\u001b[39;49m\u001b[43m,\u001b[49m\u001b[43m \u001b[49m\u001b[38;5;28;43;01mNone\u001b[39;49;00m\u001b[43m)\u001b[49m\u001b[43m,\u001b[49m\n\u001b[0;32m   1709\u001b[0m \u001b[43m    \u001b[49m\u001b[43mcompression\u001b[49m\u001b[38;5;241;43m=\u001b[39;49m\u001b[38;5;28;43mself\u001b[39;49m\u001b[38;5;241;43m.\u001b[39;49m\u001b[43moptions\u001b[49m\u001b[38;5;241;43m.\u001b[39;49m\u001b[43mget\u001b[49m\u001b[43m(\u001b[49m\u001b[38;5;124;43m\"\u001b[39;49m\u001b[38;5;124;43mcompression\u001b[39;49m\u001b[38;5;124;43m\"\u001b[39;49m\u001b[43m,\u001b[49m\u001b[43m \u001b[49m\u001b[38;5;28;43;01mNone\u001b[39;49;00m\u001b[43m)\u001b[49m\u001b[43m,\u001b[49m\n\u001b[0;32m   1710\u001b[0m \u001b[43m    \u001b[49m\u001b[43mmemory_map\u001b[49m\u001b[38;5;241;43m=\u001b[39;49m\u001b[38;5;28;43mself\u001b[39;49m\u001b[38;5;241;43m.\u001b[39;49m\u001b[43moptions\u001b[49m\u001b[38;5;241;43m.\u001b[39;49m\u001b[43mget\u001b[49m\u001b[43m(\u001b[49m\u001b[38;5;124;43m\"\u001b[39;49m\u001b[38;5;124;43mmemory_map\u001b[39;49m\u001b[38;5;124;43m\"\u001b[39;49m\u001b[43m,\u001b[49m\u001b[43m \u001b[49m\u001b[38;5;28;43;01mFalse\u001b[39;49;00m\u001b[43m)\u001b[49m\u001b[43m,\u001b[49m\n\u001b[0;32m   1711\u001b[0m \u001b[43m    \u001b[49m\u001b[43mis_text\u001b[49m\u001b[38;5;241;43m=\u001b[39;49m\u001b[43mis_text\u001b[49m\u001b[43m,\u001b[49m\n\u001b[0;32m   1712\u001b[0m \u001b[43m    \u001b[49m\u001b[43merrors\u001b[49m\u001b[38;5;241;43m=\u001b[39;49m\u001b[38;5;28;43mself\u001b[39;49m\u001b[38;5;241;43m.\u001b[39;49m\u001b[43moptions\u001b[49m\u001b[38;5;241;43m.\u001b[39;49m\u001b[43mget\u001b[49m\u001b[43m(\u001b[49m\u001b[38;5;124;43m\"\u001b[39;49m\u001b[38;5;124;43mencoding_errors\u001b[39;49m\u001b[38;5;124;43m\"\u001b[39;49m\u001b[43m,\u001b[49m\u001b[43m \u001b[49m\u001b[38;5;124;43m\"\u001b[39;49m\u001b[38;5;124;43mstrict\u001b[39;49m\u001b[38;5;124;43m\"\u001b[39;49m\u001b[43m)\u001b[49m\u001b[43m,\u001b[49m\n\u001b[0;32m   1713\u001b[0m \u001b[43m    \u001b[49m\u001b[43mstorage_options\u001b[49m\u001b[38;5;241;43m=\u001b[39;49m\u001b[38;5;28;43mself\u001b[39;49m\u001b[38;5;241;43m.\u001b[39;49m\u001b[43moptions\u001b[49m\u001b[38;5;241;43m.\u001b[39;49m\u001b[43mget\u001b[49m\u001b[43m(\u001b[49m\u001b[38;5;124;43m\"\u001b[39;49m\u001b[38;5;124;43mstorage_options\u001b[39;49m\u001b[38;5;124;43m\"\u001b[39;49m\u001b[43m,\u001b[49m\u001b[43m \u001b[49m\u001b[38;5;28;43;01mNone\u001b[39;49;00m\u001b[43m)\u001b[49m\u001b[43m,\u001b[49m\n\u001b[0;32m   1714\u001b[0m \u001b[43m\u001b[49m\u001b[43m)\u001b[49m\n\u001b[0;32m   1715\u001b[0m \u001b[38;5;28;01massert\u001b[39;00m \u001b[38;5;28mself\u001b[39m\u001b[38;5;241m.\u001b[39mhandles \u001b[38;5;129;01mis\u001b[39;00m \u001b[38;5;129;01mnot\u001b[39;00m \u001b[38;5;28;01mNone\u001b[39;00m\n\u001b[0;32m   1716\u001b[0m f \u001b[38;5;241m=\u001b[39m \u001b[38;5;28mself\u001b[39m\u001b[38;5;241m.\u001b[39mhandles\u001b[38;5;241m.\u001b[39mhandle\n",
      "File \u001b[1;32mc:\\Users\\omark\\anaconda3\\envs\\kaggle\\lib\\site-packages\\pandas\\io\\common.py:863\u001b[0m, in \u001b[0;36mget_handle\u001b[1;34m(path_or_buf, mode, encoding, compression, memory_map, is_text, errors, storage_options)\u001b[0m\n\u001b[0;32m    858\u001b[0m \u001b[38;5;28;01melif\u001b[39;00m \u001b[38;5;28misinstance\u001b[39m(handle, \u001b[38;5;28mstr\u001b[39m):\n\u001b[0;32m    859\u001b[0m     \u001b[38;5;66;03m# Check whether the filename is to be opened in binary mode.\u001b[39;00m\n\u001b[0;32m    860\u001b[0m     \u001b[38;5;66;03m# Binary mode does not support 'encoding' and 'newline'.\u001b[39;00m\n\u001b[0;32m    861\u001b[0m     \u001b[38;5;28;01mif\u001b[39;00m ioargs\u001b[38;5;241m.\u001b[39mencoding \u001b[38;5;129;01mand\u001b[39;00m \u001b[38;5;124m\"\u001b[39m\u001b[38;5;124mb\u001b[39m\u001b[38;5;124m\"\u001b[39m \u001b[38;5;129;01mnot\u001b[39;00m \u001b[38;5;129;01min\u001b[39;00m ioargs\u001b[38;5;241m.\u001b[39mmode:\n\u001b[0;32m    862\u001b[0m         \u001b[38;5;66;03m# Encoding\u001b[39;00m\n\u001b[1;32m--> 863\u001b[0m         handle \u001b[38;5;241m=\u001b[39m \u001b[38;5;28;43mopen\u001b[39;49m\u001b[43m(\u001b[49m\n\u001b[0;32m    864\u001b[0m \u001b[43m            \u001b[49m\u001b[43mhandle\u001b[49m\u001b[43m,\u001b[49m\n\u001b[0;32m    865\u001b[0m \u001b[43m            \u001b[49m\u001b[43mioargs\u001b[49m\u001b[38;5;241;43m.\u001b[39;49m\u001b[43mmode\u001b[49m\u001b[43m,\u001b[49m\n\u001b[0;32m    866\u001b[0m \u001b[43m            \u001b[49m\u001b[43mencoding\u001b[49m\u001b[38;5;241;43m=\u001b[39;49m\u001b[43mioargs\u001b[49m\u001b[38;5;241;43m.\u001b[39;49m\u001b[43mencoding\u001b[49m\u001b[43m,\u001b[49m\n\u001b[0;32m    867\u001b[0m \u001b[43m            \u001b[49m\u001b[43merrors\u001b[49m\u001b[38;5;241;43m=\u001b[39;49m\u001b[43merrors\u001b[49m\u001b[43m,\u001b[49m\n\u001b[0;32m    868\u001b[0m \u001b[43m            \u001b[49m\u001b[43mnewline\u001b[49m\u001b[38;5;241;43m=\u001b[39;49m\u001b[38;5;124;43m\"\u001b[39;49m\u001b[38;5;124;43m\"\u001b[39;49m\u001b[43m,\u001b[49m\n\u001b[0;32m    869\u001b[0m \u001b[43m        \u001b[49m\u001b[43m)\u001b[49m\n\u001b[0;32m    870\u001b[0m     \u001b[38;5;28;01melse\u001b[39;00m:\n\u001b[0;32m    871\u001b[0m         \u001b[38;5;66;03m# Binary mode\u001b[39;00m\n\u001b[0;32m    872\u001b[0m         handle \u001b[38;5;241m=\u001b[39m \u001b[38;5;28mopen\u001b[39m(handle, ioargs\u001b[38;5;241m.\u001b[39mmode)\n",
      "\u001b[1;31mFileNotFoundError\u001b[0m: [Errno 2] No such file or directory: '/kaggle/output/sample_submission.csv'"
     ]
    }
   ],
   "source": [
    "submission_df = pd.read_csv('/kaggle/output/sample_submission.csv')\n",
    "\n",
    "print(submission_df.shape)\n",
    "submission_df.head()"
   ]
  },
  {
   "cell_type": "code",
   "execution_count": 3,
   "id": "7f020169",
   "metadata": {
    "execution": {
     "iopub.execute_input": "2024-01-21T00:17:19.548009Z",
     "iopub.status.busy": "2024-01-21T00:17:19.547264Z",
     "iopub.status.idle": "2024-01-21T00:17:19.826849Z",
     "shell.execute_reply": "2024-01-21T00:17:19.825391Z"
    },
    "papermill": {
     "duration": 0.299761,
     "end_time": "2024-01-21T00:17:19.829507",
     "exception": false,
     "start_time": "2024-01-21T00:17:19.529746",
     "status": "completed"
    },
    "tags": []
   },
   "outputs": [
    {
     "name": "stdout",
     "output_type": "stream",
     "text": [
      "(110023, 13)\n"
     ]
    },
    {
     "data": {
      "text/html": [
       "<div>\n",
       "<style scoped>\n",
       "    .dataframe tbody tr th:only-of-type {\n",
       "        vertical-align: middle;\n",
       "    }\n",
       "\n",
       "    .dataframe tbody tr th {\n",
       "        vertical-align: top;\n",
       "    }\n",
       "\n",
       "    .dataframe thead th {\n",
       "        text-align: right;\n",
       "    }\n",
       "</style>\n",
       "<table border=\"1\" class=\"dataframe\">\n",
       "  <thead>\n",
       "    <tr style=\"text-align: right;\">\n",
       "      <th></th>\n",
       "      <th>id</th>\n",
       "      <th>CustomerId</th>\n",
       "      <th>Surname</th>\n",
       "      <th>CreditScore</th>\n",
       "      <th>Geography</th>\n",
       "      <th>Gender</th>\n",
       "      <th>Age</th>\n",
       "      <th>Tenure</th>\n",
       "      <th>Balance</th>\n",
       "      <th>NumOfProducts</th>\n",
       "      <th>HasCrCard</th>\n",
       "      <th>IsActiveMember</th>\n",
       "      <th>EstimatedSalary</th>\n",
       "    </tr>\n",
       "  </thead>\n",
       "  <tbody>\n",
       "    <tr>\n",
       "      <th>0</th>\n",
       "      <td>165034</td>\n",
       "      <td>15773898</td>\n",
       "      <td>Lucchese</td>\n",
       "      <td>586</td>\n",
       "      <td>France</td>\n",
       "      <td>Female</td>\n",
       "      <td>23.0</td>\n",
       "      <td>2</td>\n",
       "      <td>0.00</td>\n",
       "      <td>2</td>\n",
       "      <td>0.0</td>\n",
       "      <td>1.0</td>\n",
       "      <td>160976.75</td>\n",
       "    </tr>\n",
       "    <tr>\n",
       "      <th>1</th>\n",
       "      <td>165035</td>\n",
       "      <td>15782418</td>\n",
       "      <td>Nott</td>\n",
       "      <td>683</td>\n",
       "      <td>France</td>\n",
       "      <td>Female</td>\n",
       "      <td>46.0</td>\n",
       "      <td>2</td>\n",
       "      <td>0.00</td>\n",
       "      <td>1</td>\n",
       "      <td>1.0</td>\n",
       "      <td>0.0</td>\n",
       "      <td>72549.27</td>\n",
       "    </tr>\n",
       "    <tr>\n",
       "      <th>2</th>\n",
       "      <td>165036</td>\n",
       "      <td>15807120</td>\n",
       "      <td>K?</td>\n",
       "      <td>656</td>\n",
       "      <td>France</td>\n",
       "      <td>Female</td>\n",
       "      <td>34.0</td>\n",
       "      <td>7</td>\n",
       "      <td>0.00</td>\n",
       "      <td>2</td>\n",
       "      <td>1.0</td>\n",
       "      <td>0.0</td>\n",
       "      <td>138882.09</td>\n",
       "    </tr>\n",
       "    <tr>\n",
       "      <th>3</th>\n",
       "      <td>165037</td>\n",
       "      <td>15808905</td>\n",
       "      <td>O'Donnell</td>\n",
       "      <td>681</td>\n",
       "      <td>France</td>\n",
       "      <td>Male</td>\n",
       "      <td>36.0</td>\n",
       "      <td>8</td>\n",
       "      <td>0.00</td>\n",
       "      <td>1</td>\n",
       "      <td>1.0</td>\n",
       "      <td>0.0</td>\n",
       "      <td>113931.57</td>\n",
       "    </tr>\n",
       "    <tr>\n",
       "      <th>4</th>\n",
       "      <td>165038</td>\n",
       "      <td>15607314</td>\n",
       "      <td>Higgins</td>\n",
       "      <td>752</td>\n",
       "      <td>Germany</td>\n",
       "      <td>Male</td>\n",
       "      <td>38.0</td>\n",
       "      <td>10</td>\n",
       "      <td>121263.62</td>\n",
       "      <td>1</td>\n",
       "      <td>1.0</td>\n",
       "      <td>0.0</td>\n",
       "      <td>139431.00</td>\n",
       "    </tr>\n",
       "  </tbody>\n",
       "</table>\n",
       "</div>"
      ],
      "text/plain": [
       "       id  CustomerId    Surname  CreditScore Geography  Gender   Age  Tenure  \\\n",
       "0  165034    15773898   Lucchese          586    France  Female  23.0       2   \n",
       "1  165035    15782418       Nott          683    France  Female  46.0       2   \n",
       "2  165036    15807120         K?          656    France  Female  34.0       7   \n",
       "3  165037    15808905  O'Donnell          681    France    Male  36.0       8   \n",
       "4  165038    15607314    Higgins          752   Germany    Male  38.0      10   \n",
       "\n",
       "     Balance  NumOfProducts  HasCrCard  IsActiveMember  EstimatedSalary  \n",
       "0       0.00              2        0.0             1.0        160976.75  \n",
       "1       0.00              1        1.0             0.0         72549.27  \n",
       "2       0.00              2        1.0             0.0        138882.09  \n",
       "3       0.00              1        1.0             0.0        113931.57  \n",
       "4  121263.62              1        1.0             0.0        139431.00  "
      ]
     },
     "execution_count": 3,
     "metadata": {},
     "output_type": "execute_result"
    }
   ],
   "source": [
    "test_df = pd.read_csv('/kaggle/input/playground-series-s4e1/test.csv')\n",
    "print(test_df.shape)\n",
    "test_df.head()"
   ]
  },
  {
   "cell_type": "code",
   "execution_count": 4,
   "id": "d4a1a1d9",
   "metadata": {
    "execution": {
     "iopub.execute_input": "2024-01-21T00:17:19.865587Z",
     "iopub.status.busy": "2024-01-21T00:17:19.865206Z",
     "iopub.status.idle": "2024-01-21T00:17:20.284189Z",
     "shell.execute_reply": "2024-01-21T00:17:20.282811Z"
    },
    "papermill": {
     "duration": 0.438916,
     "end_time": "2024-01-21T00:17:20.286432",
     "exception": false,
     "start_time": "2024-01-21T00:17:19.847516",
     "status": "completed"
    },
    "tags": []
   },
   "outputs": [
    {
     "name": "stdout",
     "output_type": "stream",
     "text": [
      "(165034, 14)\n"
     ]
    },
    {
     "data": {
      "text/html": [
       "<div>\n",
       "<style scoped>\n",
       "    .dataframe tbody tr th:only-of-type {\n",
       "        vertical-align: middle;\n",
       "    }\n",
       "\n",
       "    .dataframe tbody tr th {\n",
       "        vertical-align: top;\n",
       "    }\n",
       "\n",
       "    .dataframe thead th {\n",
       "        text-align: right;\n",
       "    }\n",
       "</style>\n",
       "<table border=\"1\" class=\"dataframe\">\n",
       "  <thead>\n",
       "    <tr style=\"text-align: right;\">\n",
       "      <th></th>\n",
       "      <th>id</th>\n",
       "      <th>CustomerId</th>\n",
       "      <th>Surname</th>\n",
       "      <th>CreditScore</th>\n",
       "      <th>Geography</th>\n",
       "      <th>Gender</th>\n",
       "      <th>Age</th>\n",
       "      <th>Tenure</th>\n",
       "      <th>Balance</th>\n",
       "      <th>NumOfProducts</th>\n",
       "      <th>HasCrCard</th>\n",
       "      <th>IsActiveMember</th>\n",
       "      <th>EstimatedSalary</th>\n",
       "      <th>Exited</th>\n",
       "    </tr>\n",
       "  </thead>\n",
       "  <tbody>\n",
       "    <tr>\n",
       "      <th>0</th>\n",
       "      <td>0</td>\n",
       "      <td>15674932</td>\n",
       "      <td>Okwudilichukwu</td>\n",
       "      <td>668</td>\n",
       "      <td>France</td>\n",
       "      <td>Male</td>\n",
       "      <td>33.0</td>\n",
       "      <td>3</td>\n",
       "      <td>0.00</td>\n",
       "      <td>2</td>\n",
       "      <td>1.0</td>\n",
       "      <td>0.0</td>\n",
       "      <td>181449.97</td>\n",
       "      <td>0</td>\n",
       "    </tr>\n",
       "    <tr>\n",
       "      <th>1</th>\n",
       "      <td>1</td>\n",
       "      <td>15749177</td>\n",
       "      <td>Okwudiliolisa</td>\n",
       "      <td>627</td>\n",
       "      <td>France</td>\n",
       "      <td>Male</td>\n",
       "      <td>33.0</td>\n",
       "      <td>1</td>\n",
       "      <td>0.00</td>\n",
       "      <td>2</td>\n",
       "      <td>1.0</td>\n",
       "      <td>1.0</td>\n",
       "      <td>49503.50</td>\n",
       "      <td>0</td>\n",
       "    </tr>\n",
       "    <tr>\n",
       "      <th>2</th>\n",
       "      <td>2</td>\n",
       "      <td>15694510</td>\n",
       "      <td>Hsueh</td>\n",
       "      <td>678</td>\n",
       "      <td>France</td>\n",
       "      <td>Male</td>\n",
       "      <td>40.0</td>\n",
       "      <td>10</td>\n",
       "      <td>0.00</td>\n",
       "      <td>2</td>\n",
       "      <td>1.0</td>\n",
       "      <td>0.0</td>\n",
       "      <td>184866.69</td>\n",
       "      <td>0</td>\n",
       "    </tr>\n",
       "    <tr>\n",
       "      <th>3</th>\n",
       "      <td>3</td>\n",
       "      <td>15741417</td>\n",
       "      <td>Kao</td>\n",
       "      <td>581</td>\n",
       "      <td>France</td>\n",
       "      <td>Male</td>\n",
       "      <td>34.0</td>\n",
       "      <td>2</td>\n",
       "      <td>148882.54</td>\n",
       "      <td>1</td>\n",
       "      <td>1.0</td>\n",
       "      <td>1.0</td>\n",
       "      <td>84560.88</td>\n",
       "      <td>0</td>\n",
       "    </tr>\n",
       "    <tr>\n",
       "      <th>4</th>\n",
       "      <td>4</td>\n",
       "      <td>15766172</td>\n",
       "      <td>Chiemenam</td>\n",
       "      <td>716</td>\n",
       "      <td>Spain</td>\n",
       "      <td>Male</td>\n",
       "      <td>33.0</td>\n",
       "      <td>5</td>\n",
       "      <td>0.00</td>\n",
       "      <td>2</td>\n",
       "      <td>1.0</td>\n",
       "      <td>1.0</td>\n",
       "      <td>15068.83</td>\n",
       "      <td>0</td>\n",
       "    </tr>\n",
       "  </tbody>\n",
       "</table>\n",
       "</div>"
      ],
      "text/plain": [
       "   id  CustomerId         Surname  CreditScore Geography Gender   Age  Tenure  \\\n",
       "0   0    15674932  Okwudilichukwu          668    France   Male  33.0       3   \n",
       "1   1    15749177   Okwudiliolisa          627    France   Male  33.0       1   \n",
       "2   2    15694510           Hsueh          678    France   Male  40.0      10   \n",
       "3   3    15741417             Kao          581    France   Male  34.0       2   \n",
       "4   4    15766172       Chiemenam          716     Spain   Male  33.0       5   \n",
       "\n",
       "     Balance  NumOfProducts  HasCrCard  IsActiveMember  EstimatedSalary  \\\n",
       "0       0.00              2        1.0             0.0        181449.97   \n",
       "1       0.00              2        1.0             1.0         49503.50   \n",
       "2       0.00              2        1.0             0.0        184866.69   \n",
       "3  148882.54              1        1.0             1.0         84560.88   \n",
       "4       0.00              2        1.0             1.0         15068.83   \n",
       "\n",
       "   Exited  \n",
       "0       0  \n",
       "1       0  \n",
       "2       0  \n",
       "3       0  \n",
       "4       0  "
      ]
     },
     "execution_count": 4,
     "metadata": {},
     "output_type": "execute_result"
    }
   ],
   "source": [
    "train_df = pd.read_csv('/kaggle/input/playground-series-s4e1/train.csv')\n",
    "print(train_df.shape)\n",
    "train_df.head()"
   ]
  },
  {
   "cell_type": "code",
   "execution_count": 5,
   "id": "121297bd",
   "metadata": {
    "execution": {
     "iopub.execute_input": "2024-01-21T00:17:20.322126Z",
     "iopub.status.busy": "2024-01-21T00:17:20.321024Z",
     "iopub.status.idle": "2024-01-21T00:17:20.456054Z",
     "shell.execute_reply": "2024-01-21T00:17:20.454815Z"
    },
    "papermill": {
     "duration": 0.155561,
     "end_time": "2024-01-21T00:17:20.458640",
     "exception": false,
     "start_time": "2024-01-21T00:17:20.303079",
     "status": "completed"
    },
    "tags": []
   },
   "outputs": [
    {
     "name": "stdout",
     "output_type": "stream",
     "text": [
      "<class 'pandas.core.frame.DataFrame'>\n",
      "RangeIndex: 165034 entries, 0 to 165033\n",
      "Data columns (total 14 columns):\n",
      " #   Column           Non-Null Count   Dtype  \n",
      "---  ------           --------------   -----  \n",
      " 0   id               165034 non-null  int64  \n",
      " 1   CustomerId       165034 non-null  int64  \n",
      " 2   Surname          165034 non-null  object \n",
      " 3   CreditScore      165034 non-null  int64  \n",
      " 4   Geography        165034 non-null  object \n",
      " 5   Gender           165034 non-null  object \n",
      " 6   Age              165034 non-null  float64\n",
      " 7   Tenure           165034 non-null  int64  \n",
      " 8   Balance          165034 non-null  float64\n",
      " 9   NumOfProducts    165034 non-null  int64  \n",
      " 10  HasCrCard        165034 non-null  float64\n",
      " 11  IsActiveMember   165034 non-null  float64\n",
      " 12  EstimatedSalary  165034 non-null  float64\n",
      " 13  Exited           165034 non-null  int64  \n",
      "dtypes: float64(5), int64(6), object(3)\n",
      "memory usage: 17.6+ MB\n"
     ]
    }
   ],
   "source": [
    "train_df.info()\n",
    "# no null df but too big size (20MB limit in kaggle)"
   ]
  },
  {
   "cell_type": "code",
   "execution_count": 6,
   "id": "d0440637",
   "metadata": {
    "execution": {
     "iopub.execute_input": "2024-01-21T00:17:20.494870Z",
     "iopub.status.busy": "2024-01-21T00:17:20.494446Z",
     "iopub.status.idle": "2024-01-21T00:17:20.522908Z",
     "shell.execute_reply": "2024-01-21T00:17:20.521282Z"
    },
    "papermill": {
     "duration": 0.049994,
     "end_time": "2024-01-21T00:17:20.525550",
     "exception": false,
     "start_time": "2024-01-21T00:17:20.475556",
     "status": "completed"
    },
    "tags": []
   },
   "outputs": [
    {
     "name": "stdout",
     "output_type": "stream",
     "text": [
      "<class 'pandas.core.frame.DataFrame'>\n",
      "RangeIndex: 110023 entries, 0 to 110022\n",
      "Data columns (total 13 columns):\n",
      " #   Column           Non-Null Count   Dtype  \n",
      "---  ------           --------------   -----  \n",
      " 0   id               110023 non-null  int64  \n",
      " 1   CustomerId       110023 non-null  int64  \n",
      " 2   Surname          110023 non-null  object \n",
      " 3   CreditScore      110023 non-null  int64  \n",
      " 4   Geography        110023 non-null  object \n",
      " 5   Gender           110023 non-null  object \n",
      " 6   Age              110023 non-null  float64\n",
      " 7   Tenure           110023 non-null  int64  \n",
      " 8   Balance          110023 non-null  float64\n",
      " 9   NumOfProducts    110023 non-null  int64  \n",
      " 10  HasCrCard        110023 non-null  float64\n",
      " 11  IsActiveMember   110023 non-null  float64\n",
      " 12  EstimatedSalary  110023 non-null  float64\n",
      "dtypes: float64(5), int64(5), object(3)\n",
      "memory usage: 10.9+ MB\n"
     ]
    }
   ],
   "source": [
    "test_df.info()\n",
    "# no null df but still big size "
   ]
  },
  {
   "cell_type": "markdown",
   "id": "c92562b6",
   "metadata": {
    "papermill": {
     "duration": 0.079266,
     "end_time": "2024-01-21T00:17:20.621668",
     "exception": false,
     "start_time": "2024-01-21T00:17:20.542402",
     "status": "completed"
    },
    "tags": []
   },
   "source": [
    "# column description"
   ]
  },
  {
   "cell_type": "markdown",
   "id": "f6e4c58a",
   "metadata": {
    "papermill": {
     "duration": 0.016804,
     "end_time": "2024-01-21T00:17:20.655741",
     "exception": false,
     "start_time": "2024-01-21T00:17:20.638937",
     "status": "completed"
    },
    "tags": []
   },
   "source": [
    "- Customer ID: A unique identifier for each customer\n",
    "- Surname: The customer's surname or last name\n",
    "- Credit Score: A numerical value representing the customer's credit score\n",
    "- Geography: The country where the customer resides (France, Spain or Germany)\n",
    "- Gender: The customer's gender (Male or Female)\n",
    "- Age: The customer's age.\n",
    "- Tenure: The number of years the customer has been with the bank\n",
    "- Balance: The customer's account balance\n",
    "- NumOfProducts: The number of bank products the customer uses (e.g., savings account, credit card)\n",
    "- HasCrCard: Whether the customer has a credit card (1 = yes, 0 = no)\n",
    "- IsActiveMember: Whether the customer is an active member (1 = yes, 0 = no)\n",
    "- EstimatedSalary: The estimated salary of the customer\n",
    "- Exited: Whether the customer has churned (1 = yes, 0 = no)"
   ]
  },
  {
   "cell_type": "code",
   "execution_count": 7,
   "id": "5672aa0e",
   "metadata": {
    "execution": {
     "iopub.execute_input": "2024-01-21T00:17:20.692023Z",
     "iopub.status.busy": "2024-01-21T00:17:20.690833Z",
     "iopub.status.idle": "2024-01-21T00:17:20.794880Z",
     "shell.execute_reply": "2024-01-21T00:17:20.793755Z"
    },
    "papermill": {
     "duration": 0.124616,
     "end_time": "2024-01-21T00:17:20.797385",
     "exception": false,
     "start_time": "2024-01-21T00:17:20.672769",
     "status": "completed"
    },
    "tags": []
   },
   "outputs": [
    {
     "data": {
      "text/html": [
       "<div>\n",
       "<style scoped>\n",
       "    .dataframe tbody tr th:only-of-type {\n",
       "        vertical-align: middle;\n",
       "    }\n",
       "\n",
       "    .dataframe tbody tr th {\n",
       "        vertical-align: top;\n",
       "    }\n",
       "\n",
       "    .dataframe thead th {\n",
       "        text-align: right;\n",
       "    }\n",
       "</style>\n",
       "<table border=\"1\" class=\"dataframe\">\n",
       "  <thead>\n",
       "    <tr style=\"text-align: right;\">\n",
       "      <th></th>\n",
       "      <th>count</th>\n",
       "      <th>mean</th>\n",
       "      <th>std</th>\n",
       "      <th>min</th>\n",
       "      <th>25%</th>\n",
       "      <th>50%</th>\n",
       "      <th>75%</th>\n",
       "      <th>max</th>\n",
       "    </tr>\n",
       "  </thead>\n",
       "  <tbody>\n",
       "    <tr>\n",
       "      <th>id</th>\n",
       "      <td>165034.0</td>\n",
       "      <td>8.251650e+04</td>\n",
       "      <td>47641.356500</td>\n",
       "      <td>0.00</td>\n",
       "      <td>41258.25</td>\n",
       "      <td>82516.5</td>\n",
       "      <td>1.237748e+05</td>\n",
       "      <td>165033.00</td>\n",
       "    </tr>\n",
       "    <tr>\n",
       "      <th>CustomerId</th>\n",
       "      <td>165034.0</td>\n",
       "      <td>1.569201e+07</td>\n",
       "      <td>71397.816791</td>\n",
       "      <td>15565701.00</td>\n",
       "      <td>15633141.00</td>\n",
       "      <td>15690169.0</td>\n",
       "      <td>1.575682e+07</td>\n",
       "      <td>15815690.00</td>\n",
       "    </tr>\n",
       "    <tr>\n",
       "      <th>CreditScore</th>\n",
       "      <td>165034.0</td>\n",
       "      <td>6.564544e+02</td>\n",
       "      <td>80.103340</td>\n",
       "      <td>350.00</td>\n",
       "      <td>597.00</td>\n",
       "      <td>659.0</td>\n",
       "      <td>7.100000e+02</td>\n",
       "      <td>850.00</td>\n",
       "    </tr>\n",
       "    <tr>\n",
       "      <th>Age</th>\n",
       "      <td>165034.0</td>\n",
       "      <td>3.812589e+01</td>\n",
       "      <td>8.867205</td>\n",
       "      <td>18.00</td>\n",
       "      <td>32.00</td>\n",
       "      <td>37.0</td>\n",
       "      <td>4.200000e+01</td>\n",
       "      <td>92.00</td>\n",
       "    </tr>\n",
       "    <tr>\n",
       "      <th>Tenure</th>\n",
       "      <td>165034.0</td>\n",
       "      <td>5.020353e+00</td>\n",
       "      <td>2.806159</td>\n",
       "      <td>0.00</td>\n",
       "      <td>3.00</td>\n",
       "      <td>5.0</td>\n",
       "      <td>7.000000e+00</td>\n",
       "      <td>10.00</td>\n",
       "    </tr>\n",
       "    <tr>\n",
       "      <th>Balance</th>\n",
       "      <td>165034.0</td>\n",
       "      <td>5.547809e+04</td>\n",
       "      <td>62817.663278</td>\n",
       "      <td>0.00</td>\n",
       "      <td>0.00</td>\n",
       "      <td>0.0</td>\n",
       "      <td>1.199395e+05</td>\n",
       "      <td>250898.09</td>\n",
       "    </tr>\n",
       "    <tr>\n",
       "      <th>NumOfProducts</th>\n",
       "      <td>165034.0</td>\n",
       "      <td>1.554455e+00</td>\n",
       "      <td>0.547154</td>\n",
       "      <td>1.00</td>\n",
       "      <td>1.00</td>\n",
       "      <td>2.0</td>\n",
       "      <td>2.000000e+00</td>\n",
       "      <td>4.00</td>\n",
       "    </tr>\n",
       "    <tr>\n",
       "      <th>HasCrCard</th>\n",
       "      <td>165034.0</td>\n",
       "      <td>7.539537e-01</td>\n",
       "      <td>0.430707</td>\n",
       "      <td>0.00</td>\n",
       "      <td>1.00</td>\n",
       "      <td>1.0</td>\n",
       "      <td>1.000000e+00</td>\n",
       "      <td>1.00</td>\n",
       "    </tr>\n",
       "    <tr>\n",
       "      <th>IsActiveMember</th>\n",
       "      <td>165034.0</td>\n",
       "      <td>4.977702e-01</td>\n",
       "      <td>0.499997</td>\n",
       "      <td>0.00</td>\n",
       "      <td>0.00</td>\n",
       "      <td>0.0</td>\n",
       "      <td>1.000000e+00</td>\n",
       "      <td>1.00</td>\n",
       "    </tr>\n",
       "    <tr>\n",
       "      <th>EstimatedSalary</th>\n",
       "      <td>165034.0</td>\n",
       "      <td>1.125748e+05</td>\n",
       "      <td>50292.865585</td>\n",
       "      <td>11.58</td>\n",
       "      <td>74637.57</td>\n",
       "      <td>117948.0</td>\n",
       "      <td>1.551525e+05</td>\n",
       "      <td>199992.48</td>\n",
       "    </tr>\n",
       "    <tr>\n",
       "      <th>Exited</th>\n",
       "      <td>165034.0</td>\n",
       "      <td>2.115988e-01</td>\n",
       "      <td>0.408443</td>\n",
       "      <td>0.00</td>\n",
       "      <td>0.00</td>\n",
       "      <td>0.0</td>\n",
       "      <td>0.000000e+00</td>\n",
       "      <td>1.00</td>\n",
       "    </tr>\n",
       "  </tbody>\n",
       "</table>\n",
       "</div>"
      ],
      "text/plain": [
       "                    count          mean           std          min  \\\n",
       "id               165034.0  8.251650e+04  47641.356500         0.00   \n",
       "CustomerId       165034.0  1.569201e+07  71397.816791  15565701.00   \n",
       "CreditScore      165034.0  6.564544e+02     80.103340       350.00   \n",
       "Age              165034.0  3.812589e+01      8.867205        18.00   \n",
       "Tenure           165034.0  5.020353e+00      2.806159         0.00   \n",
       "Balance          165034.0  5.547809e+04  62817.663278         0.00   \n",
       "NumOfProducts    165034.0  1.554455e+00      0.547154         1.00   \n",
       "HasCrCard        165034.0  7.539537e-01      0.430707         0.00   \n",
       "IsActiveMember   165034.0  4.977702e-01      0.499997         0.00   \n",
       "EstimatedSalary  165034.0  1.125748e+05  50292.865585        11.58   \n",
       "Exited           165034.0  2.115988e-01      0.408443         0.00   \n",
       "\n",
       "                         25%         50%           75%          max  \n",
       "id                  41258.25     82516.5  1.237748e+05    165033.00  \n",
       "CustomerId       15633141.00  15690169.0  1.575682e+07  15815690.00  \n",
       "CreditScore           597.00       659.0  7.100000e+02       850.00  \n",
       "Age                    32.00        37.0  4.200000e+01        92.00  \n",
       "Tenure                  3.00         5.0  7.000000e+00        10.00  \n",
       "Balance                 0.00         0.0  1.199395e+05    250898.09  \n",
       "NumOfProducts           1.00         2.0  2.000000e+00         4.00  \n",
       "HasCrCard               1.00         1.0  1.000000e+00         1.00  \n",
       "IsActiveMember          0.00         0.0  1.000000e+00         1.00  \n",
       "EstimatedSalary     74637.57    117948.0  1.551525e+05    199992.48  \n",
       "Exited                  0.00         0.0  0.000000e+00         1.00  "
      ]
     },
     "execution_count": 7,
     "metadata": {},
     "output_type": "execute_result"
    }
   ],
   "source": [
    "train_df.describe().T"
   ]
  },
  {
   "cell_type": "markdown",
   "id": "3eb40b15",
   "metadata": {
    "papermill": {
     "duration": 0.01959,
     "end_time": "2024-01-21T00:17:20.837107",
     "exception": false,
     "start_time": "2024-01-21T00:17:20.817517",
     "status": "completed"
    },
    "tags": []
   },
   "source": [
    "# generate new Features and selection"
   ]
  },
  {
   "cell_type": "code",
   "execution_count": 8,
   "id": "66ef898c",
   "metadata": {
    "execution": {
     "iopub.execute_input": "2024-01-21T00:17:20.880785Z",
     "iopub.status.busy": "2024-01-21T00:17:20.880379Z",
     "iopub.status.idle": "2024-01-21T00:17:20.897927Z",
     "shell.execute_reply": "2024-01-21T00:17:20.896548Z"
    },
    "papermill": {
     "duration": 0.041311,
     "end_time": "2024-01-21T00:17:20.900607",
     "exception": false,
     "start_time": "2024-01-21T00:17:20.859296",
     "status": "completed"
    },
    "tags": []
   },
   "outputs": [],
   "source": [
    "train_df['CreditScore_to_Age'] = train_df['CreditScore'] / train_df['Age']\n",
    "# train_df['Balance_to_Age'] = train_df['Balance'] / train_df['Age']\n",
    "# train_df['Age_Tenure'] = train_df['Age'] - train_df['Tenure']\n",
    "train_df['NumOfProducts_to_Tenure'] = train_df['NumOfProducts'] / (train_df['Tenure']+1)\n",
    "# train_df['CreditScore_to_Salary'] = train_df['CreditScore'] / train_df['EstimatedSalary']\n",
    "train_df['Balance_to_Salary'] = train_df['Balance'] / train_df['EstimatedSalary']\n",
    "# train_df['NumOfProducts_to_Salary'] = train_df['NumOfProducts'] / train_df['EstimatedSalary']\n",
    "\n",
    "test_df['CreditScore_to_Age'] = test_df['CreditScore'] / test_df['Age']\n",
    "# test_df['Balance_to_Age'] = test_df['Balance'] / test_df['Age']\n",
    "# test_df['Age_Tenure'] = test_df['Age'] - test_df['Tenure']\n",
    "test_df['NumOfProducts_to_Tenure'] = test_df['NumOfProducts'] / (test_df['Tenure']+1)\n",
    "# test_df['CreditScore_to_Salary'] = test_df['CreditScore'] / test_df['EstimatedSalary']\n",
    "test_df['Balance_to_Salary'] = test_df['Balance'] / test_df['EstimatedSalary']\n",
    "# test_df['NumOfProducts_to_Salary'] = test_df['NumOfProducts'] / test_df['EstimatedSalary']"
   ]
  },
  {
   "cell_type": "markdown",
   "id": "8a0d7654",
   "metadata": {
    "papermill": {
     "duration": 0.023538,
     "end_time": "2024-01-21T00:17:20.947273",
     "exception": false,
     "start_time": "2024-01-21T00:17:20.923735",
     "status": "completed"
    },
    "tags": []
   },
   "source": [
    "# feature, target and test data"
   ]
  },
  {
   "cell_type": "code",
   "execution_count": 9,
   "id": "fb6f7f73",
   "metadata": {
    "execution": {
     "iopub.execute_input": "2024-01-21T00:17:20.989644Z",
     "iopub.status.busy": "2024-01-21T00:17:20.988601Z",
     "iopub.status.idle": "2024-01-21T00:17:21.011428Z",
     "shell.execute_reply": "2024-01-21T00:17:21.010513Z"
    },
    "papermill": {
     "duration": 0.044082,
     "end_time": "2024-01-21T00:17:21.013789",
     "exception": false,
     "start_time": "2024-01-21T00:17:20.969707",
     "status": "completed"
    },
    "tags": []
   },
   "outputs": [],
   "source": [
    "feature = train_df.drop([\"id\", \"CustomerId\", \"Surname\", \"Exited\"], axis=1)\n",
    "target = train_df['Exited']\n",
    "test = test_df.drop([\"id\",\"CustomerId\", \"Surname\"], axis=1)"
   ]
  },
  {
   "cell_type": "code",
   "execution_count": 10,
   "id": "7cb13195",
   "metadata": {
    "execution": {
     "iopub.execute_input": "2024-01-21T00:17:21.051009Z",
     "iopub.status.busy": "2024-01-21T00:17:21.049979Z",
     "iopub.status.idle": "2024-01-21T00:17:21.080670Z",
     "shell.execute_reply": "2024-01-21T00:17:21.079293Z"
    },
    "papermill": {
     "duration": 0.052129,
     "end_time": "2024-01-21T00:17:21.083219",
     "exception": false,
     "start_time": "2024-01-21T00:17:21.031090",
     "status": "completed"
    },
    "tags": []
   },
   "outputs": [
    {
     "name": "stdout",
     "output_type": "stream",
     "text": [
      "<class 'pandas.core.frame.DataFrame'>\n",
      "RangeIndex: 165034 entries, 0 to 165033\n",
      "Data columns (total 13 columns):\n",
      " #   Column                   Non-Null Count   Dtype  \n",
      "---  ------                   --------------   -----  \n",
      " 0   CreditScore              165034 non-null  int64  \n",
      " 1   Geography                165034 non-null  object \n",
      " 2   Gender                   165034 non-null  object \n",
      " 3   Age                      165034 non-null  float64\n",
      " 4   Tenure                   165034 non-null  int64  \n",
      " 5   Balance                  165034 non-null  float64\n",
      " 6   NumOfProducts            165034 non-null  int64  \n",
      " 7   HasCrCard                165034 non-null  float64\n",
      " 8   IsActiveMember           165034 non-null  float64\n",
      " 9   EstimatedSalary          165034 non-null  float64\n",
      " 10  CreditScore_to_Age       165034 non-null  float64\n",
      " 11  NumOfProducts_to_Tenure  165034 non-null  float64\n",
      " 12  Balance_to_Salary        165034 non-null  float64\n",
      "dtypes: float64(8), int64(3), object(2)\n",
      "memory usage: 16.4+ MB\n"
     ]
    }
   ],
   "source": [
    "feature.info()"
   ]
  },
  {
   "cell_type": "code",
   "execution_count": 11,
   "id": "013550a5",
   "metadata": {
    "execution": {
     "iopub.execute_input": "2024-01-21T00:17:21.123352Z",
     "iopub.status.busy": "2024-01-21T00:17:21.122521Z",
     "iopub.status.idle": "2024-01-21T00:17:21.137900Z",
     "shell.execute_reply": "2024-01-21T00:17:21.136505Z"
    },
    "papermill": {
     "duration": 0.04063,
     "end_time": "2024-01-21T00:17:21.141108",
     "exception": false,
     "start_time": "2024-01-21T00:17:21.100478",
     "status": "completed"
    },
    "tags": []
   },
   "outputs": [
    {
     "name": "stdout",
     "output_type": "stream",
     "text": [
      "<class 'pandas.core.frame.DataFrame'>\n",
      "RangeIndex: 165034 entries, 0 to 165033\n",
      "Data columns (total 1 columns):\n",
      " #   Column  Non-Null Count   Dtype\n",
      "---  ------  --------------   -----\n",
      " 0   Exited  165034 non-null  int64\n",
      "dtypes: int64(1)\n",
      "memory usage: 1.3 MB\n"
     ]
    }
   ],
   "source": [
    "train_df[['Exited']].info()"
   ]
  },
  {
   "cell_type": "code",
   "execution_count": 12,
   "id": "61188033",
   "metadata": {
    "execution": {
     "iopub.execute_input": "2024-01-21T00:17:21.189410Z",
     "iopub.status.busy": "2024-01-21T00:17:21.188982Z",
     "iopub.status.idle": "2024-01-21T00:17:21.229817Z",
     "shell.execute_reply": "2024-01-21T00:17:21.229047Z"
    },
    "papermill": {
     "duration": 0.06869,
     "end_time": "2024-01-21T00:17:21.232033",
     "exception": false,
     "start_time": "2024-01-21T00:17:21.163343",
     "status": "completed"
    },
    "tags": []
   },
   "outputs": [
    {
     "data": {
      "text/html": [
       "<div>\n",
       "<style scoped>\n",
       "    .dataframe tbody tr th:only-of-type {\n",
       "        vertical-align: middle;\n",
       "    }\n",
       "\n",
       "    .dataframe tbody tr th {\n",
       "        vertical-align: top;\n",
       "    }\n",
       "\n",
       "    .dataframe thead th {\n",
       "        text-align: right;\n",
       "    }\n",
       "</style>\n",
       "<table border=\"1\" class=\"dataframe\">\n",
       "  <thead>\n",
       "    <tr style=\"text-align: right;\">\n",
       "      <th></th>\n",
       "      <th>CreditScore</th>\n",
       "      <th>Geography</th>\n",
       "      <th>Gender</th>\n",
       "      <th>Age</th>\n",
       "      <th>Tenure</th>\n",
       "      <th>Balance</th>\n",
       "      <th>NumOfProducts</th>\n",
       "      <th>HasCrCard</th>\n",
       "      <th>IsActiveMember</th>\n",
       "      <th>EstimatedSalary</th>\n",
       "      <th>CreditScore_to_Age</th>\n",
       "      <th>NumOfProducts_to_Tenure</th>\n",
       "      <th>Balance_to_Salary</th>\n",
       "      <th>Exited</th>\n",
       "    </tr>\n",
       "  </thead>\n",
       "  <tbody>\n",
       "    <tr>\n",
       "      <th>0</th>\n",
       "      <td>668</td>\n",
       "      <td>France</td>\n",
       "      <td>Male</td>\n",
       "      <td>33.0</td>\n",
       "      <td>3</td>\n",
       "      <td>0.00</td>\n",
       "      <td>2</td>\n",
       "      <td>1.0</td>\n",
       "      <td>0.0</td>\n",
       "      <td>181449.97</td>\n",
       "      <td>20.242424</td>\n",
       "      <td>0.500000</td>\n",
       "      <td>0.000000</td>\n",
       "      <td>0</td>\n",
       "    </tr>\n",
       "    <tr>\n",
       "      <th>1</th>\n",
       "      <td>627</td>\n",
       "      <td>France</td>\n",
       "      <td>Male</td>\n",
       "      <td>33.0</td>\n",
       "      <td>1</td>\n",
       "      <td>0.00</td>\n",
       "      <td>2</td>\n",
       "      <td>1.0</td>\n",
       "      <td>1.0</td>\n",
       "      <td>49503.50</td>\n",
       "      <td>19.000000</td>\n",
       "      <td>1.000000</td>\n",
       "      <td>0.000000</td>\n",
       "      <td>0</td>\n",
       "    </tr>\n",
       "    <tr>\n",
       "      <th>2</th>\n",
       "      <td>678</td>\n",
       "      <td>France</td>\n",
       "      <td>Male</td>\n",
       "      <td>40.0</td>\n",
       "      <td>10</td>\n",
       "      <td>0.00</td>\n",
       "      <td>2</td>\n",
       "      <td>1.0</td>\n",
       "      <td>0.0</td>\n",
       "      <td>184866.69</td>\n",
       "      <td>16.950000</td>\n",
       "      <td>0.181818</td>\n",
       "      <td>0.000000</td>\n",
       "      <td>0</td>\n",
       "    </tr>\n",
       "    <tr>\n",
       "      <th>3</th>\n",
       "      <td>581</td>\n",
       "      <td>France</td>\n",
       "      <td>Male</td>\n",
       "      <td>34.0</td>\n",
       "      <td>2</td>\n",
       "      <td>148882.54</td>\n",
       "      <td>1</td>\n",
       "      <td>1.0</td>\n",
       "      <td>1.0</td>\n",
       "      <td>84560.88</td>\n",
       "      <td>17.088235</td>\n",
       "      <td>0.333333</td>\n",
       "      <td>1.760655</td>\n",
       "      <td>0</td>\n",
       "    </tr>\n",
       "    <tr>\n",
       "      <th>4</th>\n",
       "      <td>716</td>\n",
       "      <td>Spain</td>\n",
       "      <td>Male</td>\n",
       "      <td>33.0</td>\n",
       "      <td>5</td>\n",
       "      <td>0.00</td>\n",
       "      <td>2</td>\n",
       "      <td>1.0</td>\n",
       "      <td>1.0</td>\n",
       "      <td>15068.83</td>\n",
       "      <td>21.696970</td>\n",
       "      <td>0.333333</td>\n",
       "      <td>0.000000</td>\n",
       "      <td>0</td>\n",
       "    </tr>\n",
       "    <tr>\n",
       "      <th>...</th>\n",
       "      <td>...</td>\n",
       "      <td>...</td>\n",
       "      <td>...</td>\n",
       "      <td>...</td>\n",
       "      <td>...</td>\n",
       "      <td>...</td>\n",
       "      <td>...</td>\n",
       "      <td>...</td>\n",
       "      <td>...</td>\n",
       "      <td>...</td>\n",
       "      <td>...</td>\n",
       "      <td>...</td>\n",
       "      <td>...</td>\n",
       "      <td>...</td>\n",
       "    </tr>\n",
       "    <tr>\n",
       "      <th>165029</th>\n",
       "      <td>667</td>\n",
       "      <td>Spain</td>\n",
       "      <td>Female</td>\n",
       "      <td>33.0</td>\n",
       "      <td>2</td>\n",
       "      <td>0.00</td>\n",
       "      <td>1</td>\n",
       "      <td>1.0</td>\n",
       "      <td>1.0</td>\n",
       "      <td>131834.75</td>\n",
       "      <td>20.212121</td>\n",
       "      <td>0.333333</td>\n",
       "      <td>0.000000</td>\n",
       "      <td>0</td>\n",
       "    </tr>\n",
       "    <tr>\n",
       "      <th>165030</th>\n",
       "      <td>792</td>\n",
       "      <td>France</td>\n",
       "      <td>Male</td>\n",
       "      <td>35.0</td>\n",
       "      <td>3</td>\n",
       "      <td>0.00</td>\n",
       "      <td>1</td>\n",
       "      <td>0.0</td>\n",
       "      <td>0.0</td>\n",
       "      <td>131834.45</td>\n",
       "      <td>22.628571</td>\n",
       "      <td>0.250000</td>\n",
       "      <td>0.000000</td>\n",
       "      <td>0</td>\n",
       "    </tr>\n",
       "    <tr>\n",
       "      <th>165031</th>\n",
       "      <td>565</td>\n",
       "      <td>France</td>\n",
       "      <td>Male</td>\n",
       "      <td>31.0</td>\n",
       "      <td>5</td>\n",
       "      <td>0.00</td>\n",
       "      <td>1</td>\n",
       "      <td>1.0</td>\n",
       "      <td>1.0</td>\n",
       "      <td>127429.56</td>\n",
       "      <td>18.225806</td>\n",
       "      <td>0.166667</td>\n",
       "      <td>0.000000</td>\n",
       "      <td>0</td>\n",
       "    </tr>\n",
       "    <tr>\n",
       "      <th>165032</th>\n",
       "      <td>554</td>\n",
       "      <td>Spain</td>\n",
       "      <td>Female</td>\n",
       "      <td>30.0</td>\n",
       "      <td>7</td>\n",
       "      <td>161533.00</td>\n",
       "      <td>1</td>\n",
       "      <td>0.0</td>\n",
       "      <td>1.0</td>\n",
       "      <td>71173.03</td>\n",
       "      <td>18.466667</td>\n",
       "      <td>0.125000</td>\n",
       "      <td>2.269582</td>\n",
       "      <td>0</td>\n",
       "    </tr>\n",
       "    <tr>\n",
       "      <th>165033</th>\n",
       "      <td>850</td>\n",
       "      <td>France</td>\n",
       "      <td>Male</td>\n",
       "      <td>31.0</td>\n",
       "      <td>1</td>\n",
       "      <td>0.00</td>\n",
       "      <td>1</td>\n",
       "      <td>1.0</td>\n",
       "      <td>0.0</td>\n",
       "      <td>61581.79</td>\n",
       "      <td>27.419355</td>\n",
       "      <td>0.500000</td>\n",
       "      <td>0.000000</td>\n",
       "      <td>1</td>\n",
       "    </tr>\n",
       "  </tbody>\n",
       "</table>\n",
       "<p>165034 rows × 14 columns</p>\n",
       "</div>"
      ],
      "text/plain": [
       "        CreditScore Geography  Gender   Age  Tenure    Balance  NumOfProducts  \\\n",
       "0               668    France    Male  33.0       3       0.00              2   \n",
       "1               627    France    Male  33.0       1       0.00              2   \n",
       "2               678    France    Male  40.0      10       0.00              2   \n",
       "3               581    France    Male  34.0       2  148882.54              1   \n",
       "4               716     Spain    Male  33.0       5       0.00              2   \n",
       "...             ...       ...     ...   ...     ...        ...            ...   \n",
       "165029          667     Spain  Female  33.0       2       0.00              1   \n",
       "165030          792    France    Male  35.0       3       0.00              1   \n",
       "165031          565    France    Male  31.0       5       0.00              1   \n",
       "165032          554     Spain  Female  30.0       7  161533.00              1   \n",
       "165033          850    France    Male  31.0       1       0.00              1   \n",
       "\n",
       "        HasCrCard  IsActiveMember  EstimatedSalary  CreditScore_to_Age  \\\n",
       "0             1.0             0.0        181449.97           20.242424   \n",
       "1             1.0             1.0         49503.50           19.000000   \n",
       "2             1.0             0.0        184866.69           16.950000   \n",
       "3             1.0             1.0         84560.88           17.088235   \n",
       "4             1.0             1.0         15068.83           21.696970   \n",
       "...           ...             ...              ...                 ...   \n",
       "165029        1.0             1.0        131834.75           20.212121   \n",
       "165030        0.0             0.0        131834.45           22.628571   \n",
       "165031        1.0             1.0        127429.56           18.225806   \n",
       "165032        0.0             1.0         71173.03           18.466667   \n",
       "165033        1.0             0.0         61581.79           27.419355   \n",
       "\n",
       "        NumOfProducts_to_Tenure  Balance_to_Salary  Exited  \n",
       "0                      0.500000           0.000000       0  \n",
       "1                      1.000000           0.000000       0  \n",
       "2                      0.181818           0.000000       0  \n",
       "3                      0.333333           1.760655       0  \n",
       "4                      0.333333           0.000000       0  \n",
       "...                         ...                ...     ...  \n",
       "165029                 0.333333           0.000000       0  \n",
       "165030                 0.250000           0.000000       0  \n",
       "165031                 0.166667           0.000000       0  \n",
       "165032                 0.125000           2.269582       0  \n",
       "165033                 0.500000           0.000000       1  \n",
       "\n",
       "[165034 rows x 14 columns]"
      ]
     },
     "execution_count": 12,
     "metadata": {},
     "output_type": "execute_result"
    }
   ],
   "source": [
    "train_cor = pd.concat([feature, train_df[['Exited']]], axis=1) \n",
    "train_cor"
   ]
  },
  {
   "cell_type": "code",
   "execution_count": 13,
   "id": "583b3964",
   "metadata": {
    "execution": {
     "iopub.execute_input": "2024-01-21T00:17:21.271832Z",
     "iopub.status.busy": "2024-01-21T00:17:21.271400Z",
     "iopub.status.idle": "2024-01-21T00:17:21.332176Z",
     "shell.execute_reply": "2024-01-21T00:17:21.330959Z"
    },
    "papermill": {
     "duration": 0.083783,
     "end_time": "2024-01-21T00:17:21.334879",
     "exception": false,
     "start_time": "2024-01-21T00:17:21.251096",
     "status": "completed"
    },
    "tags": []
   },
   "outputs": [],
   "source": [
    "train_cor_num = train_cor.select_dtypes(include=['int', 'float']).columns"
   ]
  },
  {
   "cell_type": "code",
   "execution_count": 14,
   "id": "13de6e5e",
   "metadata": {
    "execution": {
     "iopub.execute_input": "2024-01-21T00:17:21.374365Z",
     "iopub.status.busy": "2024-01-21T00:17:21.373923Z",
     "iopub.status.idle": "2024-01-21T00:17:21.403759Z",
     "shell.execute_reply": "2024-01-21T00:17:21.402861Z"
    },
    "papermill": {
     "duration": 0.0525,
     "end_time": "2024-01-21T00:17:21.406062",
     "exception": false,
     "start_time": "2024-01-21T00:17:21.353562",
     "status": "completed"
    },
    "tags": []
   },
   "outputs": [
    {
     "data": {
      "text/html": [
       "<div>\n",
       "<style scoped>\n",
       "    .dataframe tbody tr th:only-of-type {\n",
       "        vertical-align: middle;\n",
       "    }\n",
       "\n",
       "    .dataframe tbody tr th {\n",
       "        vertical-align: top;\n",
       "    }\n",
       "\n",
       "    .dataframe thead th {\n",
       "        text-align: right;\n",
       "    }\n",
       "</style>\n",
       "<table border=\"1\" class=\"dataframe\">\n",
       "  <thead>\n",
       "    <tr style=\"text-align: right;\">\n",
       "      <th></th>\n",
       "      <th>CreditScore</th>\n",
       "      <th>Age</th>\n",
       "      <th>Tenure</th>\n",
       "      <th>Balance</th>\n",
       "      <th>NumOfProducts</th>\n",
       "      <th>HasCrCard</th>\n",
       "      <th>IsActiveMember</th>\n",
       "      <th>EstimatedSalary</th>\n",
       "      <th>CreditScore_to_Age</th>\n",
       "      <th>NumOfProducts_to_Tenure</th>\n",
       "      <th>Balance_to_Salary</th>\n",
       "      <th>Exited</th>\n",
       "    </tr>\n",
       "  </thead>\n",
       "  <tbody>\n",
       "    <tr>\n",
       "      <th>0</th>\n",
       "      <td>668</td>\n",
       "      <td>33.0</td>\n",
       "      <td>3</td>\n",
       "      <td>0.00</td>\n",
       "      <td>2</td>\n",
       "      <td>1.0</td>\n",
       "      <td>0.0</td>\n",
       "      <td>181449.97</td>\n",
       "      <td>20.242424</td>\n",
       "      <td>0.500000</td>\n",
       "      <td>0.000000</td>\n",
       "      <td>0</td>\n",
       "    </tr>\n",
       "    <tr>\n",
       "      <th>1</th>\n",
       "      <td>627</td>\n",
       "      <td>33.0</td>\n",
       "      <td>1</td>\n",
       "      <td>0.00</td>\n",
       "      <td>2</td>\n",
       "      <td>1.0</td>\n",
       "      <td>1.0</td>\n",
       "      <td>49503.50</td>\n",
       "      <td>19.000000</td>\n",
       "      <td>1.000000</td>\n",
       "      <td>0.000000</td>\n",
       "      <td>0</td>\n",
       "    </tr>\n",
       "    <tr>\n",
       "      <th>2</th>\n",
       "      <td>678</td>\n",
       "      <td>40.0</td>\n",
       "      <td>10</td>\n",
       "      <td>0.00</td>\n",
       "      <td>2</td>\n",
       "      <td>1.0</td>\n",
       "      <td>0.0</td>\n",
       "      <td>184866.69</td>\n",
       "      <td>16.950000</td>\n",
       "      <td>0.181818</td>\n",
       "      <td>0.000000</td>\n",
       "      <td>0</td>\n",
       "    </tr>\n",
       "    <tr>\n",
       "      <th>3</th>\n",
       "      <td>581</td>\n",
       "      <td>34.0</td>\n",
       "      <td>2</td>\n",
       "      <td>148882.54</td>\n",
       "      <td>1</td>\n",
       "      <td>1.0</td>\n",
       "      <td>1.0</td>\n",
       "      <td>84560.88</td>\n",
       "      <td>17.088235</td>\n",
       "      <td>0.333333</td>\n",
       "      <td>1.760655</td>\n",
       "      <td>0</td>\n",
       "    </tr>\n",
       "    <tr>\n",
       "      <th>4</th>\n",
       "      <td>716</td>\n",
       "      <td>33.0</td>\n",
       "      <td>5</td>\n",
       "      <td>0.00</td>\n",
       "      <td>2</td>\n",
       "      <td>1.0</td>\n",
       "      <td>1.0</td>\n",
       "      <td>15068.83</td>\n",
       "      <td>21.696970</td>\n",
       "      <td>0.333333</td>\n",
       "      <td>0.000000</td>\n",
       "      <td>0</td>\n",
       "    </tr>\n",
       "  </tbody>\n",
       "</table>\n",
       "</div>"
      ],
      "text/plain": [
       "   CreditScore   Age  Tenure    Balance  NumOfProducts  HasCrCard  \\\n",
       "0          668  33.0       3       0.00              2        1.0   \n",
       "1          627  33.0       1       0.00              2        1.0   \n",
       "2          678  40.0      10       0.00              2        1.0   \n",
       "3          581  34.0       2  148882.54              1        1.0   \n",
       "4          716  33.0       5       0.00              2        1.0   \n",
       "\n",
       "   IsActiveMember  EstimatedSalary  CreditScore_to_Age  \\\n",
       "0             0.0        181449.97           20.242424   \n",
       "1             1.0         49503.50           19.000000   \n",
       "2             0.0        184866.69           16.950000   \n",
       "3             1.0         84560.88           17.088235   \n",
       "4             1.0         15068.83           21.696970   \n",
       "\n",
       "   NumOfProducts_to_Tenure  Balance_to_Salary  Exited  \n",
       "0                 0.500000           0.000000       0  \n",
       "1                 1.000000           0.000000       0  \n",
       "2                 0.181818           0.000000       0  \n",
       "3                 0.333333           1.760655       0  \n",
       "4                 0.333333           0.000000       0  "
      ]
     },
     "execution_count": 14,
     "metadata": {},
     "output_type": "execute_result"
    }
   ],
   "source": [
    "# correlation \n",
    "\n",
    "train_cor[train_cor_num].head()"
   ]
  },
  {
   "cell_type": "code",
   "execution_count": 15,
   "id": "8df35d4d",
   "metadata": {
    "execution": {
     "iopub.execute_input": "2024-01-21T00:17:21.444274Z",
     "iopub.status.busy": "2024-01-21T00:17:21.443649Z",
     "iopub.status.idle": "2024-01-21T00:17:21.579097Z",
     "shell.execute_reply": "2024-01-21T00:17:21.578304Z"
    },
    "papermill": {
     "duration": 0.156982,
     "end_time": "2024-01-21T00:17:21.581158",
     "exception": false,
     "start_time": "2024-01-21T00:17:21.424176",
     "status": "completed"
    },
    "tags": []
   },
   "outputs": [
    {
     "data": {
      "text/html": [
       "<div>\n",
       "<style scoped>\n",
       "    .dataframe tbody tr th:only-of-type {\n",
       "        vertical-align: middle;\n",
       "    }\n",
       "\n",
       "    .dataframe tbody tr th {\n",
       "        vertical-align: top;\n",
       "    }\n",
       "\n",
       "    .dataframe thead th {\n",
       "        text-align: right;\n",
       "    }\n",
       "</style>\n",
       "<table border=\"1\" class=\"dataframe\">\n",
       "  <thead>\n",
       "    <tr style=\"text-align: right;\">\n",
       "      <th></th>\n",
       "      <th>CreditScore</th>\n",
       "      <th>Age</th>\n",
       "      <th>Tenure</th>\n",
       "      <th>Balance</th>\n",
       "      <th>NumOfProducts</th>\n",
       "      <th>HasCrCard</th>\n",
       "      <th>IsActiveMember</th>\n",
       "      <th>EstimatedSalary</th>\n",
       "      <th>CreditScore_to_Age</th>\n",
       "      <th>NumOfProducts_to_Tenure</th>\n",
       "      <th>Balance_to_Salary</th>\n",
       "      <th>Exited</th>\n",
       "    </tr>\n",
       "  </thead>\n",
       "  <tbody>\n",
       "    <tr>\n",
       "      <th>CreditScore</th>\n",
       "      <td>1.000000</td>\n",
       "      <td>-0.008918</td>\n",
       "      <td>0.000942</td>\n",
       "      <td>0.006973</td>\n",
       "      <td>0.011361</td>\n",
       "      <td>-0.002828</td>\n",
       "      <td>0.014790</td>\n",
       "      <td>-0.001820</td>\n",
       "      <td>0.482742</td>\n",
       "      <td>0.003503</td>\n",
       "      <td>-0.000598</td>\n",
       "      <td>-0.027383</td>\n",
       "    </tr>\n",
       "    <tr>\n",
       "      <th>Age</th>\n",
       "      <td>-0.008918</td>\n",
       "      <td>1.000000</td>\n",
       "      <td>-0.010830</td>\n",
       "      <td>0.064318</td>\n",
       "      <td>-0.102195</td>\n",
       "      <td>-0.012111</td>\n",
       "      <td>0.003320</td>\n",
       "      <td>-0.005399</td>\n",
       "      <td>-0.824948</td>\n",
       "      <td>-0.030754</td>\n",
       "      <td>0.005095</td>\n",
       "      <td>0.340768</td>\n",
       "    </tr>\n",
       "    <tr>\n",
       "      <th>Tenure</th>\n",
       "      <td>0.000942</td>\n",
       "      <td>-0.010830</td>\n",
       "      <td>1.000000</td>\n",
       "      <td>-0.009481</td>\n",
       "      <td>0.007335</td>\n",
       "      <td>0.005327</td>\n",
       "      <td>-0.005532</td>\n",
       "      <td>0.000971</td>\n",
       "      <td>0.008159</td>\n",
       "      <td>-0.697675</td>\n",
       "      <td>0.000872</td>\n",
       "      <td>-0.019565</td>\n",
       "    </tr>\n",
       "    <tr>\n",
       "      <th>Balance</th>\n",
       "      <td>0.006973</td>\n",
       "      <td>0.064318</td>\n",
       "      <td>-0.009481</td>\n",
       "      <td>1.000000</td>\n",
       "      <td>-0.361033</td>\n",
       "      <td>-0.018584</td>\n",
       "      <td>-0.015073</td>\n",
       "      <td>0.008586</td>\n",
       "      <td>-0.047365</td>\n",
       "      <td>-0.127466</td>\n",
       "      <td>0.025970</td>\n",
       "      <td>0.129743</td>\n",
       "    </tr>\n",
       "    <tr>\n",
       "      <th>NumOfProducts</th>\n",
       "      <td>0.011361</td>\n",
       "      <td>-0.102195</td>\n",
       "      <td>0.007335</td>\n",
       "      <td>-0.361033</td>\n",
       "      <td>1.000000</td>\n",
       "      <td>0.005482</td>\n",
       "      <td>0.039736</td>\n",
       "      <td>-0.004285</td>\n",
       "      <td>0.088165</td>\n",
       "      <td>0.386984</td>\n",
       "      <td>-0.010640</td>\n",
       "      <td>-0.214554</td>\n",
       "    </tr>\n",
       "    <tr>\n",
       "      <th>HasCrCard</th>\n",
       "      <td>-0.002828</td>\n",
       "      <td>-0.012111</td>\n",
       "      <td>0.005327</td>\n",
       "      <td>-0.018584</td>\n",
       "      <td>0.005482</td>\n",
       "      <td>1.000000</td>\n",
       "      <td>-0.021034</td>\n",
       "      <td>0.004438</td>\n",
       "      <td>0.006088</td>\n",
       "      <td>-0.006952</td>\n",
       "      <td>-0.000858</td>\n",
       "      <td>-0.022141</td>\n",
       "    </tr>\n",
       "    <tr>\n",
       "      <th>IsActiveMember</th>\n",
       "      <td>0.014790</td>\n",
       "      <td>0.003320</td>\n",
       "      <td>-0.005532</td>\n",
       "      <td>-0.015073</td>\n",
       "      <td>0.039736</td>\n",
       "      <td>-0.021034</td>\n",
       "      <td>1.000000</td>\n",
       "      <td>-0.008080</td>\n",
       "      <td>0.020708</td>\n",
       "      <td>0.019213</td>\n",
       "      <td>0.001823</td>\n",
       "      <td>-0.210237</td>\n",
       "    </tr>\n",
       "    <tr>\n",
       "      <th>EstimatedSalary</th>\n",
       "      <td>-0.001820</td>\n",
       "      <td>-0.005399</td>\n",
       "      <td>0.000971</td>\n",
       "      <td>0.008586</td>\n",
       "      <td>-0.004285</td>\n",
       "      <td>0.004438</td>\n",
       "      <td>-0.008080</td>\n",
       "      <td>1.000000</td>\n",
       "      <td>0.001008</td>\n",
       "      <td>-0.000968</td>\n",
       "      <td>-0.039278</td>\n",
       "      <td>0.018827</td>\n",
       "    </tr>\n",
       "    <tr>\n",
       "      <th>CreditScore_to_Age</th>\n",
       "      <td>0.482742</td>\n",
       "      <td>-0.824948</td>\n",
       "      <td>0.008159</td>\n",
       "      <td>-0.047365</td>\n",
       "      <td>0.088165</td>\n",
       "      <td>0.006088</td>\n",
       "      <td>0.020708</td>\n",
       "      <td>0.001008</td>\n",
       "      <td>1.000000</td>\n",
       "      <td>0.027029</td>\n",
       "      <td>-0.005163</td>\n",
       "      <td>-0.287183</td>\n",
       "    </tr>\n",
       "    <tr>\n",
       "      <th>NumOfProducts_to_Tenure</th>\n",
       "      <td>0.003503</td>\n",
       "      <td>-0.030754</td>\n",
       "      <td>-0.697675</td>\n",
       "      <td>-0.127466</td>\n",
       "      <td>0.386984</td>\n",
       "      <td>-0.006952</td>\n",
       "      <td>0.019213</td>\n",
       "      <td>-0.000968</td>\n",
       "      <td>0.027029</td>\n",
       "      <td>1.000000</td>\n",
       "      <td>-0.005733</td>\n",
       "      <td>-0.067816</td>\n",
       "    </tr>\n",
       "    <tr>\n",
       "      <th>Balance_to_Salary</th>\n",
       "      <td>-0.000598</td>\n",
       "      <td>0.005095</td>\n",
       "      <td>0.000872</td>\n",
       "      <td>0.025970</td>\n",
       "      <td>-0.010640</td>\n",
       "      <td>-0.000858</td>\n",
       "      <td>0.001823</td>\n",
       "      <td>-0.039278</td>\n",
       "      <td>-0.005163</td>\n",
       "      <td>-0.005733</td>\n",
       "      <td>1.000000</td>\n",
       "      <td>0.001559</td>\n",
       "    </tr>\n",
       "    <tr>\n",
       "      <th>Exited</th>\n",
       "      <td>-0.027383</td>\n",
       "      <td>0.340768</td>\n",
       "      <td>-0.019565</td>\n",
       "      <td>0.129743</td>\n",
       "      <td>-0.214554</td>\n",
       "      <td>-0.022141</td>\n",
       "      <td>-0.210237</td>\n",
       "      <td>0.018827</td>\n",
       "      <td>-0.287183</td>\n",
       "      <td>-0.067816</td>\n",
       "      <td>0.001559</td>\n",
       "      <td>1.000000</td>\n",
       "    </tr>\n",
       "  </tbody>\n",
       "</table>\n",
       "</div>"
      ],
      "text/plain": [
       "                         CreditScore       Age    Tenure   Balance  \\\n",
       "CreditScore                 1.000000 -0.008918  0.000942  0.006973   \n",
       "Age                        -0.008918  1.000000 -0.010830  0.064318   \n",
       "Tenure                      0.000942 -0.010830  1.000000 -0.009481   \n",
       "Balance                     0.006973  0.064318 -0.009481  1.000000   \n",
       "NumOfProducts               0.011361 -0.102195  0.007335 -0.361033   \n",
       "HasCrCard                  -0.002828 -0.012111  0.005327 -0.018584   \n",
       "IsActiveMember              0.014790  0.003320 -0.005532 -0.015073   \n",
       "EstimatedSalary            -0.001820 -0.005399  0.000971  0.008586   \n",
       "CreditScore_to_Age          0.482742 -0.824948  0.008159 -0.047365   \n",
       "NumOfProducts_to_Tenure     0.003503 -0.030754 -0.697675 -0.127466   \n",
       "Balance_to_Salary          -0.000598  0.005095  0.000872  0.025970   \n",
       "Exited                     -0.027383  0.340768 -0.019565  0.129743   \n",
       "\n",
       "                         NumOfProducts  HasCrCard  IsActiveMember  \\\n",
       "CreditScore                   0.011361  -0.002828        0.014790   \n",
       "Age                          -0.102195  -0.012111        0.003320   \n",
       "Tenure                        0.007335   0.005327       -0.005532   \n",
       "Balance                      -0.361033  -0.018584       -0.015073   \n",
       "NumOfProducts                 1.000000   0.005482        0.039736   \n",
       "HasCrCard                     0.005482   1.000000       -0.021034   \n",
       "IsActiveMember                0.039736  -0.021034        1.000000   \n",
       "EstimatedSalary              -0.004285   0.004438       -0.008080   \n",
       "CreditScore_to_Age            0.088165   0.006088        0.020708   \n",
       "NumOfProducts_to_Tenure       0.386984  -0.006952        0.019213   \n",
       "Balance_to_Salary            -0.010640  -0.000858        0.001823   \n",
       "Exited                       -0.214554  -0.022141       -0.210237   \n",
       "\n",
       "                         EstimatedSalary  CreditScore_to_Age  \\\n",
       "CreditScore                    -0.001820            0.482742   \n",
       "Age                            -0.005399           -0.824948   \n",
       "Tenure                          0.000971            0.008159   \n",
       "Balance                         0.008586           -0.047365   \n",
       "NumOfProducts                  -0.004285            0.088165   \n",
       "HasCrCard                       0.004438            0.006088   \n",
       "IsActiveMember                 -0.008080            0.020708   \n",
       "EstimatedSalary                 1.000000            0.001008   \n",
       "CreditScore_to_Age              0.001008            1.000000   \n",
       "NumOfProducts_to_Tenure        -0.000968            0.027029   \n",
       "Balance_to_Salary              -0.039278           -0.005163   \n",
       "Exited                          0.018827           -0.287183   \n",
       "\n",
       "                         NumOfProducts_to_Tenure  Balance_to_Salary    Exited  \n",
       "CreditScore                             0.003503          -0.000598 -0.027383  \n",
       "Age                                    -0.030754           0.005095  0.340768  \n",
       "Tenure                                 -0.697675           0.000872 -0.019565  \n",
       "Balance                                -0.127466           0.025970  0.129743  \n",
       "NumOfProducts                           0.386984          -0.010640 -0.214554  \n",
       "HasCrCard                              -0.006952          -0.000858 -0.022141  \n",
       "IsActiveMember                          0.019213           0.001823 -0.210237  \n",
       "EstimatedSalary                        -0.000968          -0.039278  0.018827  \n",
       "CreditScore_to_Age                      0.027029          -0.005163 -0.287183  \n",
       "NumOfProducts_to_Tenure                 1.000000          -0.005733 -0.067816  \n",
       "Balance_to_Salary                      -0.005733           1.000000  0.001559  \n",
       "Exited                                 -0.067816           0.001559  1.000000  "
      ]
     },
     "execution_count": 15,
     "metadata": {},
     "output_type": "execute_result"
    }
   ],
   "source": [
    "corrmat = train_cor[train_cor_num].corr()\n",
    "corrmat"
   ]
  },
  {
   "cell_type": "code",
   "execution_count": 16,
   "id": "f0c6967e",
   "metadata": {
    "execution": {
     "iopub.execute_input": "2024-01-21T00:17:21.620994Z",
     "iopub.status.busy": "2024-01-21T00:17:21.619938Z",
     "iopub.status.idle": "2024-01-21T00:17:22.447951Z",
     "shell.execute_reply": "2024-01-21T00:17:22.446677Z"
    },
    "papermill": {
     "duration": 0.851344,
     "end_time": "2024-01-21T00:17:22.451371",
     "exception": false,
     "start_time": "2024-01-21T00:17:21.600027",
     "status": "completed"
    },
    "tags": []
   },
   "outputs": [
    {
     "data": {
      "image/png": "[encoded data removed]",
      "text/plain": [
       "<Figure size 800x800 with 1 Axes>"
      ]
     },
     "metadata": {},
     "output_type": "display_data"
    }
   ],
   "source": [
    "plt.figure(figsize=(8, 8))\n",
    "k=12\n",
    "cols = corrmat.nlargest(k, 'Exited')['Exited'].index\n",
    "cm = np.corrcoef(train_cor[train_cor_num][cols].values.T)\n",
    "sns.set(font_scale=0.9)\n",
    "hm = sns.heatmap(cm, cbar=False, annot=True, square=True, fmt='.2f', annot_kws={'size': 9}, \n",
    "                 yticklabels=cols.values, xticklabels=cols.values, cmap=\"Purples\")\n",
    "hm.xaxis.tick_top()\n",
    "plt.xticks(rotation=45, ha='left')\n",
    "plt.show()"
   ]
  },
  {
   "cell_type": "code",
   "execution_count": null,
   "id": "c43a56fc",
   "metadata": {
    "papermill": {
     "duration": 0.021645,
     "end_time": "2024-01-21T00:17:22.493961",
     "exception": false,
     "start_time": "2024-01-21T00:17:22.472316",
     "status": "completed"
    },
    "tags": []
   },
   "outputs": [],
   "source": []
  },
  {
   "cell_type": "markdown",
   "id": "43eb5315",
   "metadata": {
    "papermill": {
     "duration": 0.020196,
     "end_time": "2024-01-21T00:17:22.534597",
     "exception": false,
     "start_time": "2024-01-21T00:17:22.514401",
     "status": "completed"
    },
    "tags": []
   },
   "source": [
    "# standardization "
   ]
  },
  {
   "cell_type": "code",
   "execution_count": 17,
   "id": "72960f8c",
   "metadata": {
    "execution": {
     "iopub.execute_input": "2024-01-21T00:17:22.576942Z",
     "iopub.status.busy": "2024-01-21T00:17:22.576548Z",
     "iopub.status.idle": "2024-01-21T00:17:22.641711Z",
     "shell.execute_reply": "2024-01-21T00:17:22.640676Z"
    },
    "papermill": {
     "duration": 0.088892,
     "end_time": "2024-01-21T00:17:22.643714",
     "exception": false,
     "start_time": "2024-01-21T00:17:22.554822",
     "status": "completed"
    },
    "tags": []
   },
   "outputs": [
    {
     "name": "stdout",
     "output_type": "stream",
     "text": [
      "(165034, 11)\n"
     ]
    },
    {
     "data": {
      "text/html": [
       "<div>\n",
       "<style scoped>\n",
       "    .dataframe tbody tr th:only-of-type {\n",
       "        vertical-align: middle;\n",
       "    }\n",
       "\n",
       "    .dataframe tbody tr th {\n",
       "        vertical-align: top;\n",
       "    }\n",
       "\n",
       "    .dataframe thead th {\n",
       "        text-align: right;\n",
       "    }\n",
       "</style>\n",
       "<table border=\"1\" class=\"dataframe\">\n",
       "  <thead>\n",
       "    <tr style=\"text-align: right;\">\n",
       "      <th></th>\n",
       "      <th>CreditScore</th>\n",
       "      <th>Age</th>\n",
       "      <th>Tenure</th>\n",
       "      <th>Balance</th>\n",
       "      <th>NumOfProducts</th>\n",
       "      <th>HasCrCard</th>\n",
       "      <th>IsActiveMember</th>\n",
       "      <th>EstimatedSalary</th>\n",
       "      <th>CreditScore_to_Age</th>\n",
       "      <th>NumOfProducts_to_Tenure</th>\n",
       "      <th>Balance_to_Salary</th>\n",
       "    </tr>\n",
       "  </thead>\n",
       "  <tbody>\n",
       "    <tr>\n",
       "      <th>0</th>\n",
       "      <td>668</td>\n",
       "      <td>33.0</td>\n",
       "      <td>3</td>\n",
       "      <td>0.00</td>\n",
       "      <td>2</td>\n",
       "      <td>1.0</td>\n",
       "      <td>0.0</td>\n",
       "      <td>181449.97</td>\n",
       "      <td>20.242424</td>\n",
       "      <td>0.500000</td>\n",
       "      <td>0.000000</td>\n",
       "    </tr>\n",
       "    <tr>\n",
       "      <th>1</th>\n",
       "      <td>627</td>\n",
       "      <td>33.0</td>\n",
       "      <td>1</td>\n",
       "      <td>0.00</td>\n",
       "      <td>2</td>\n",
       "      <td>1.0</td>\n",
       "      <td>1.0</td>\n",
       "      <td>49503.50</td>\n",
       "      <td>19.000000</td>\n",
       "      <td>1.000000</td>\n",
       "      <td>0.000000</td>\n",
       "    </tr>\n",
       "    <tr>\n",
       "      <th>2</th>\n",
       "      <td>678</td>\n",
       "      <td>40.0</td>\n",
       "      <td>10</td>\n",
       "      <td>0.00</td>\n",
       "      <td>2</td>\n",
       "      <td>1.0</td>\n",
       "      <td>0.0</td>\n",
       "      <td>184866.69</td>\n",
       "      <td>16.950000</td>\n",
       "      <td>0.181818</td>\n",
       "      <td>0.000000</td>\n",
       "    </tr>\n",
       "    <tr>\n",
       "      <th>3</th>\n",
       "      <td>581</td>\n",
       "      <td>34.0</td>\n",
       "      <td>2</td>\n",
       "      <td>148882.54</td>\n",
       "      <td>1</td>\n",
       "      <td>1.0</td>\n",
       "      <td>1.0</td>\n",
       "      <td>84560.88</td>\n",
       "      <td>17.088235</td>\n",
       "      <td>0.333333</td>\n",
       "      <td>1.760655</td>\n",
       "    </tr>\n",
       "    <tr>\n",
       "      <th>4</th>\n",
       "      <td>716</td>\n",
       "      <td>33.0</td>\n",
       "      <td>5</td>\n",
       "      <td>0.00</td>\n",
       "      <td>2</td>\n",
       "      <td>1.0</td>\n",
       "      <td>1.0</td>\n",
       "      <td>15068.83</td>\n",
       "      <td>21.696970</td>\n",
       "      <td>0.333333</td>\n",
       "      <td>0.000000</td>\n",
       "    </tr>\n",
       "  </tbody>\n",
       "</table>\n",
       "</div>"
      ],
      "text/plain": [
       "   CreditScore   Age  Tenure    Balance  NumOfProducts  HasCrCard  \\\n",
       "0          668  33.0       3       0.00              2        1.0   \n",
       "1          627  33.0       1       0.00              2        1.0   \n",
       "2          678  40.0      10       0.00              2        1.0   \n",
       "3          581  34.0       2  148882.54              1        1.0   \n",
       "4          716  33.0       5       0.00              2        1.0   \n",
       "\n",
       "   IsActiveMember  EstimatedSalary  CreditScore_to_Age  \\\n",
       "0             0.0        181449.97           20.242424   \n",
       "1             1.0         49503.50           19.000000   \n",
       "2             0.0        184866.69           16.950000   \n",
       "3             1.0         84560.88           17.088235   \n",
       "4             1.0         15068.83           21.696970   \n",
       "\n",
       "   NumOfProducts_to_Tenure  Balance_to_Salary  \n",
       "0                 0.500000           0.000000  \n",
       "1                 1.000000           0.000000  \n",
       "2                 0.181818           0.000000  \n",
       "3                 0.333333           1.760655  \n",
       "4                 0.333333           0.000000  "
      ]
     },
     "execution_count": 17,
     "metadata": {},
     "output_type": "execute_result"
    }
   ],
   "source": [
    "# numeric variables in feature\n",
    "\n",
    "feature_num = feature.select_dtypes(include=['int', 'float']).columns\n",
    "print(feature[feature_num].shape)\n",
    "feature[feature_num].head()"
   ]
  },
  {
   "cell_type": "code",
   "execution_count": 18,
   "id": "6b6d85a2",
   "metadata": {
    "execution": {
     "iopub.execute_input": "2024-01-21T00:17:22.687707Z",
     "iopub.status.busy": "2024-01-21T00:17:22.687254Z",
     "iopub.status.idle": "2024-01-21T00:17:22.728763Z",
     "shell.execute_reply": "2024-01-21T00:17:22.727830Z"
    },
    "papermill": {
     "duration": 0.066025,
     "end_time": "2024-01-21T00:17:22.730904",
     "exception": false,
     "start_time": "2024-01-21T00:17:22.664879",
     "status": "completed"
    },
    "tags": []
   },
   "outputs": [
    {
     "name": "stdout",
     "output_type": "stream",
     "text": [
      "(110023, 11)\n"
     ]
    },
    {
     "data": {
      "text/html": [
       "<div>\n",
       "<style scoped>\n",
       "    .dataframe tbody tr th:only-of-type {\n",
       "        vertical-align: middle;\n",
       "    }\n",
       "\n",
       "    .dataframe tbody tr th {\n",
       "        vertical-align: top;\n",
       "    }\n",
       "\n",
       "    .dataframe thead th {\n",
       "        text-align: right;\n",
       "    }\n",
       "</style>\n",
       "<table border=\"1\" class=\"dataframe\">\n",
       "  <thead>\n",
       "    <tr style=\"text-align: right;\">\n",
       "      <th></th>\n",
       "      <th>CreditScore</th>\n",
       "      <th>Age</th>\n",
       "      <th>Tenure</th>\n",
       "      <th>Balance</th>\n",
       "      <th>NumOfProducts</th>\n",
       "      <th>HasCrCard</th>\n",
       "      <th>IsActiveMember</th>\n",
       "      <th>EstimatedSalary</th>\n",
       "      <th>CreditScore_to_Age</th>\n",
       "      <th>NumOfProducts_to_Tenure</th>\n",
       "      <th>Balance_to_Salary</th>\n",
       "    </tr>\n",
       "  </thead>\n",
       "  <tbody>\n",
       "    <tr>\n",
       "      <th>0</th>\n",
       "      <td>586</td>\n",
       "      <td>23.0</td>\n",
       "      <td>2</td>\n",
       "      <td>0.00</td>\n",
       "      <td>2</td>\n",
       "      <td>0.0</td>\n",
       "      <td>1.0</td>\n",
       "      <td>160976.75</td>\n",
       "      <td>25.478261</td>\n",
       "      <td>0.666667</td>\n",
       "      <td>0.000000</td>\n",
       "    </tr>\n",
       "    <tr>\n",
       "      <th>1</th>\n",
       "      <td>683</td>\n",
       "      <td>46.0</td>\n",
       "      <td>2</td>\n",
       "      <td>0.00</td>\n",
       "      <td>1</td>\n",
       "      <td>1.0</td>\n",
       "      <td>0.0</td>\n",
       "      <td>72549.27</td>\n",
       "      <td>14.847826</td>\n",
       "      <td>0.333333</td>\n",
       "      <td>0.000000</td>\n",
       "    </tr>\n",
       "    <tr>\n",
       "      <th>2</th>\n",
       "      <td>656</td>\n",
       "      <td>34.0</td>\n",
       "      <td>7</td>\n",
       "      <td>0.00</td>\n",
       "      <td>2</td>\n",
       "      <td>1.0</td>\n",
       "      <td>0.0</td>\n",
       "      <td>138882.09</td>\n",
       "      <td>19.294118</td>\n",
       "      <td>0.250000</td>\n",
       "      <td>0.000000</td>\n",
       "    </tr>\n",
       "    <tr>\n",
       "      <th>3</th>\n",
       "      <td>681</td>\n",
       "      <td>36.0</td>\n",
       "      <td>8</td>\n",
       "      <td>0.00</td>\n",
       "      <td>1</td>\n",
       "      <td>1.0</td>\n",
       "      <td>0.0</td>\n",
       "      <td>113931.57</td>\n",
       "      <td>18.916667</td>\n",
       "      <td>0.111111</td>\n",
       "      <td>0.000000</td>\n",
       "    </tr>\n",
       "    <tr>\n",
       "      <th>4</th>\n",
       "      <td>752</td>\n",
       "      <td>38.0</td>\n",
       "      <td>10</td>\n",
       "      <td>121263.62</td>\n",
       "      <td>1</td>\n",
       "      <td>1.0</td>\n",
       "      <td>0.0</td>\n",
       "      <td>139431.00</td>\n",
       "      <td>19.789474</td>\n",
       "      <td>0.090909</td>\n",
       "      <td>0.869703</td>\n",
       "    </tr>\n",
       "  </tbody>\n",
       "</table>\n",
       "</div>"
      ],
      "text/plain": [
       "   CreditScore   Age  Tenure    Balance  NumOfProducts  HasCrCard  \\\n",
       "0          586  23.0       2       0.00              2        0.0   \n",
       "1          683  46.0       2       0.00              1        1.0   \n",
       "2          656  34.0       7       0.00              2        1.0   \n",
       "3          681  36.0       8       0.00              1        1.0   \n",
       "4          752  38.0      10  121263.62              1        1.0   \n",
       "\n",
       "   IsActiveMember  EstimatedSalary  CreditScore_to_Age  \\\n",
       "0             1.0        160976.75           25.478261   \n",
       "1             0.0         72549.27           14.847826   \n",
       "2             0.0        138882.09           19.294118   \n",
       "3             0.0        113931.57           18.916667   \n",
       "4             0.0        139431.00           19.789474   \n",
       "\n",
       "   NumOfProducts_to_Tenure  Balance_to_Salary  \n",
       "0                 0.666667           0.000000  \n",
       "1                 0.333333           0.000000  \n",
       "2                 0.250000           0.000000  \n",
       "3                 0.111111           0.000000  \n",
       "4                 0.090909           0.869703  "
      ]
     },
     "execution_count": 18,
     "metadata": {},
     "output_type": "execute_result"
    }
   ],
   "source": [
    "# numeric variables in test data\n",
    "\n",
    "test_num = test.select_dtypes(include=['int', 'float']).columns\n",
    "print(test[test_num].shape)\n",
    "test[test_num].head()"
   ]
  },
  {
   "cell_type": "code",
   "execution_count": 19,
   "id": "f97845d3",
   "metadata": {
    "execution": {
     "iopub.execute_input": "2024-01-21T00:17:22.774632Z",
     "iopub.status.busy": "2024-01-21T00:17:22.774255Z",
     "iopub.status.idle": "2024-01-21T00:17:23.056185Z",
     "shell.execute_reply": "2024-01-21T00:17:23.055093Z"
    },
    "papermill": {
     "duration": 0.306538,
     "end_time": "2024-01-21T00:17:23.058546",
     "exception": false,
     "start_time": "2024-01-21T00:17:22.752008",
     "status": "completed"
    },
    "tags": []
   },
   "outputs": [
    {
     "name": "stdout",
     "output_type": "stream",
     "text": [
      "(165034, 11) (110023, 11)\n"
     ]
    },
    {
     "data": {
      "text/html": [
       "<div>\n",
       "<style scoped>\n",
       "    .dataframe tbody tr th:only-of-type {\n",
       "        vertical-align: middle;\n",
       "    }\n",
       "\n",
       "    .dataframe tbody tr th {\n",
       "        vertical-align: top;\n",
       "    }\n",
       "\n",
       "    .dataframe thead th {\n",
       "        text-align: right;\n",
       "    }\n",
       "</style>\n",
       "<table border=\"1\" class=\"dataframe\">\n",
       "  <thead>\n",
       "    <tr style=\"text-align: right;\">\n",
       "      <th></th>\n",
       "      <th>CreditScore</th>\n",
       "      <th>Age</th>\n",
       "      <th>Tenure</th>\n",
       "      <th>Balance</th>\n",
       "      <th>NumOfProducts</th>\n",
       "      <th>HasCrCard</th>\n",
       "      <th>IsActiveMember</th>\n",
       "      <th>EstimatedSalary</th>\n",
       "      <th>CreditScore_to_Age</th>\n",
       "      <th>NumOfProducts_to_Tenure</th>\n",
       "      <th>Balance_to_Salary</th>\n",
       "    </tr>\n",
       "  </thead>\n",
       "  <tbody>\n",
       "    <tr>\n",
       "      <th>0</th>\n",
       "      <td>0.144135</td>\n",
       "      <td>-0.578074</td>\n",
       "      <td>-0.719973</td>\n",
       "      <td>-0.883163</td>\n",
       "      <td>0.814298</td>\n",
       "      <td>0.571263</td>\n",
       "      <td>-0.99555</td>\n",
       "      <td>1.369486</td>\n",
       "      <td>0.458488</td>\n",
       "      <td>0.433990</td>\n",
       "      <td>-0.022925</td>\n",
       "    </tr>\n",
       "    <tr>\n",
       "      <th>1</th>\n",
       "      <td>-0.367706</td>\n",
       "      <td>-0.578074</td>\n",
       "      <td>-1.432694</td>\n",
       "      <td>-0.883163</td>\n",
       "      <td>0.814298</td>\n",
       "      <td>0.571263</td>\n",
       "      <td>1.00447</td>\n",
       "      <td>-1.254085</td>\n",
       "      <td>0.191319</td>\n",
       "      <td>2.003848</td>\n",
       "      <td>-0.022925</td>\n",
       "    </tr>\n",
       "    <tr>\n",
       "      <th>2</th>\n",
       "      <td>0.268974</td>\n",
       "      <td>0.211354</td>\n",
       "      <td>1.774548</td>\n",
       "      <td>-0.883163</td>\n",
       "      <td>0.814298</td>\n",
       "      <td>0.571263</td>\n",
       "      <td>-0.99555</td>\n",
       "      <td>1.437422</td>\n",
       "      <td>-0.249510</td>\n",
       "      <td>-0.565011</td>\n",
       "      <td>-0.022925</td>\n",
       "    </tr>\n",
       "    <tr>\n",
       "      <th>3</th>\n",
       "      <td>-0.941966</td>\n",
       "      <td>-0.465299</td>\n",
       "      <td>-1.076334</td>\n",
       "      <td>1.486918</td>\n",
       "      <td>-1.013348</td>\n",
       "      <td>0.571263</td>\n",
       "      <td>1.00447</td>\n",
       "      <td>-0.557018</td>\n",
       "      <td>-0.219784</td>\n",
       "      <td>-0.089296</td>\n",
       "      <td>-0.003713</td>\n",
       "    </tr>\n",
       "    <tr>\n",
       "      <th>4</th>\n",
       "      <td>0.743362</td>\n",
       "      <td>-0.578074</td>\n",
       "      <td>-0.007253</td>\n",
       "      <td>-0.883163</td>\n",
       "      <td>0.814298</td>\n",
       "      <td>0.571263</td>\n",
       "      <td>1.00447</td>\n",
       "      <td>-1.938770</td>\n",
       "      <td>0.771271</td>\n",
       "      <td>-0.089296</td>\n",
       "      <td>-0.022925</td>\n",
       "    </tr>\n",
       "  </tbody>\n",
       "</table>\n",
       "</div>"
      ],
      "text/plain": [
       "   CreditScore       Age    Tenure   Balance  NumOfProducts  HasCrCard  \\\n",
       "0     0.144135 -0.578074 -0.719973 -0.883163       0.814298   0.571263   \n",
       "1    -0.367706 -0.578074 -1.432694 -0.883163       0.814298   0.571263   \n",
       "2     0.268974  0.211354  1.774548 -0.883163       0.814298   0.571263   \n",
       "3    -0.941966 -0.465299 -1.076334  1.486918      -1.013348   0.571263   \n",
       "4     0.743362 -0.578074 -0.007253 -0.883163       0.814298   0.571263   \n",
       "\n",
       "   IsActiveMember  EstimatedSalary  CreditScore_to_Age  \\\n",
       "0        -0.99555         1.369486            0.458488   \n",
       "1         1.00447        -1.254085            0.191319   \n",
       "2        -0.99555         1.437422           -0.249510   \n",
       "3         1.00447        -0.557018           -0.219784   \n",
       "4         1.00447        -1.938770            0.771271   \n",
       "\n",
       "   NumOfProducts_to_Tenure  Balance_to_Salary  \n",
       "0                 0.433990          -0.022925  \n",
       "1                 2.003848          -0.022925  \n",
       "2                -0.565011          -0.022925  \n",
       "3                -0.089296          -0.003713  \n",
       "4                -0.089296          -0.022925  "
      ]
     },
     "execution_count": 19,
     "metadata": {},
     "output_type": "execute_result"
    }
   ],
   "source": [
    "# Standardization\n",
    "\n",
    "from sklearn.preprocessing import StandardScaler\n",
    "\n",
    "scaler = StandardScaler()\n",
    "scaler.fit(feature[feature_num])\n",
    "\n",
    "feature_num_st = scaler.transform(feature[feature_num])\n",
    "feature_num_st = pd.DataFrame(feature_num_st, columns = feature[feature_num].columns)\n",
    "\n",
    "test_num_st = scaler.transform(test[test_num])\n",
    "test_num_st = pd.DataFrame(test_num_st, columns = test[test_num].columns)\n",
    "\n",
    "print(feature_num_st.shape, test_num_st.shape)\n",
    "feature_num_st.head()"
   ]
  },
  {
   "cell_type": "markdown",
   "id": "e0ee3de6",
   "metadata": {
    "papermill": {
     "duration": 0.021218,
     "end_time": "2024-01-21T00:17:23.102234",
     "exception": false,
     "start_time": "2024-01-21T00:17:23.081016",
     "status": "completed"
    },
    "tags": []
   },
   "source": [
    "# one_hot_encoding"
   ]
  },
  {
   "cell_type": "code",
   "execution_count": 20,
   "id": "6f25c5f9",
   "metadata": {
    "execution": {
     "iopub.execute_input": "2024-01-21T00:17:23.146936Z",
     "iopub.status.busy": "2024-01-21T00:17:23.146550Z",
     "iopub.status.idle": "2024-01-21T00:17:23.163847Z",
     "shell.execute_reply": "2024-01-21T00:17:23.163034Z"
    },
    "papermill": {
     "duration": 0.042444,
     "end_time": "2024-01-21T00:17:23.166069",
     "exception": false,
     "start_time": "2024-01-21T00:17:23.123625",
     "status": "completed"
    },
    "tags": []
   },
   "outputs": [
    {
     "data": {
      "text/html": [
       "<div>\n",
       "<style scoped>\n",
       "    .dataframe tbody tr th:only-of-type {\n",
       "        vertical-align: middle;\n",
       "    }\n",
       "\n",
       "    .dataframe tbody tr th {\n",
       "        vertical-align: top;\n",
       "    }\n",
       "\n",
       "    .dataframe thead th {\n",
       "        text-align: right;\n",
       "    }\n",
       "</style>\n",
       "<table border=\"1\" class=\"dataframe\">\n",
       "  <thead>\n",
       "    <tr style=\"text-align: right;\">\n",
       "      <th></th>\n",
       "      <th>Geography</th>\n",
       "      <th>Gender</th>\n",
       "    </tr>\n",
       "  </thead>\n",
       "  <tbody>\n",
       "    <tr>\n",
       "      <th>0</th>\n",
       "      <td>France</td>\n",
       "      <td>Male</td>\n",
       "    </tr>\n",
       "    <tr>\n",
       "      <th>1</th>\n",
       "      <td>France</td>\n",
       "      <td>Male</td>\n",
       "    </tr>\n",
       "    <tr>\n",
       "      <th>2</th>\n",
       "      <td>France</td>\n",
       "      <td>Male</td>\n",
       "    </tr>\n",
       "    <tr>\n",
       "      <th>3</th>\n",
       "      <td>France</td>\n",
       "      <td>Male</td>\n",
       "    </tr>\n",
       "    <tr>\n",
       "      <th>4</th>\n",
       "      <td>Spain</td>\n",
       "      <td>Male</td>\n",
       "    </tr>\n",
       "  </tbody>\n",
       "</table>\n",
       "</div>"
      ],
      "text/plain": [
       "  Geography Gender\n",
       "0    France   Male\n",
       "1    France   Male\n",
       "2    France   Male\n",
       "3    France   Male\n",
       "4     Spain   Male"
      ]
     },
     "execution_count": 20,
     "metadata": {},
     "output_type": "execute_result"
    }
   ],
   "source": [
    "# categoric variables in train data\n",
    "\n",
    "feature_cat = feature.select_dtypes(include=['object']).columns\n",
    "feature_cat = feature[feature_cat]\n",
    "feature_cat.head()"
   ]
  },
  {
   "cell_type": "code",
   "execution_count": 21,
   "id": "a94274bb",
   "metadata": {
    "execution": {
     "iopub.execute_input": "2024-01-21T00:17:23.211310Z",
     "iopub.status.busy": "2024-01-21T00:17:23.210683Z",
     "iopub.status.idle": "2024-01-21T00:17:23.225887Z",
     "shell.execute_reply": "2024-01-21T00:17:23.224691Z"
    },
    "papermill": {
     "duration": 0.040618,
     "end_time": "2024-01-21T00:17:23.228570",
     "exception": false,
     "start_time": "2024-01-21T00:17:23.187952",
     "status": "completed"
    },
    "tags": []
   },
   "outputs": [
    {
     "data": {
      "text/html": [
       "<div>\n",
       "<style scoped>\n",
       "    .dataframe tbody tr th:only-of-type {\n",
       "        vertical-align: middle;\n",
       "    }\n",
       "\n",
       "    .dataframe tbody tr th {\n",
       "        vertical-align: top;\n",
       "    }\n",
       "\n",
       "    .dataframe thead th {\n",
       "        text-align: right;\n",
       "    }\n",
       "</style>\n",
       "<table border=\"1\" class=\"dataframe\">\n",
       "  <thead>\n",
       "    <tr style=\"text-align: right;\">\n",
       "      <th></th>\n",
       "      <th>Geography</th>\n",
       "      <th>Gender</th>\n",
       "    </tr>\n",
       "  </thead>\n",
       "  <tbody>\n",
       "    <tr>\n",
       "      <th>0</th>\n",
       "      <td>France</td>\n",
       "      <td>Female</td>\n",
       "    </tr>\n",
       "    <tr>\n",
       "      <th>1</th>\n",
       "      <td>France</td>\n",
       "      <td>Female</td>\n",
       "    </tr>\n",
       "    <tr>\n",
       "      <th>2</th>\n",
       "      <td>France</td>\n",
       "      <td>Female</td>\n",
       "    </tr>\n",
       "    <tr>\n",
       "      <th>3</th>\n",
       "      <td>France</td>\n",
       "      <td>Male</td>\n",
       "    </tr>\n",
       "    <tr>\n",
       "      <th>4</th>\n",
       "      <td>Germany</td>\n",
       "      <td>Male</td>\n",
       "    </tr>\n",
       "  </tbody>\n",
       "</table>\n",
       "</div>"
      ],
      "text/plain": [
       "  Geography  Gender\n",
       "0    France  Female\n",
       "1    France  Female\n",
       "2    France  Female\n",
       "3    France    Male\n",
       "4   Germany    Male"
      ]
     },
     "execution_count": 21,
     "metadata": {},
     "output_type": "execute_result"
    }
   ],
   "source": [
    "# categoric variables in test data\n",
    "\n",
    "test_cat = test.select_dtypes(include=['object']).columns\n",
    "test_cat = test[test_cat]\n",
    "test_cat.head()"
   ]
  },
  {
   "cell_type": "code",
   "execution_count": 22,
   "id": "9d6f6791",
   "metadata": {
    "execution": {
     "iopub.execute_input": "2024-01-21T00:17:23.274037Z",
     "iopub.status.busy": "2024-01-21T00:17:23.273596Z",
     "iopub.status.idle": "2024-01-21T00:17:23.320927Z",
     "shell.execute_reply": "2024-01-21T00:17:23.319820Z"
    },
    "papermill": {
     "duration": 0.07291,
     "end_time": "2024-01-21T00:17:23.323545",
     "exception": false,
     "start_time": "2024-01-21T00:17:23.250635",
     "status": "completed"
    },
    "tags": []
   },
   "outputs": [
    {
     "data": {
      "text/html": [
       "<div>\n",
       "<style scoped>\n",
       "    .dataframe tbody tr th:only-of-type {\n",
       "        vertical-align: middle;\n",
       "    }\n",
       "\n",
       "    .dataframe tbody tr th {\n",
       "        vertical-align: top;\n",
       "    }\n",
       "\n",
       "    .dataframe thead th {\n",
       "        text-align: right;\n",
       "    }\n",
       "</style>\n",
       "<table border=\"1\" class=\"dataframe\">\n",
       "  <thead>\n",
       "    <tr style=\"text-align: right;\">\n",
       "      <th></th>\n",
       "      <th>Geography_Germany</th>\n",
       "      <th>Geography_Spain</th>\n",
       "      <th>Gender_Male</th>\n",
       "    </tr>\n",
       "  </thead>\n",
       "  <tbody>\n",
       "    <tr>\n",
       "      <th>0</th>\n",
       "      <td>0</td>\n",
       "      <td>0</td>\n",
       "      <td>1</td>\n",
       "    </tr>\n",
       "    <tr>\n",
       "      <th>1</th>\n",
       "      <td>0</td>\n",
       "      <td>0</td>\n",
       "      <td>1</td>\n",
       "    </tr>\n",
       "  </tbody>\n",
       "</table>\n",
       "</div>"
      ],
      "text/plain": [
       "   Geography_Germany  Geography_Spain  Gender_Male\n",
       "0                  0                0            1\n",
       "1                  0                0            1"
      ]
     },
     "execution_count": 22,
     "metadata": {},
     "output_type": "execute_result"
    }
   ],
   "source": [
    "# one_hot_encoding for feature_cat\n",
    "\n",
    "feature_cat_ohe = pd.get_dummies(feature_cat, columns = feature_cat.columns, dtype=int, \n",
    "                                 drop_first=True)\n",
    "feature_cat_ohe.head(2)"
   ]
  },
  {
   "cell_type": "code",
   "execution_count": 23,
   "id": "5d3c2d0e",
   "metadata": {
    "execution": {
     "iopub.execute_input": "2024-01-21T00:17:23.371286Z",
     "iopub.status.busy": "2024-01-21T00:17:23.369876Z",
     "iopub.status.idle": "2024-01-21T00:17:23.406282Z",
     "shell.execute_reply": "2024-01-21T00:17:23.405033Z"
    },
    "papermill": {
     "duration": 0.063106,
     "end_time": "2024-01-21T00:17:23.408757",
     "exception": false,
     "start_time": "2024-01-21T00:17:23.345651",
     "status": "completed"
    },
    "tags": []
   },
   "outputs": [
    {
     "data": {
      "text/html": [
       "<div>\n",
       "<style scoped>\n",
       "    .dataframe tbody tr th:only-of-type {\n",
       "        vertical-align: middle;\n",
       "    }\n",
       "\n",
       "    .dataframe tbody tr th {\n",
       "        vertical-align: top;\n",
       "    }\n",
       "\n",
       "    .dataframe thead th {\n",
       "        text-align: right;\n",
       "    }\n",
       "</style>\n",
       "<table border=\"1\" class=\"dataframe\">\n",
       "  <thead>\n",
       "    <tr style=\"text-align: right;\">\n",
       "      <th></th>\n",
       "      <th>Geography_Germany</th>\n",
       "      <th>Geography_Spain</th>\n",
       "      <th>Gender_Male</th>\n",
       "    </tr>\n",
       "  </thead>\n",
       "  <tbody>\n",
       "    <tr>\n",
       "      <th>0</th>\n",
       "      <td>0</td>\n",
       "      <td>0</td>\n",
       "      <td>0</td>\n",
       "    </tr>\n",
       "    <tr>\n",
       "      <th>1</th>\n",
       "      <td>0</td>\n",
       "      <td>0</td>\n",
       "      <td>0</td>\n",
       "    </tr>\n",
       "  </tbody>\n",
       "</table>\n",
       "</div>"
      ],
      "text/plain": [
       "   Geography_Germany  Geography_Spain  Gender_Male\n",
       "0                  0                0            0\n",
       "1                  0                0            0"
      ]
     },
     "execution_count": 23,
     "metadata": {},
     "output_type": "execute_result"
    }
   ],
   "source": [
    "# one_hot_encoding for test_cat\n",
    "\n",
    "test_cat_ohe = pd.get_dummies(test_cat, columns = test_cat.columns, dtype=int, \n",
    "                              drop_first=True)\n",
    "test_cat_ohe.head(2)"
   ]
  },
  {
   "cell_type": "markdown",
   "id": "6e27645f",
   "metadata": {
    "papermill": {
     "duration": 0.021625,
     "end_time": "2024-01-21T00:17:23.453357",
     "exception": false,
     "start_time": "2024-01-21T00:17:23.431732",
     "status": "completed"
    },
    "tags": []
   },
   "source": [
    "# transformed data"
   ]
  },
  {
   "cell_type": "code",
   "execution_count": 24,
   "id": "d1068cd9",
   "metadata": {
    "execution": {
     "iopub.execute_input": "2024-01-21T00:17:23.500084Z",
     "iopub.status.busy": "2024-01-21T00:17:23.499281Z",
     "iopub.status.idle": "2024-01-21T00:17:23.542404Z",
     "shell.execute_reply": "2024-01-21T00:17:23.541157Z"
    },
    "papermill": {
     "duration": 0.069578,
     "end_time": "2024-01-21T00:17:23.544697",
     "exception": false,
     "start_time": "2024-01-21T00:17:23.475119",
     "status": "completed"
    },
    "tags": []
   },
   "outputs": [
    {
     "name": "stdout",
     "output_type": "stream",
     "text": [
      "(165034, 14) (110023, 14)\n"
     ]
    },
    {
     "data": {
      "text/html": [
       "<div>\n",
       "<style scoped>\n",
       "    .dataframe tbody tr th:only-of-type {\n",
       "        vertical-align: middle;\n",
       "    }\n",
       "\n",
       "    .dataframe tbody tr th {\n",
       "        vertical-align: top;\n",
       "    }\n",
       "\n",
       "    .dataframe thead th {\n",
       "        text-align: right;\n",
       "    }\n",
       "</style>\n",
       "<table border=\"1\" class=\"dataframe\">\n",
       "  <thead>\n",
       "    <tr style=\"text-align: right;\">\n",
       "      <th></th>\n",
       "      <th>CreditScore</th>\n",
       "      <th>Age</th>\n",
       "      <th>Tenure</th>\n",
       "      <th>Balance</th>\n",
       "      <th>NumOfProducts</th>\n",
       "      <th>HasCrCard</th>\n",
       "      <th>IsActiveMember</th>\n",
       "      <th>EstimatedSalary</th>\n",
       "      <th>CreditScore_to_Age</th>\n",
       "      <th>NumOfProducts_to_Tenure</th>\n",
       "      <th>Balance_to_Salary</th>\n",
       "      <th>Geography_Germany</th>\n",
       "      <th>Geography_Spain</th>\n",
       "      <th>Gender_Male</th>\n",
       "    </tr>\n",
       "  </thead>\n",
       "  <tbody>\n",
       "    <tr>\n",
       "      <th>0</th>\n",
       "      <td>0.144135</td>\n",
       "      <td>-0.578074</td>\n",
       "      <td>-0.719973</td>\n",
       "      <td>-0.883163</td>\n",
       "      <td>0.814298</td>\n",
       "      <td>0.571263</td>\n",
       "      <td>-0.99555</td>\n",
       "      <td>1.369486</td>\n",
       "      <td>0.458488</td>\n",
       "      <td>0.433990</td>\n",
       "      <td>-0.022925</td>\n",
       "      <td>0</td>\n",
       "      <td>0</td>\n",
       "      <td>1</td>\n",
       "    </tr>\n",
       "    <tr>\n",
       "      <th>1</th>\n",
       "      <td>-0.367706</td>\n",
       "      <td>-0.578074</td>\n",
       "      <td>-1.432694</td>\n",
       "      <td>-0.883163</td>\n",
       "      <td>0.814298</td>\n",
       "      <td>0.571263</td>\n",
       "      <td>1.00447</td>\n",
       "      <td>-1.254085</td>\n",
       "      <td>0.191319</td>\n",
       "      <td>2.003848</td>\n",
       "      <td>-0.022925</td>\n",
       "      <td>0</td>\n",
       "      <td>0</td>\n",
       "      <td>1</td>\n",
       "    </tr>\n",
       "    <tr>\n",
       "      <th>2</th>\n",
       "      <td>0.268974</td>\n",
       "      <td>0.211354</td>\n",
       "      <td>1.774548</td>\n",
       "      <td>-0.883163</td>\n",
       "      <td>0.814298</td>\n",
       "      <td>0.571263</td>\n",
       "      <td>-0.99555</td>\n",
       "      <td>1.437422</td>\n",
       "      <td>-0.249510</td>\n",
       "      <td>-0.565011</td>\n",
       "      <td>-0.022925</td>\n",
       "      <td>0</td>\n",
       "      <td>0</td>\n",
       "      <td>1</td>\n",
       "    </tr>\n",
       "    <tr>\n",
       "      <th>3</th>\n",
       "      <td>-0.941966</td>\n",
       "      <td>-0.465299</td>\n",
       "      <td>-1.076334</td>\n",
       "      <td>1.486918</td>\n",
       "      <td>-1.013348</td>\n",
       "      <td>0.571263</td>\n",
       "      <td>1.00447</td>\n",
       "      <td>-0.557018</td>\n",
       "      <td>-0.219784</td>\n",
       "      <td>-0.089296</td>\n",
       "      <td>-0.003713</td>\n",
       "      <td>0</td>\n",
       "      <td>0</td>\n",
       "      <td>1</td>\n",
       "    </tr>\n",
       "    <tr>\n",
       "      <th>4</th>\n",
       "      <td>0.743362</td>\n",
       "      <td>-0.578074</td>\n",
       "      <td>-0.007253</td>\n",
       "      <td>-0.883163</td>\n",
       "      <td>0.814298</td>\n",
       "      <td>0.571263</td>\n",
       "      <td>1.00447</td>\n",
       "      <td>-1.938770</td>\n",
       "      <td>0.771271</td>\n",
       "      <td>-0.089296</td>\n",
       "      <td>-0.022925</td>\n",
       "      <td>0</td>\n",
       "      <td>1</td>\n",
       "      <td>1</td>\n",
       "    </tr>\n",
       "  </tbody>\n",
       "</table>\n",
       "</div>"
      ],
      "text/plain": [
       "   CreditScore       Age    Tenure   Balance  NumOfProducts  HasCrCard  \\\n",
       "0     0.144135 -0.578074 -0.719973 -0.883163       0.814298   0.571263   \n",
       "1    -0.367706 -0.578074 -1.432694 -0.883163       0.814298   0.571263   \n",
       "2     0.268974  0.211354  1.774548 -0.883163       0.814298   0.571263   \n",
       "3    -0.941966 -0.465299 -1.076334  1.486918      -1.013348   0.571263   \n",
       "4     0.743362 -0.578074 -0.007253 -0.883163       0.814298   0.571263   \n",
       "\n",
       "   IsActiveMember  EstimatedSalary  CreditScore_to_Age  \\\n",
       "0        -0.99555         1.369486            0.458488   \n",
       "1         1.00447        -1.254085            0.191319   \n",
       "2        -0.99555         1.437422           -0.249510   \n",
       "3         1.00447        -0.557018           -0.219784   \n",
       "4         1.00447        -1.938770            0.771271   \n",
       "\n",
       "   NumOfProducts_to_Tenure  Balance_to_Salary  Geography_Germany  \\\n",
       "0                 0.433990          -0.022925                  0   \n",
       "1                 2.003848          -0.022925                  0   \n",
       "2                -0.565011          -0.022925                  0   \n",
       "3                -0.089296          -0.003713                  0   \n",
       "4                -0.089296          -0.022925                  0   \n",
       "\n",
       "   Geography_Spain  Gender_Male  \n",
       "0                0            1  \n",
       "1                0            1  \n",
       "2                0            1  \n",
       "3                0            1  \n",
       "4                1            1  "
      ]
     },
     "execution_count": 24,
     "metadata": {},
     "output_type": "execute_result"
    }
   ],
   "source": [
    "# total transformed data\n",
    "\n",
    "feature_tf = pd.concat([feature_num_st, feature_cat_ohe], axis=1) \n",
    "test_tf = pd.concat([test_num_st, test_cat_ohe], axis=1) \n",
    "print(feature_tf.shape, test_tf.shape)\n",
    "feature_tf.head()"
   ]
  },
  {
   "cell_type": "code",
   "execution_count": 25,
   "id": "ae4df03a",
   "metadata": {
    "execution": {
     "iopub.execute_input": "2024-01-21T00:17:23.591185Z",
     "iopub.status.busy": "2024-01-21T00:17:23.590422Z",
     "iopub.status.idle": "2024-01-21T00:17:23.599628Z",
     "shell.execute_reply": "2024-01-21T00:17:23.598639Z"
    },
    "papermill": {
     "duration": 0.034698,
     "end_time": "2024-01-21T00:17:23.601737",
     "exception": false,
     "start_time": "2024-01-21T00:17:23.567039",
     "status": "completed"
    },
    "tags": []
   },
   "outputs": [
    {
     "data": {
      "text/plain": [
       "Exited\n",
       "0    130113\n",
       "1     34921\n",
       "Name: count, dtype: int64"
      ]
     },
     "execution_count": 25,
     "metadata": {},
     "output_type": "execute_result"
    }
   ],
   "source": [
    "target.value_counts() # unbalanced data 21%"
   ]
  },
  {
   "cell_type": "code",
   "execution_count": 26,
   "id": "f594c72a",
   "metadata": {
    "execution": {
     "iopub.execute_input": "2024-01-21T00:17:23.648961Z",
     "iopub.status.busy": "2024-01-21T00:17:23.647731Z",
     "iopub.status.idle": "2024-01-21T00:17:23.688490Z",
     "shell.execute_reply": "2024-01-21T00:17:23.687335Z"
    },
    "papermill": {
     "duration": 0.066736,
     "end_time": "2024-01-21T00:17:23.690836",
     "exception": false,
     "start_time": "2024-01-21T00:17:23.624100",
     "status": "completed"
    },
    "tags": []
   },
   "outputs": [
    {
     "data": {
      "text/html": [
       "<div>\n",
       "<style scoped>\n",
       "    .dataframe tbody tr th:only-of-type {\n",
       "        vertical-align: middle;\n",
       "    }\n",
       "\n",
       "    .dataframe tbody tr th {\n",
       "        vertical-align: top;\n",
       "    }\n",
       "\n",
       "    .dataframe thead th {\n",
       "        text-align: right;\n",
       "    }\n",
       "</style>\n",
       "<table border=\"1\" class=\"dataframe\">\n",
       "  <thead>\n",
       "    <tr style=\"text-align: right;\">\n",
       "      <th></th>\n",
       "      <th>CreditScore</th>\n",
       "      <th>Age</th>\n",
       "      <th>Tenure</th>\n",
       "      <th>Balance</th>\n",
       "      <th>NumOfProducts</th>\n",
       "      <th>HasCrCard</th>\n",
       "      <th>IsActiveMember</th>\n",
       "      <th>EstimatedSalary</th>\n",
       "      <th>CreditScore_to_Age</th>\n",
       "      <th>NumOfProducts_to_Tenure</th>\n",
       "      <th>Balance_to_Salary</th>\n",
       "      <th>Geography_Germany</th>\n",
       "      <th>Geography_Spain</th>\n",
       "      <th>Gender_Male</th>\n",
       "      <th>Exited</th>\n",
       "    </tr>\n",
       "  </thead>\n",
       "  <tbody>\n",
       "    <tr>\n",
       "      <th>0</th>\n",
       "      <td>0.144135</td>\n",
       "      <td>-0.578074</td>\n",
       "      <td>-0.719973</td>\n",
       "      <td>-0.883163</td>\n",
       "      <td>0.814298</td>\n",
       "      <td>0.571263</td>\n",
       "      <td>-0.99555</td>\n",
       "      <td>1.369486</td>\n",
       "      <td>0.458488</td>\n",
       "      <td>0.433990</td>\n",
       "      <td>-0.022925</td>\n",
       "      <td>0</td>\n",
       "      <td>0</td>\n",
       "      <td>1</td>\n",
       "      <td>0</td>\n",
       "    </tr>\n",
       "    <tr>\n",
       "      <th>1</th>\n",
       "      <td>-0.367706</td>\n",
       "      <td>-0.578074</td>\n",
       "      <td>-1.432694</td>\n",
       "      <td>-0.883163</td>\n",
       "      <td>0.814298</td>\n",
       "      <td>0.571263</td>\n",
       "      <td>1.00447</td>\n",
       "      <td>-1.254085</td>\n",
       "      <td>0.191319</td>\n",
       "      <td>2.003848</td>\n",
       "      <td>-0.022925</td>\n",
       "      <td>0</td>\n",
       "      <td>0</td>\n",
       "      <td>1</td>\n",
       "      <td>0</td>\n",
       "    </tr>\n",
       "    <tr>\n",
       "      <th>2</th>\n",
       "      <td>0.268974</td>\n",
       "      <td>0.211354</td>\n",
       "      <td>1.774548</td>\n",
       "      <td>-0.883163</td>\n",
       "      <td>0.814298</td>\n",
       "      <td>0.571263</td>\n",
       "      <td>-0.99555</td>\n",
       "      <td>1.437422</td>\n",
       "      <td>-0.249510</td>\n",
       "      <td>-0.565011</td>\n",
       "      <td>-0.022925</td>\n",
       "      <td>0</td>\n",
       "      <td>0</td>\n",
       "      <td>1</td>\n",
       "      <td>0</td>\n",
       "    </tr>\n",
       "    <tr>\n",
       "      <th>3</th>\n",
       "      <td>-0.941966</td>\n",
       "      <td>-0.465299</td>\n",
       "      <td>-1.076334</td>\n",
       "      <td>1.486918</td>\n",
       "      <td>-1.013348</td>\n",
       "      <td>0.571263</td>\n",
       "      <td>1.00447</td>\n",
       "      <td>-0.557018</td>\n",
       "      <td>-0.219784</td>\n",
       "      <td>-0.089296</td>\n",
       "      <td>-0.003713</td>\n",
       "      <td>0</td>\n",
       "      <td>0</td>\n",
       "      <td>1</td>\n",
       "      <td>0</td>\n",
       "    </tr>\n",
       "    <tr>\n",
       "      <th>4</th>\n",
       "      <td>0.743362</td>\n",
       "      <td>-0.578074</td>\n",
       "      <td>-0.007253</td>\n",
       "      <td>-0.883163</td>\n",
       "      <td>0.814298</td>\n",
       "      <td>0.571263</td>\n",
       "      <td>1.00447</td>\n",
       "      <td>-1.938770</td>\n",
       "      <td>0.771271</td>\n",
       "      <td>-0.089296</td>\n",
       "      <td>-0.022925</td>\n",
       "      <td>0</td>\n",
       "      <td>1</td>\n",
       "      <td>1</td>\n",
       "      <td>0</td>\n",
       "    </tr>\n",
       "    <tr>\n",
       "      <th>...</th>\n",
       "      <td>...</td>\n",
       "      <td>...</td>\n",
       "      <td>...</td>\n",
       "      <td>...</td>\n",
       "      <td>...</td>\n",
       "      <td>...</td>\n",
       "      <td>...</td>\n",
       "      <td>...</td>\n",
       "      <td>...</td>\n",
       "      <td>...</td>\n",
       "      <td>...</td>\n",
       "      <td>...</td>\n",
       "      <td>...</td>\n",
       "      <td>...</td>\n",
       "      <td>...</td>\n",
       "    </tr>\n",
       "    <tr>\n",
       "      <th>165029</th>\n",
       "      <td>0.131651</td>\n",
       "      <td>-0.578074</td>\n",
       "      <td>-1.076334</td>\n",
       "      <td>-0.883163</td>\n",
       "      <td>-1.013348</td>\n",
       "      <td>0.571263</td>\n",
       "      <td>1.00447</td>\n",
       "      <td>0.382957</td>\n",
       "      <td>0.451972</td>\n",
       "      <td>-0.089296</td>\n",
       "      <td>-0.022925</td>\n",
       "      <td>0</td>\n",
       "      <td>1</td>\n",
       "      <td>0</td>\n",
       "      <td>0</td>\n",
       "    </tr>\n",
       "    <tr>\n",
       "      <th>165030</th>\n",
       "      <td>1.692140</td>\n",
       "      <td>-0.352523</td>\n",
       "      <td>-0.719973</td>\n",
       "      <td>-0.883163</td>\n",
       "      <td>-1.013348</td>\n",
       "      <td>-1.750507</td>\n",
       "      <td>-0.99555</td>\n",
       "      <td>0.382951</td>\n",
       "      <td>0.971601</td>\n",
       "      <td>-0.350940</td>\n",
       "      <td>-0.022925</td>\n",
       "      <td>0</td>\n",
       "      <td>0</td>\n",
       "      <td>1</td>\n",
       "      <td>0</td>\n",
       "    </tr>\n",
       "    <tr>\n",
       "      <th>165031</th>\n",
       "      <td>-1.141708</td>\n",
       "      <td>-0.803625</td>\n",
       "      <td>-0.007253</td>\n",
       "      <td>-0.883163</td>\n",
       "      <td>-1.013348</td>\n",
       "      <td>0.571263</td>\n",
       "      <td>1.00447</td>\n",
       "      <td>0.295366</td>\n",
       "      <td>0.024838</td>\n",
       "      <td>-0.612583</td>\n",
       "      <td>-0.022925</td>\n",
       "      <td>0</td>\n",
       "      <td>0</td>\n",
       "      <td>1</td>\n",
       "      <td>0</td>\n",
       "    </tr>\n",
       "    <tr>\n",
       "      <th>165032</th>\n",
       "      <td>-1.279031</td>\n",
       "      <td>-0.916401</td>\n",
       "      <td>0.705467</td>\n",
       "      <td>1.688303</td>\n",
       "      <td>-1.013348</td>\n",
       "      <td>-1.750507</td>\n",
       "      <td>1.00447</td>\n",
       "      <td>-0.823217</td>\n",
       "      <td>0.076632</td>\n",
       "      <td>-0.743404</td>\n",
       "      <td>0.001841</td>\n",
       "      <td>0</td>\n",
       "      <td>1</td>\n",
       "      <td>0</td>\n",
       "      <td>0</td>\n",
       "    </tr>\n",
       "    <tr>\n",
       "      <th>165033</th>\n",
       "      <td>2.416207</td>\n",
       "      <td>-0.803625</td>\n",
       "      <td>-1.432694</td>\n",
       "      <td>-0.883163</td>\n",
       "      <td>-1.013348</td>\n",
       "      <td>0.571263</td>\n",
       "      <td>-0.99555</td>\n",
       "      <td>-1.013925</td>\n",
       "      <td>2.001804</td>\n",
       "      <td>0.433990</td>\n",
       "      <td>-0.022925</td>\n",
       "      <td>0</td>\n",
       "      <td>0</td>\n",
       "      <td>1</td>\n",
       "      <td>1</td>\n",
       "    </tr>\n",
       "  </tbody>\n",
       "</table>\n",
       "<p>165034 rows × 15 columns</p>\n",
       "</div>"
      ],
      "text/plain": [
       "        CreditScore       Age    Tenure   Balance  NumOfProducts  HasCrCard  \\\n",
       "0          0.144135 -0.578074 -0.719973 -0.883163       0.814298   0.571263   \n",
       "1         -0.367706 -0.578074 -1.432694 -0.883163       0.814298   0.571263   \n",
       "2          0.268974  0.211354  1.774548 -0.883163       0.814298   0.571263   \n",
       "3         -0.941966 -0.465299 -1.076334  1.486918      -1.013348   0.571263   \n",
       "4          0.743362 -0.578074 -0.007253 -0.883163       0.814298   0.571263   \n",
       "...             ...       ...       ...       ...            ...        ...   \n",
       "165029     0.131651 -0.578074 -1.076334 -0.883163      -1.013348   0.571263   \n",
       "165030     1.692140 -0.352523 -0.719973 -0.883163      -1.013348  -1.750507   \n",
       "165031    -1.141708 -0.803625 -0.007253 -0.883163      -1.013348   0.571263   \n",
       "165032    -1.279031 -0.916401  0.705467  1.688303      -1.013348  -1.750507   \n",
       "165033     2.416207 -0.803625 -1.432694 -0.883163      -1.013348   0.571263   \n",
       "\n",
       "        IsActiveMember  EstimatedSalary  CreditScore_to_Age  \\\n",
       "0             -0.99555         1.369486            0.458488   \n",
       "1              1.00447        -1.254085            0.191319   \n",
       "2             -0.99555         1.437422           -0.249510   \n",
       "3              1.00447        -0.557018           -0.219784   \n",
       "4              1.00447        -1.938770            0.771271   \n",
       "...                ...              ...                 ...   \n",
       "165029         1.00447         0.382957            0.451972   \n",
       "165030        -0.99555         0.382951            0.971601   \n",
       "165031         1.00447         0.295366            0.024838   \n",
       "165032         1.00447        -0.823217            0.076632   \n",
       "165033        -0.99555        -1.013925            2.001804   \n",
       "\n",
       "        NumOfProducts_to_Tenure  Balance_to_Salary  Geography_Germany  \\\n",
       "0                      0.433990          -0.022925                  0   \n",
       "1                      2.003848          -0.022925                  0   \n",
       "2                     -0.565011          -0.022925                  0   \n",
       "3                     -0.089296          -0.003713                  0   \n",
       "4                     -0.089296          -0.022925                  0   \n",
       "...                         ...                ...                ...   \n",
       "165029                -0.089296          -0.022925                  0   \n",
       "165030                -0.350940          -0.022925                  0   \n",
       "165031                -0.612583          -0.022925                  0   \n",
       "165032                -0.743404           0.001841                  0   \n",
       "165033                 0.433990          -0.022925                  0   \n",
       "\n",
       "        Geography_Spain  Gender_Male  Exited  \n",
       "0                     0            1       0  \n",
       "1                     0            1       0  \n",
       "2                     0            1       0  \n",
       "3                     0            1       0  \n",
       "4                     1            1       0  \n",
       "...                 ...          ...     ...  \n",
       "165029                1            0       0  \n",
       "165030                0            1       0  \n",
       "165031                0            1       0  \n",
       "165032                1            0       0  \n",
       "165033                0            1       1  \n",
       "\n",
       "[165034 rows x 15 columns]"
      ]
     },
     "execution_count": 26,
     "metadata": {},
     "output_type": "execute_result"
    }
   ],
   "source": [
    "train_all = pd.concat([feature_tf, target], axis=1) \n",
    "train_all"
   ]
  },
  {
   "cell_type": "code",
   "execution_count": 27,
   "id": "25adba4b",
   "metadata": {
    "execution": {
     "iopub.execute_input": "2024-01-21T00:17:23.738523Z",
     "iopub.status.busy": "2024-01-21T00:17:23.738119Z",
     "iopub.status.idle": "2024-01-21T00:17:23.905303Z",
     "shell.execute_reply": "2024-01-21T00:17:23.904011Z"
    },
    "papermill": {
     "duration": 0.194561,
     "end_time": "2024-01-21T00:17:23.908276",
     "exception": false,
     "start_time": "2024-01-21T00:17:23.713715",
     "status": "completed"
    },
    "tags": []
   },
   "outputs": [
    {
     "data": {
      "text/html": [
       "<div>\n",
       "<style scoped>\n",
       "    .dataframe tbody tr th:only-of-type {\n",
       "        vertical-align: middle;\n",
       "    }\n",
       "\n",
       "    .dataframe tbody tr th {\n",
       "        vertical-align: top;\n",
       "    }\n",
       "\n",
       "    .dataframe thead th {\n",
       "        text-align: right;\n",
       "    }\n",
       "</style>\n",
       "<table border=\"1\" class=\"dataframe\">\n",
       "  <thead>\n",
       "    <tr style=\"text-align: right;\">\n",
       "      <th></th>\n",
       "      <th>CreditScore</th>\n",
       "      <th>Age</th>\n",
       "      <th>Tenure</th>\n",
       "      <th>Balance</th>\n",
       "      <th>NumOfProducts</th>\n",
       "      <th>HasCrCard</th>\n",
       "      <th>IsActiveMember</th>\n",
       "      <th>EstimatedSalary</th>\n",
       "      <th>CreditScore_to_Age</th>\n",
       "      <th>NumOfProducts_to_Tenure</th>\n",
       "      <th>Balance_to_Salary</th>\n",
       "      <th>Geography_Germany</th>\n",
       "      <th>Geography_Spain</th>\n",
       "      <th>Gender_Male</th>\n",
       "      <th>Exited</th>\n",
       "    </tr>\n",
       "  </thead>\n",
       "  <tbody>\n",
       "    <tr>\n",
       "      <th>CreditScore</th>\n",
       "      <td>1.000000</td>\n",
       "      <td>-0.008918</td>\n",
       "      <td>0.000942</td>\n",
       "      <td>0.006973</td>\n",
       "      <td>0.011361</td>\n",
       "      <td>-0.002828</td>\n",
       "      <td>0.014790</td>\n",
       "      <td>-0.001820</td>\n",
       "      <td>0.482742</td>\n",
       "      <td>0.003503</td>\n",
       "      <td>-0.000598</td>\n",
       "      <td>0.002996</td>\n",
       "      <td>0.003833</td>\n",
       "      <td>0.002310</td>\n",
       "      <td>-0.027383</td>\n",
       "    </tr>\n",
       "    <tr>\n",
       "      <th>Age</th>\n",
       "      <td>-0.008918</td>\n",
       "      <td>1.000000</td>\n",
       "      <td>-0.010830</td>\n",
       "      <td>0.064318</td>\n",
       "      <td>-0.102195</td>\n",
       "      <td>-0.012111</td>\n",
       "      <td>0.003320</td>\n",
       "      <td>-0.005399</td>\n",
       "      <td>-0.824948</td>\n",
       "      <td>-0.030754</td>\n",
       "      <td>0.005095</td>\n",
       "      <td>0.093138</td>\n",
       "      <td>-0.012157</td>\n",
       "      <td>-0.063139</td>\n",
       "      <td>0.340768</td>\n",
       "    </tr>\n",
       "    <tr>\n",
       "      <th>Tenure</th>\n",
       "      <td>0.000942</td>\n",
       "      <td>-0.010830</td>\n",
       "      <td>1.000000</td>\n",
       "      <td>-0.009481</td>\n",
       "      <td>0.007335</td>\n",
       "      <td>0.005327</td>\n",
       "      <td>-0.005532</td>\n",
       "      <td>0.000971</td>\n",
       "      <td>0.008159</td>\n",
       "      <td>-0.697675</td>\n",
       "      <td>0.000872</td>\n",
       "      <td>-0.007751</td>\n",
       "      <td>0.004085</td>\n",
       "      <td>0.008767</td>\n",
       "      <td>-0.019565</td>\n",
       "    </tr>\n",
       "    <tr>\n",
       "      <th>Balance</th>\n",
       "      <td>0.006973</td>\n",
       "      <td>0.064318</td>\n",
       "      <td>-0.009481</td>\n",
       "      <td>1.000000</td>\n",
       "      <td>-0.361033</td>\n",
       "      <td>-0.018584</td>\n",
       "      <td>-0.015073</td>\n",
       "      <td>0.008586</td>\n",
       "      <td>-0.047365</td>\n",
       "      <td>-0.127466</td>\n",
       "      <td>0.025970</td>\n",
       "      <td>0.539208</td>\n",
       "      <td>-0.132364</td>\n",
       "      <td>-0.014699</td>\n",
       "      <td>0.129743</td>\n",
       "    </tr>\n",
       "    <tr>\n",
       "      <th>NumOfProducts</th>\n",
       "      <td>0.011361</td>\n",
       "      <td>-0.102195</td>\n",
       "      <td>0.007335</td>\n",
       "      <td>-0.361033</td>\n",
       "      <td>1.000000</td>\n",
       "      <td>0.005482</td>\n",
       "      <td>0.039736</td>\n",
       "      <td>-0.004285</td>\n",
       "      <td>0.088165</td>\n",
       "      <td>0.386984</td>\n",
       "      <td>-0.010640</td>\n",
       "      <td>-0.103034</td>\n",
       "      <td>0.025889</td>\n",
       "      <td>0.026098</td>\n",
       "      <td>-0.214554</td>\n",
       "    </tr>\n",
       "    <tr>\n",
       "      <th>HasCrCard</th>\n",
       "      <td>-0.002828</td>\n",
       "      <td>-0.012111</td>\n",
       "      <td>0.005327</td>\n",
       "      <td>-0.018584</td>\n",
       "      <td>0.005482</td>\n",
       "      <td>1.000000</td>\n",
       "      <td>-0.021034</td>\n",
       "      <td>0.004438</td>\n",
       "      <td>0.006088</td>\n",
       "      <td>-0.006952</td>\n",
       "      <td>-0.000858</td>\n",
       "      <td>-0.004988</td>\n",
       "      <td>-0.014037</td>\n",
       "      <td>0.006418</td>\n",
       "      <td>-0.022141</td>\n",
       "    </tr>\n",
       "    <tr>\n",
       "      <th>IsActiveMember</th>\n",
       "      <td>0.014790</td>\n",
       "      <td>0.003320</td>\n",
       "      <td>-0.005532</td>\n",
       "      <td>-0.015073</td>\n",
       "      <td>0.039736</td>\n",
       "      <td>-0.021034</td>\n",
       "      <td>1.000000</td>\n",
       "      <td>-0.008080</td>\n",
       "      <td>0.020708</td>\n",
       "      <td>0.019213</td>\n",
       "      <td>0.001823</td>\n",
       "      <td>-0.036433</td>\n",
       "      <td>0.014473</td>\n",
       "      <td>0.033722</td>\n",
       "      <td>-0.210237</td>\n",
       "    </tr>\n",
       "    <tr>\n",
       "      <th>EstimatedSalary</th>\n",
       "      <td>-0.001820</td>\n",
       "      <td>-0.005399</td>\n",
       "      <td>0.000971</td>\n",
       "      <td>0.008586</td>\n",
       "      <td>-0.004285</td>\n",
       "      <td>0.004438</td>\n",
       "      <td>-0.008080</td>\n",
       "      <td>1.000000</td>\n",
       "      <td>0.001008</td>\n",
       "      <td>-0.000968</td>\n",
       "      <td>-0.039278</td>\n",
       "      <td>0.013298</td>\n",
       "      <td>-0.010587</td>\n",
       "      <td>-0.007778</td>\n",
       "      <td>0.018827</td>\n",
       "    </tr>\n",
       "    <tr>\n",
       "      <th>CreditScore_to_Age</th>\n",
       "      <td>0.482742</td>\n",
       "      <td>-0.824948</td>\n",
       "      <td>0.008159</td>\n",
       "      <td>-0.047365</td>\n",
       "      <td>0.088165</td>\n",
       "      <td>0.006088</td>\n",
       "      <td>0.020708</td>\n",
       "      <td>0.001008</td>\n",
       "      <td>1.000000</td>\n",
       "      <td>0.027029</td>\n",
       "      <td>-0.005163</td>\n",
       "      <td>-0.075715</td>\n",
       "      <td>0.014039</td>\n",
       "      <td>0.049502</td>\n",
       "      <td>-0.287183</td>\n",
       "    </tr>\n",
       "    <tr>\n",
       "      <th>NumOfProducts_to_Tenure</th>\n",
       "      <td>0.003503</td>\n",
       "      <td>-0.030754</td>\n",
       "      <td>-0.697675</td>\n",
       "      <td>-0.127466</td>\n",
       "      <td>0.386984</td>\n",
       "      <td>-0.006952</td>\n",
       "      <td>0.019213</td>\n",
       "      <td>-0.000968</td>\n",
       "      <td>0.027029</td>\n",
       "      <td>1.000000</td>\n",
       "      <td>-0.005733</td>\n",
       "      <td>-0.029422</td>\n",
       "      <td>0.009653</td>\n",
       "      <td>0.003107</td>\n",
       "      <td>-0.067816</td>\n",
       "    </tr>\n",
       "    <tr>\n",
       "      <th>Balance_to_Salary</th>\n",
       "      <td>-0.000598</td>\n",
       "      <td>0.005095</td>\n",
       "      <td>0.000872</td>\n",
       "      <td>0.025970</td>\n",
       "      <td>-0.010640</td>\n",
       "      <td>-0.000858</td>\n",
       "      <td>0.001823</td>\n",
       "      <td>-0.039278</td>\n",
       "      <td>-0.005163</td>\n",
       "      <td>-0.005733</td>\n",
       "      <td>1.000000</td>\n",
       "      <td>0.018551</td>\n",
       "      <td>-0.003439</td>\n",
       "      <td>0.000459</td>\n",
       "      <td>0.001559</td>\n",
       "    </tr>\n",
       "    <tr>\n",
       "      <th>Geography_Germany</th>\n",
       "      <td>0.002996</td>\n",
       "      <td>0.093138</td>\n",
       "      <td>-0.007751</td>\n",
       "      <td>0.539208</td>\n",
       "      <td>-0.103034</td>\n",
       "      <td>-0.004988</td>\n",
       "      <td>-0.036433</td>\n",
       "      <td>0.013298</td>\n",
       "      <td>-0.075715</td>\n",
       "      <td>-0.029422</td>\n",
       "      <td>0.018551</td>\n",
       "      <td>1.000000</td>\n",
       "      <td>-0.273105</td>\n",
       "      <td>-0.039465</td>\n",
       "      <td>0.211054</td>\n",
       "    </tr>\n",
       "    <tr>\n",
       "      <th>Geography_Spain</th>\n",
       "      <td>0.003833</td>\n",
       "      <td>-0.012157</td>\n",
       "      <td>0.004085</td>\n",
       "      <td>-0.132364</td>\n",
       "      <td>0.025889</td>\n",
       "      <td>-0.014037</td>\n",
       "      <td>0.014473</td>\n",
       "      <td>-0.010587</td>\n",
       "      <td>0.014039</td>\n",
       "      <td>0.009653</td>\n",
       "      <td>-0.003439</td>\n",
       "      <td>-0.273105</td>\n",
       "      <td>1.000000</td>\n",
       "      <td>0.007480</td>\n",
       "      <td>-0.051175</td>\n",
       "    </tr>\n",
       "    <tr>\n",
       "      <th>Gender_Male</th>\n",
       "      <td>0.002310</td>\n",
       "      <td>-0.063139</td>\n",
       "      <td>0.008767</td>\n",
       "      <td>-0.014699</td>\n",
       "      <td>0.026098</td>\n",
       "      <td>0.006418</td>\n",
       "      <td>0.033722</td>\n",
       "      <td>-0.007778</td>\n",
       "      <td>0.049502</td>\n",
       "      <td>0.003107</td>\n",
       "      <td>0.000459</td>\n",
       "      <td>-0.039465</td>\n",
       "      <td>0.007480</td>\n",
       "      <td>1.000000</td>\n",
       "      <td>-0.146442</td>\n",
       "    </tr>\n",
       "    <tr>\n",
       "      <th>Exited</th>\n",
       "      <td>-0.027383</td>\n",
       "      <td>0.340768</td>\n",
       "      <td>-0.019565</td>\n",
       "      <td>0.129743</td>\n",
       "      <td>-0.214554</td>\n",
       "      <td>-0.022141</td>\n",
       "      <td>-0.210237</td>\n",
       "      <td>0.018827</td>\n",
       "      <td>-0.287183</td>\n",
       "      <td>-0.067816</td>\n",
       "      <td>0.001559</td>\n",
       "      <td>0.211054</td>\n",
       "      <td>-0.051175</td>\n",
       "      <td>-0.146442</td>\n",
       "      <td>1.000000</td>\n",
       "    </tr>\n",
       "  </tbody>\n",
       "</table>\n",
       "</div>"
      ],
      "text/plain": [
       "                         CreditScore       Age    Tenure   Balance  \\\n",
       "CreditScore                 1.000000 -0.008918  0.000942  0.006973   \n",
       "Age                        -0.008918  1.000000 -0.010830  0.064318   \n",
       "Tenure                      0.000942 -0.010830  1.000000 -0.009481   \n",
       "Balance                     0.006973  0.064318 -0.009481  1.000000   \n",
       "NumOfProducts               0.011361 -0.102195  0.007335 -0.361033   \n",
       "HasCrCard                  -0.002828 -0.012111  0.005327 -0.018584   \n",
       "IsActiveMember              0.014790  0.003320 -0.005532 -0.015073   \n",
       "EstimatedSalary            -0.001820 -0.005399  0.000971  0.008586   \n",
       "CreditScore_to_Age          0.482742 -0.824948  0.008159 -0.047365   \n",
       "NumOfProducts_to_Tenure     0.003503 -0.030754 -0.697675 -0.127466   \n",
       "Balance_to_Salary          -0.000598  0.005095  0.000872  0.025970   \n",
       "Geography_Germany           0.002996  0.093138 -0.007751  0.539208   \n",
       "Geography_Spain             0.003833 -0.012157  0.004085 -0.132364   \n",
       "Gender_Male                 0.002310 -0.063139  0.008767 -0.014699   \n",
       "Exited                     -0.027383  0.340768 -0.019565  0.129743   \n",
       "\n",
       "                         NumOfProducts  HasCrCard  IsActiveMember  \\\n",
       "CreditScore                   0.011361  -0.002828        0.014790   \n",
       "Age                          -0.102195  -0.012111        0.003320   \n",
       "Tenure                        0.007335   0.005327       -0.005532   \n",
       "Balance                      -0.361033  -0.018584       -0.015073   \n",
       "NumOfProducts                 1.000000   0.005482        0.039736   \n",
       "HasCrCard                     0.005482   1.000000       -0.021034   \n",
       "IsActiveMember                0.039736  -0.021034        1.000000   \n",
       "EstimatedSalary              -0.004285   0.004438       -0.008080   \n",
       "CreditScore_to_Age            0.088165   0.006088        0.020708   \n",
       "NumOfProducts_to_Tenure       0.386984  -0.006952        0.019213   \n",
       "Balance_to_Salary            -0.010640  -0.000858        0.001823   \n",
       "Geography_Germany            -0.103034  -0.004988       -0.036433   \n",
       "Geography_Spain               0.025889  -0.014037        0.014473   \n",
       "Gender_Male                   0.026098   0.006418        0.033722   \n",
       "Exited                       -0.214554  -0.022141       -0.210237   \n",
       "\n",
       "                         EstimatedSalary  CreditScore_to_Age  \\\n",
       "CreditScore                    -0.001820            0.482742   \n",
       "Age                            -0.005399           -0.824948   \n",
       "Tenure                          0.000971            0.008159   \n",
       "Balance                         0.008586           -0.047365   \n",
       "NumOfProducts                  -0.004285            0.088165   \n",
       "HasCrCard                       0.004438            0.006088   \n",
       "IsActiveMember                 -0.008080            0.020708   \n",
       "EstimatedSalary                 1.000000            0.001008   \n",
       "CreditScore_to_Age              0.001008            1.000000   \n",
       "NumOfProducts_to_Tenure        -0.000968            0.027029   \n",
       "Balance_to_Salary              -0.039278           -0.005163   \n",
       "Geography_Germany               0.013298           -0.075715   \n",
       "Geography_Spain                -0.010587            0.014039   \n",
       "Gender_Male                    -0.007778            0.049502   \n",
       "Exited                          0.018827           -0.287183   \n",
       "\n",
       "                         NumOfProducts_to_Tenure  Balance_to_Salary  \\\n",
       "CreditScore                             0.003503          -0.000598   \n",
       "Age                                    -0.030754           0.005095   \n",
       "Tenure                                 -0.697675           0.000872   \n",
       "Balance                                -0.127466           0.025970   \n",
       "NumOfProducts                           0.386984          -0.010640   \n",
       "HasCrCard                              -0.006952          -0.000858   \n",
       "IsActiveMember                          0.019213           0.001823   \n",
       "EstimatedSalary                        -0.000968          -0.039278   \n",
       "CreditScore_to_Age                      0.027029          -0.005163   \n",
       "NumOfProducts_to_Tenure                 1.000000          -0.005733   \n",
       "Balance_to_Salary                      -0.005733           1.000000   \n",
       "Geography_Germany                      -0.029422           0.018551   \n",
       "Geography_Spain                         0.009653          -0.003439   \n",
       "Gender_Male                             0.003107           0.000459   \n",
       "Exited                                 -0.067816           0.001559   \n",
       "\n",
       "                         Geography_Germany  Geography_Spain  Gender_Male  \\\n",
       "CreditScore                       0.002996         0.003833     0.002310   \n",
       "Age                               0.093138        -0.012157    -0.063139   \n",
       "Tenure                           -0.007751         0.004085     0.008767   \n",
       "Balance                           0.539208        -0.132364    -0.014699   \n",
       "NumOfProducts                    -0.103034         0.025889     0.026098   \n",
       "HasCrCard                        -0.004988        -0.014037     0.006418   \n",
       "IsActiveMember                   -0.036433         0.014473     0.033722   \n",
       "EstimatedSalary                   0.013298        -0.010587    -0.007778   \n",
       "CreditScore_to_Age               -0.075715         0.014039     0.049502   \n",
       "NumOfProducts_to_Tenure          -0.029422         0.009653     0.003107   \n",
       "Balance_to_Salary                 0.018551        -0.003439     0.000459   \n",
       "Geography_Germany                 1.000000        -0.273105    -0.039465   \n",
       "Geography_Spain                  -0.273105         1.000000     0.007480   \n",
       "Gender_Male                      -0.039465         0.007480     1.000000   \n",
       "Exited                            0.211054        -0.051175    -0.146442   \n",
       "\n",
       "                           Exited  \n",
       "CreditScore             -0.027383  \n",
       "Age                      0.340768  \n",
       "Tenure                  -0.019565  \n",
       "Balance                  0.129743  \n",
       "NumOfProducts           -0.214554  \n",
       "HasCrCard               -0.022141  \n",
       "IsActiveMember          -0.210237  \n",
       "EstimatedSalary          0.018827  \n",
       "CreditScore_to_Age      -0.287183  \n",
       "NumOfProducts_to_Tenure -0.067816  \n",
       "Balance_to_Salary        0.001559  \n",
       "Geography_Germany        0.211054  \n",
       "Geography_Spain         -0.051175  \n",
       "Gender_Male             -0.146442  \n",
       "Exited                   1.000000  "
      ]
     },
     "execution_count": 27,
     "metadata": {},
     "output_type": "execute_result"
    }
   ],
   "source": [
    "corrmat = train_all.corr()\n",
    "corrmat"
   ]
  },
  {
   "cell_type": "code",
   "execution_count": 28,
   "id": "bb24aa56",
   "metadata": {
    "execution": {
     "iopub.execute_input": "2024-01-21T00:17:23.957920Z",
     "iopub.status.busy": "2024-01-21T00:17:23.957541Z",
     "iopub.status.idle": "2024-01-21T00:17:24.969536Z",
     "shell.execute_reply": "2024-01-21T00:17:24.968429Z"
    },
    "papermill": {
     "duration": 1.0401,
     "end_time": "2024-01-21T00:17:24.972137",
     "exception": false,
     "start_time": "2024-01-21T00:17:23.932037",
     "status": "completed"
    },
    "tags": []
   },
   "outputs": [
    {
     "data": {
      "image/png": "[encoded data removed]",
      "text/plain": [
       "<Figure size 800x800 with 1 Axes>"
      ]
     },
     "metadata": {},
     "output_type": "display_data"
    }
   ],
   "source": [
    "plt.figure(figsize=(8, 8))\n",
    "k=15\n",
    "cols = corrmat.nlargest(k, 'Exited')['Exited'].index\n",
    "cm = np.corrcoef(train_all[cols].values.T)\n",
    "sns.set(font_scale=0.9)\n",
    "hm = sns.heatmap(cm, cbar=False, annot=True, square=True, fmt='.2f', annot_kws={'size': 9}, \n",
    "                 yticklabels=cols.values, xticklabels=cols.values, cmap=\"Purples\")\n",
    "hm.xaxis.tick_top()\n",
    "plt.xticks(rotation=45, ha='left')\n",
    "plt.show()"
   ]
  },
  {
   "cell_type": "markdown",
   "id": "9c2d0490",
   "metadata": {
    "papermill": {
     "duration": 0.026212,
     "end_time": "2024-01-21T00:17:25.024046",
     "exception": false,
     "start_time": "2024-01-21T00:17:24.997834",
     "status": "completed"
    },
    "tags": []
   },
   "source": [
    "- Churn varies quite a bit depending on the region and gender.  Need to EDA"
   ]
  },
  {
   "cell_type": "markdown",
   "id": "037067df",
   "metadata": {
    "papermill": {
     "duration": 0.025357,
     "end_time": "2024-01-21T00:17:25.075256",
     "exception": false,
     "start_time": "2024-01-21T00:17:25.049899",
     "status": "completed"
    },
    "tags": []
   },
   "source": [
    "# model_1: initial XGBClassifier "
   ]
  },
  {
   "cell_type": "code",
   "execution_count": 29,
   "id": "cb7e58ee",
   "metadata": {
    "execution": {
     "iopub.execute_input": "2024-01-21T00:17:25.128318Z",
     "iopub.status.busy": "2024-01-21T00:17:25.127879Z",
     "iopub.status.idle": "2024-01-21T00:17:25.290566Z",
     "shell.execute_reply": "2024-01-21T00:17:25.289295Z"
    },
    "papermill": {
     "duration": 0.192476,
     "end_time": "2024-01-21T00:17:25.293268",
     "exception": false,
     "start_time": "2024-01-21T00:17:25.100792",
     "status": "completed"
    },
    "tags": []
   },
   "outputs": [
    {
     "data": {
      "text/plain": [
       "((123775, 14), (41259, 14), (123775,), (41259,))"
      ]
     },
     "execution_count": 29,
     "metadata": {},
     "output_type": "execute_result"
    }
   ],
   "source": [
    "from sklearn.model_selection import train_test_split\n",
    "X_train, X_val, y_train, y_val = train_test_split(feature_tf, target, random_state = 2401)\n",
    "X_train.shape, X_val.shape, y_train.shape, y_val.shape"
   ]
  },
  {
   "cell_type": "code",
   "execution_count": 30,
   "id": "c53db3ad",
   "metadata": {
    "execution": {
     "iopub.execute_input": "2024-01-21T00:17:25.346673Z",
     "iopub.status.busy": "2024-01-21T00:17:25.346252Z",
     "iopub.status.idle": "2024-01-21T00:17:26.591042Z",
     "shell.execute_reply": "2024-01-21T00:17:26.590058Z"
    },
    "papermill": {
     "duration": 1.274037,
     "end_time": "2024-01-21T00:17:26.593456",
     "exception": false,
     "start_time": "2024-01-21T00:17:25.319419",
     "status": "completed"
    },
    "tags": []
   },
   "outputs": [
    {
     "data": {
      "text/plain": [
       "array([0.34696612, 0.64931697, 0.56105965, 0.01827463, 0.03357518,\n",
       "       0.8000134 , 0.7874645 , 0.04228355, 0.0737657 , 0.02281378],\n",
       "      dtype=float32)"
      ]
     },
     "execution_count": 30,
     "metadata": {},
     "output_type": "execute_result"
    }
   ],
   "source": [
    "from xgboost import XGBClassifier\n",
    "\n",
    "model_1 = XGBClassifier(booster = 'gbtree')\n",
    "model_1.fit(X_train, y_train)\n",
    "\n",
    "pred_1 = model_1.predict_proba(X_val)[:, 1] # pred_1\n",
    "pred_1[:10]"
   ]
  },
  {
   "cell_type": "code",
   "execution_count": 31,
   "id": "ee3db792",
   "metadata": {
    "execution": {
     "iopub.execute_input": "2024-01-21T00:17:26.649574Z",
     "iopub.status.busy": "2024-01-21T00:17:26.647760Z",
     "iopub.status.idle": "2024-01-21T00:17:26.656473Z",
     "shell.execute_reply": "2024-01-21T00:17:26.655556Z"
    },
    "papermill": {
     "duration": 0.03882,
     "end_time": "2024-01-21T00:17:26.658610",
     "exception": false,
     "start_time": "2024-01-21T00:17:26.619790",
     "status": "completed"
    },
    "tags": []
   },
   "outputs": [
    {
     "data": {
      "text/plain": [
       "array([0, 1, 1, 0, 0, 1, 1, 0, 0, 0])"
      ]
     },
     "execution_count": 31,
     "metadata": {},
     "output_type": "execute_result"
    }
   ],
   "source": [
    "pred_label_1 = np.where(pred_1 > 0.5, 1, 0) # pred_label_1\n",
    "pred_label_1[:10]"
   ]
  },
  {
   "cell_type": "code",
   "execution_count": 32,
   "id": "888d16b1",
   "metadata": {
    "execution": {
     "iopub.execute_input": "2024-01-21T00:17:26.713332Z",
     "iopub.status.busy": "2024-01-21T00:17:26.712525Z",
     "iopub.status.idle": "2024-01-21T00:17:26.798552Z",
     "shell.execute_reply": "2024-01-21T00:17:26.797434Z"
    },
    "papermill": {
     "duration": 0.116098,
     "end_time": "2024-01-21T00:17:26.800778",
     "exception": false,
     "start_time": "2024-01-21T00:17:26.684680",
     "status": "completed"
    },
    "tags": []
   },
   "outputs": [
    {
     "name": "stdout",
     "output_type": "stream",
     "text": [
      "[[30872  1720]\n",
      " [ 3855  4812]]\n",
      "              precision    recall  f1-score   support\n",
      "\n",
      "           0       0.89      0.95      0.92     32592\n",
      "           1       0.74      0.56      0.63      8667\n",
      "\n",
      "    accuracy                           0.86     41259\n",
      "   macro avg       0.81      0.75      0.78     41259\n",
      "weighted avg       0.86      0.86      0.86     41259\n",
      "\n"
     ]
    }
   ],
   "source": [
    "from sklearn.metrics import confusion_matrix\n",
    "from sklearn.metrics import classification_report\n",
    "\n",
    "print(confusion_matrix(y_val, pred_label_1)) # pred_label_1\n",
    "print(classification_report(y_val, pred_label_1)) # pred_label_1\n",
    "\n",
    "# accuracy 0.87"
   ]
  },
  {
   "cell_type": "code",
   "execution_count": 33,
   "id": "22333473",
   "metadata": {
    "execution": {
     "iopub.execute_input": "2024-01-21T00:17:26.855994Z",
     "iopub.status.busy": "2024-01-21T00:17:26.855180Z",
     "iopub.status.idle": "2024-01-21T00:17:27.213979Z",
     "shell.execute_reply": "2024-01-21T00:17:27.212889Z"
    },
    "papermill": {
     "duration": 0.389544,
     "end_time": "2024-01-21T00:17:27.216674",
     "exception": false,
     "start_time": "2024-01-21T00:17:26.827130",
     "status": "completed"
    },
    "tags": []
   },
   "outputs": [
    {
     "data": {
      "image/png": "[encoded data removed]",
      "text/plain": [
       "<Figure size 640x480 with 1 Axes>"
      ]
     },
     "metadata": {},
     "output_type": "display_data"
    },
    {
     "data": {
      "text/plain": [
       "0.8860612390630268"
      ]
     },
     "execution_count": 33,
     "metadata": {},
     "output_type": "execute_result"
    }
   ],
   "source": [
    "# ROC curve\n",
    "\n",
    "from sklearn.metrics import roc_curve, roc_auc_score\n",
    "\n",
    "false_positive_rate, true_positive_rate, threshold = roc_curve(y_val, pred_1) # pred\n",
    "\n",
    "plt.title(\"ROC Curve\")\n",
    "plt.plot(false_positive_rate, true_positive_rate)\n",
    "plt.plot([0,1], ls='--')\n",
    "plt.ylabel('true_positive_rate')\n",
    "plt.xlabel('false_positive_rate')\n",
    "plt.show()\n",
    "\n",
    "roc_auc_score(y_val, pred_1) # pred_1"
   ]
  },
  {
   "cell_type": "markdown",
   "id": "fc70d9a1",
   "metadata": {
    "papermill": {
     "duration": 0.026904,
     "end_time": "2024-01-21T00:17:27.271452",
     "exception": false,
     "start_time": "2024-01-21T00:17:27.244548",
     "status": "completed"
    },
    "tags": []
   },
   "source": [
    "# model_2: XGBClassifier with tuned hyperparameters"
   ]
  },
  {
   "cell_type": "code",
   "execution_count": 34,
   "id": "7ce17457",
   "metadata": {
    "execution": {
     "iopub.execute_input": "2024-01-21T00:17:27.330545Z",
     "iopub.status.busy": "2024-01-21T00:17:27.330123Z",
     "iopub.status.idle": "2024-01-21T00:17:29.870186Z",
     "shell.execute_reply": "2024-01-21T00:17:29.869201Z"
    },
    "papermill": {
     "duration": 2.573302,
     "end_time": "2024-01-21T00:17:29.872620",
     "exception": false,
     "start_time": "2024-01-21T00:17:27.299318",
     "status": "completed"
    },
    "tags": []
   },
   "outputs": [
    {
     "name": "stdout",
     "output_type": "stream",
     "text": [
      "The best hyperparameters are  {'alpha': 4, 'colsample_bylevel': 0.9, 'colsample_bynode': 1, 'colsample_bytree': 1, 'lambda': 0.5, 'learning_rate': 0.2, 'max_depth': 6, 'min_child_weight': 3, 'min_split_loss': 1, 'n_estimators': 30, 'subsample': 0.7}\n",
      "Best score:  0.864786911735003\n",
      "2.530764579772949\n"
     ]
    }
   ],
   "source": [
    "# hyperparameter tuning\n",
    "\n",
    "import time\n",
    "start = time.time()\n",
    "\n",
    "from sklearn.model_selection import GridSearchCV\n",
    "\n",
    "param_grid = {\"n_estimators\": [30],       # default 100 [1, inf)\n",
    "              \"learning_rate\": [0.2],     # default 0.3 [0, 1]\n",
    "              \"max_depth\": [6],           # default 6 [0, inf)\n",
    "              \"min_split_loss\":[1],       # default 0 [0, inf)\n",
    "              \"min_child_weight\": [3],    # default 1 [0, inf)\n",
    "              \"subsample\": [0.7],         # default 1 (0, 1]\n",
    "              \"colsample_bytree\": [1],    # default 1 (0, 1]\n",
    "              \"colsample_bylevel\": [0.9], # default 1 (0, 1]\n",
    "              \"colsample_bynode\": [1],    # default 1 (0, 1]\n",
    "              \"lambda\": [0.5],            # default 1 [0, inf)\n",
    "              \"alpha\": [4],               # default 0 [0, inf)\n",
    "             } \n",
    "\n",
    "model_2 = XGBClassifier(booster = 'gbtree')\n",
    "grid_search = GridSearchCV(model_2, param_grid, cv=5, scoring='accuracy')\n",
    "grid_search.fit(X_train, y_train)\n",
    "\n",
    "print(\"The best hyperparameters are \", grid_search.best_params_)\n",
    "print(\"Best score: \", grid_search.best_score_)\n",
    "\n",
    "end = time.time()\n",
    "elapsed = end-start\n",
    "print(elapsed)\n",
    "\n",
    "# accuracy 0.8654251666330033\n",
    "# time 1.9968597888946533 sec"
   ]
  },
  {
   "cell_type": "code",
   "execution_count": 35,
   "id": "4642539a",
   "metadata": {
    "execution": {
     "iopub.execute_input": "2024-01-21T00:17:29.931707Z",
     "iopub.status.busy": "2024-01-21T00:17:29.931298Z",
     "iopub.status.idle": "2024-01-21T00:17:30.418316Z",
     "shell.execute_reply": "2024-01-21T00:17:30.417258Z"
    },
    "papermill": {
     "duration": 0.519044,
     "end_time": "2024-01-21T00:17:30.420807",
     "exception": false,
     "start_time": "2024-01-21T00:17:29.901763",
     "status": "completed"
    },
    "tags": []
   },
   "outputs": [
    {
     "data": {
      "text/plain": [
       "array([0.24948056, 0.6589102 , 0.6393897 , 0.01833382, 0.03788504,\n",
       "       0.81319165, 0.824771  , 0.04240648, 0.03737974, 0.01672261],\n",
       "      dtype=float32)"
      ]
     },
     "execution_count": 35,
     "metadata": {},
     "output_type": "execute_result"
    }
   ],
   "source": [
    "model_2 = XGBClassifier(booster = 'gbtree', n_estimators = 30, learning_rate = 0.2, \n",
    "                        max_depth = 6, min_split_loss = 1, min_child_weight = 3, \n",
    "                        subsample = 0.7, colsample_bytree = 1, colsample_bylevel = 0.9, \n",
    "                        colsample_bynode = 1, reg_lambda = 0.5, alpha = 4)\n",
    "model_2.fit(X_train, y_train)\n",
    "\n",
    "pred_2 = model_2.predict_proba(X_val)[:, 1] # pred_2\n",
    "pred_2[:10]"
   ]
  },
  {
   "cell_type": "code",
   "execution_count": 36,
   "id": "1a74e0f4",
   "metadata": {
    "execution": {
     "iopub.execute_input": "2024-01-21T00:17:30.478203Z",
     "iopub.status.busy": "2024-01-21T00:17:30.477191Z",
     "iopub.status.idle": "2024-01-21T00:17:30.483839Z",
     "shell.execute_reply": "2024-01-21T00:17:30.483054Z"
    },
    "papermill": {
     "duration": 0.037323,
     "end_time": "2024-01-21T00:17:30.485699",
     "exception": false,
     "start_time": "2024-01-21T00:17:30.448376",
     "status": "completed"
    },
    "tags": []
   },
   "outputs": [
    {
     "data": {
      "text/plain": [
       "array([0, 1, 1, 0, 0, 1, 1, 0, 0, 0])"
      ]
     },
     "execution_count": 36,
     "metadata": {},
     "output_type": "execute_result"
    }
   ],
   "source": [
    "pred_label_2 = np.where(pred_2 > 0.5, 1, 0) # pred_label_2\n",
    "pred_label_2[:10]"
   ]
  },
  {
   "cell_type": "code",
   "execution_count": 37,
   "id": "af706996",
   "metadata": {
    "execution": {
     "iopub.execute_input": "2024-01-21T00:17:30.542558Z",
     "iopub.status.busy": "2024-01-21T00:17:30.541815Z",
     "iopub.status.idle": "2024-01-21T00:17:30.628310Z",
     "shell.execute_reply": "2024-01-21T00:17:30.626818Z"
    },
    "papermill": {
     "duration": 0.118096,
     "end_time": "2024-01-21T00:17:30.630899",
     "exception": false,
     "start_time": "2024-01-21T00:17:30.512803",
     "status": "completed"
    },
    "tags": []
   },
   "outputs": [
    {
     "name": "stdout",
     "output_type": "stream",
     "text": [
      "[[30958  1634]\n",
      " [ 3874  4793]]\n",
      "              precision    recall  f1-score   support\n",
      "\n",
      "           0       0.89      0.95      0.92     32592\n",
      "           1       0.75      0.55      0.64      8667\n",
      "\n",
      "    accuracy                           0.87     41259\n",
      "   macro avg       0.82      0.75      0.78     41259\n",
      "weighted avg       0.86      0.87      0.86     41259\n",
      "\n"
     ]
    }
   ],
   "source": [
    "print(confusion_matrix(y_val, pred_label_2)) # pred_label_2\n",
    "print(classification_report(y_val, pred_label_2)) # pred_label_2"
   ]
  },
  {
   "cell_type": "code",
   "execution_count": 38,
   "id": "f445b889",
   "metadata": {
    "execution": {
     "iopub.execute_input": "2024-01-21T00:17:30.688378Z",
     "iopub.status.busy": "2024-01-21T00:17:30.687931Z",
     "iopub.status.idle": "2024-01-21T00:17:31.063661Z",
     "shell.execute_reply": "2024-01-21T00:17:31.062633Z"
    },
    "papermill": {
     "duration": 0.407043,
     "end_time": "2024-01-21T00:17:31.065899",
     "exception": false,
     "start_time": "2024-01-21T00:17:30.658856",
     "status": "completed"
    },
    "tags": []
   },
   "outputs": [
    {
     "data": {
      "image/png": "[encoded data removed]",
      "text/plain": [
       "<Figure size 640x480 with 1 Axes>"
      ]
     },
     "metadata": {},
     "output_type": "display_data"
    },
    {
     "data": {
      "text/plain": [
       "0.8899975857674898"
      ]
     },
     "execution_count": 38,
     "metadata": {},
     "output_type": "execute_result"
    }
   ],
   "source": [
    "# ROC curve\n",
    "\n",
    "from sklearn.metrics import roc_curve, roc_auc_score\n",
    "\n",
    "false_positive_rate, true_positive_rate, threshold = roc_curve(y_val, pred_2) # pred_2\n",
    "\n",
    "plt.title(\"ROC Curve\")\n",
    "plt.plot(false_positive_rate, true_positive_rate)\n",
    "plt.plot([0,1], ls='--')\n",
    "plt.ylabel('true_positive_rate')\n",
    "plt.xlabel('false_positive_rate')\n",
    "plt.show()\n",
    "\n",
    "roc_auc_score(y_val, pred_2)"
   ]
  },
  {
   "cell_type": "markdown",
   "id": "881c0aae",
   "metadata": {
    "papermill": {
     "duration": 0.028028,
     "end_time": "2024-01-21T00:17:31.121849",
     "exception": false,
     "start_time": "2024-01-21T00:17:31.093821",
     "status": "completed"
    },
    "tags": []
   },
   "source": [
    "# model_3: initial LightGBM"
   ]
  },
  {
   "cell_type": "code",
   "execution_count": 39,
   "id": "ec1eaf69",
   "metadata": {
    "execution": {
     "iopub.execute_input": "2024-01-21T00:17:31.180251Z",
     "iopub.status.busy": "2024-01-21T00:17:31.179821Z",
     "iopub.status.idle": "2024-01-21T00:17:34.183956Z",
     "shell.execute_reply": "2024-01-21T00:17:34.183138Z"
    },
    "papermill": {
     "duration": 3.036081,
     "end_time": "2024-01-21T00:17:34.186029",
     "exception": false,
     "start_time": "2024-01-21T00:17:31.149948",
     "status": "completed"
    },
    "tags": []
   },
   "outputs": [
    {
     "data": {
      "text/plain": [
       "array([0.22444951, 0.67851376, 0.63796237, 0.01826519, 0.03539553,\n",
       "       0.81478015, 0.8537487 , 0.04411541, 0.04823416, 0.0192945 ])"
      ]
     },
     "execution_count": 39,
     "metadata": {},
     "output_type": "execute_result"
    }
   ],
   "source": [
    "import lightgbm as lgb\n",
    "\n",
    "model_3 = lgb.LGBMClassifier(random_state=2401)\n",
    "model_3.fit(X_train, y_train)\n",
    "\n",
    "pred_3 = model_3.predict_proba(X_val)[:, 1] # pred_3\n",
    "pred_3[:10]"
   ]
  },
  {
   "cell_type": "code",
   "execution_count": 40,
   "id": "db865a8f",
   "metadata": {
    "execution": {
     "iopub.execute_input": "2024-01-21T00:17:34.245857Z",
     "iopub.status.busy": "2024-01-21T00:17:34.245186Z",
     "iopub.status.idle": "2024-01-21T00:17:34.251306Z",
     "shell.execute_reply": "2024-01-21T00:17:34.250560Z"
    },
    "papermill": {
     "duration": 0.038359,
     "end_time": "2024-01-21T00:17:34.253194",
     "exception": false,
     "start_time": "2024-01-21T00:17:34.214835",
     "status": "completed"
    },
    "tags": []
   },
   "outputs": [
    {
     "data": {
      "text/plain": [
       "array([0, 1, 1, 0, 0, 1, 1, 0, 0, 0])"
      ]
     },
     "execution_count": 40,
     "metadata": {},
     "output_type": "execute_result"
    }
   ],
   "source": [
    "pred_label_3 = np.where(pred_3 > 0.5, 1, 0) # pred_label_3\n",
    "pred_label_3[:10]"
   ]
  },
  {
   "cell_type": "code",
   "execution_count": 41,
   "id": "cd00b390",
   "metadata": {
    "execution": {
     "iopub.execute_input": "2024-01-21T00:17:34.312254Z",
     "iopub.status.busy": "2024-01-21T00:17:34.311475Z",
     "iopub.status.idle": "2024-01-21T00:17:34.396532Z",
     "shell.execute_reply": "2024-01-21T00:17:34.395035Z"
    },
    "papermill": {
     "duration": 0.117775,
     "end_time": "2024-01-21T00:17:34.399142",
     "exception": false,
     "start_time": "2024-01-21T00:17:34.281367",
     "status": "completed"
    },
    "tags": []
   },
   "outputs": [
    {
     "name": "stdout",
     "output_type": "stream",
     "text": [
      "[[30944  1648]\n",
      " [ 3847  4820]]\n",
      "              precision    recall  f1-score   support\n",
      "\n",
      "           0       0.89      0.95      0.92     32592\n",
      "           1       0.75      0.56      0.64      8667\n",
      "\n",
      "    accuracy                           0.87     41259\n",
      "   macro avg       0.82      0.75      0.78     41259\n",
      "weighted avg       0.86      0.87      0.86     41259\n",
      "\n"
     ]
    }
   ],
   "source": [
    "print(confusion_matrix(y_val, pred_label_3)) # pred_label_3\n",
    "print(classification_report(y_val, pred_label_3)) # pred_label_3"
   ]
  },
  {
   "cell_type": "code",
   "execution_count": 42,
   "id": "b76bf965",
   "metadata": {
    "execution": {
     "iopub.execute_input": "2024-01-21T00:17:34.457665Z",
     "iopub.status.busy": "2024-01-21T00:17:34.457263Z",
     "iopub.status.idle": "2024-01-21T00:17:34.815821Z",
     "shell.execute_reply": "2024-01-21T00:17:34.814705Z"
    },
    "papermill": {
     "duration": 0.391152,
     "end_time": "2024-01-21T00:17:34.818519",
     "exception": false,
     "start_time": "2024-01-21T00:17:34.427367",
     "status": "completed"
    },
    "tags": []
   },
   "outputs": [
    {
     "data": {
      "image/png": "[encoded data removed]",
      "text/plain": [
       "<Figure size 640x480 with 1 Axes>"
      ]
     },
     "metadata": {},
     "output_type": "display_data"
    },
    {
     "data": {
      "text/plain": [
       "0.8906890773828287"
      ]
     },
     "execution_count": 42,
     "metadata": {},
     "output_type": "execute_result"
    }
   ],
   "source": [
    "# ROC curve\n",
    "\n",
    "false_positive_rate, true_positive_rate, threshold = roc_curve(y_val, pred_3) # pred_3\n",
    "\n",
    "plt.title(\"ROC Curve\")\n",
    "plt.plot(false_positive_rate, true_positive_rate)\n",
    "plt.plot([0,1], ls='--')\n",
    "plt.ylabel('true_positive_rate')\n",
    "plt.xlabel('false_positive_rate')\n",
    "plt.show()\n",
    "\n",
    "roc_auc_score(y_val, pred_3) # pred_3\n",
    "# 0.890729208387193"
   ]
  },
  {
   "cell_type": "markdown",
   "id": "b99af4ac",
   "metadata": {
    "papermill": {
     "duration": 0.028533,
     "end_time": "2024-01-21T00:17:34.876414",
     "exception": false,
     "start_time": "2024-01-21T00:17:34.847881",
     "status": "completed"
    },
    "tags": []
   },
   "source": [
    "# model_4: Light-GBM with tuned hyperparameters"
   ]
  },
  {
   "cell_type": "code",
   "execution_count": 43,
   "id": "53a525f5",
   "metadata": {
    "execution": {
     "iopub.execute_input": "2024-01-21T00:17:34.939405Z",
     "iopub.status.busy": "2024-01-21T00:17:34.938591Z",
     "iopub.status.idle": "2024-01-21T00:17:48.702316Z",
     "shell.execute_reply": "2024-01-21T00:17:48.701035Z"
    },
    "papermill": {
     "duration": 13.799417,
     "end_time": "2024-01-21T00:17:48.704822",
     "exception": false,
     "start_time": "2024-01-21T00:17:34.905405",
     "status": "completed"
    },
    "tags": []
   },
   "outputs": [
    {
     "name": "stdout",
     "output_type": "stream",
     "text": [
      "The best hyperparameters are  {'subsample_freq': 6, 'subsample': 0.9042338683390199, 'num_leaves': 38, 'n_estimators': 135, 'min_child_samples': 20, 'max_depth': 29, 'learning_rate': 0.0892}\n",
      "Best score:  0.8650858412441931\n",
      "13.75244665145874\n"
     ]
    }
   ],
   "source": [
    "from scipy.stats import randint\n",
    "from sklearn.utils.fixes import loguniform\n",
    "from sklearn.model_selection import RandomizedSearchCV\n",
    "start = time.time()\n",
    "\n",
    "param_grid = {'n_estimators': [135],              # default 100\n",
    "              'learning_rate': [0.08920],         # default 0.1\n",
    "              'max_depth': [29],                  # default -1\n",
    "              'num_leaves': [38],                 # default 31\n",
    "              'min_child_samples': [20],          # default 20\n",
    "              'subsample': [0.9042338683390199],  # default 1.0\n",
    "              'subsample_freq': [6]\n",
    "             }\n",
    "\n",
    "model_4 = lgb.LGBMClassifier(random_state=2401)\n",
    "\n",
    "Randomized_search = RandomizedSearchCV(model_4, param_grid, cv=5, scoring='accuracy')\n",
    "Randomized_search.fit(X_train, y_train)\n",
    "\n",
    "print(\"The best hyperparameters are \", Randomized_search.best_params_)\n",
    "print(\"Best score: \", Randomized_search.best_score_)\n",
    "\n",
    "end = time.time()\n",
    "elapsed = end-start\n",
    "print(elapsed)\n",
    "\n",
    "# 0.87\n",
    "# accuracy 0.8653928499293071\n",
    "# time 15 sec"
   ]
  },
  {
   "cell_type": "code",
   "execution_count": 44,
   "id": "83a7eb8c",
   "metadata": {
    "execution": {
     "iopub.execute_input": "2024-01-21T00:17:48.767188Z",
     "iopub.status.busy": "2024-01-21T00:17:48.766755Z",
     "iopub.status.idle": "2024-01-21T00:17:52.849560Z",
     "shell.execute_reply": "2024-01-21T00:17:52.848163Z"
    },
    "papermill": {
     "duration": 4.117071,
     "end_time": "2024-01-21T00:17:52.852232",
     "exception": false,
     "start_time": "2024-01-21T00:17:48.735161",
     "status": "completed"
    },
    "tags": []
   },
   "outputs": [
    {
     "data": {
      "text/plain": [
       "array([0.27542986, 0.70072006, 0.62651549, 0.01785359, 0.0397795 ,\n",
       "       0.80571408, 0.85921817, 0.03518953, 0.05423352, 0.01666598])"
      ]
     },
     "execution_count": 44,
     "metadata": {},
     "output_type": "execute_result"
    }
   ],
   "source": [
    "model_4 = lgb.LGBMClassifier(random_state=2401, n_estimators = 135, learning_rate = 0.08920, \n",
    "                             max_depth = 29, num_leaves = 38, min_child_samples = 20, \n",
    "                             subsample = 0.9042338683390199, subsample_freq = 6)\n",
    "model_4.fit(X_train, y_train)\n",
    "\n",
    "pred_4 = model_4.predict_proba(X_val)[:, 1] # pred_4\n",
    "pred_4[:10]"
   ]
  },
  {
   "cell_type": "code",
   "execution_count": 45,
   "id": "09ed00a8",
   "metadata": {
    "execution": {
     "iopub.execute_input": "2024-01-21T00:17:52.915376Z",
     "iopub.status.busy": "2024-01-21T00:17:52.914923Z",
     "iopub.status.idle": "2024-01-21T00:17:52.923078Z",
     "shell.execute_reply": "2024-01-21T00:17:52.921793Z"
    },
    "papermill": {
     "duration": 0.041741,
     "end_time": "2024-01-21T00:17:52.925256",
     "exception": false,
     "start_time": "2024-01-21T00:17:52.883515",
     "status": "completed"
    },
    "tags": []
   },
   "outputs": [
    {
     "data": {
      "text/plain": [
       "array([0, 1, 1, 0, 0, 1, 1, 0, 0, 0])"
      ]
     },
     "execution_count": 45,
     "metadata": {},
     "output_type": "execute_result"
    }
   ],
   "source": [
    "pred_label_4 = np.where(pred_4 > 0.5, 1, 0) # pred_label_4\n",
    "pred_label_4[:10]"
   ]
  },
  {
   "cell_type": "code",
   "execution_count": 46,
   "id": "1c1e3cdd",
   "metadata": {
    "execution": {
     "iopub.execute_input": "2024-01-21T00:17:52.987334Z",
     "iopub.status.busy": "2024-01-21T00:17:52.986625Z",
     "iopub.status.idle": "2024-01-21T00:17:53.074284Z",
     "shell.execute_reply": "2024-01-21T00:17:53.072661Z"
    },
    "papermill": {
     "duration": 0.123532,
     "end_time": "2024-01-21T00:17:53.077949",
     "exception": false,
     "start_time": "2024-01-21T00:17:52.954417",
     "status": "completed"
    },
    "tags": []
   },
   "outputs": [
    {
     "name": "stdout",
     "output_type": "stream",
     "text": [
      "[[30943  1649]\n",
      " [ 3879  4788]]\n",
      "              precision    recall  f1-score   support\n",
      "\n",
      "           0       0.89      0.95      0.92     32592\n",
      "           1       0.74      0.55      0.63      8667\n",
      "\n",
      "    accuracy                           0.87     41259\n",
      "   macro avg       0.82      0.75      0.78     41259\n",
      "weighted avg       0.86      0.87      0.86     41259\n",
      "\n"
     ]
    }
   ],
   "source": [
    "print(confusion_matrix(y_val, pred_label_4)) # pred_label_4\n",
    "print(classification_report(y_val, pred_label_4)) # pred_label_4"
   ]
  },
  {
   "cell_type": "code",
   "execution_count": 47,
   "id": "188de927",
   "metadata": {
    "execution": {
     "iopub.execute_input": "2024-01-21T00:17:53.149234Z",
     "iopub.status.busy": "2024-01-21T00:17:53.148798Z",
     "iopub.status.idle": "2024-01-21T00:17:53.508820Z",
     "shell.execute_reply": "2024-01-21T00:17:53.507601Z"
    },
    "papermill": {
     "duration": 0.393927,
     "end_time": "2024-01-21T00:17:53.511308",
     "exception": false,
     "start_time": "2024-01-21T00:17:53.117381",
     "status": "completed"
    },
    "tags": []
   },
   "outputs": [
    {
     "data": {
      "image/png": "[encoded data removed]",
      "text/plain": [
       "<Figure size 640x480 with 1 Axes>"
      ]
     },
     "metadata": {},
     "output_type": "display_data"
    },
    {
     "data": {
      "text/plain": [
       "0.8905526139132862"
      ]
     },
     "execution_count": 47,
     "metadata": {},
     "output_type": "execute_result"
    }
   ],
   "source": [
    "# ROC curve\n",
    "\n",
    "false_positive_rate, true_positive_rate, threshold = roc_curve(y_val, pred_4) # pred_4\n",
    "\n",
    "plt.title(\"ROC Curve\")\n",
    "plt.plot(false_positive_rate, true_positive_rate)\n",
    "plt.plot([0,1], ls='--')\n",
    "plt.ylabel('true_positive_rate')\n",
    "plt.xlabel('false_positive_rate')\n",
    "plt.show()\n",
    "\n",
    "roc_auc_score(y_val, pred_4) # pred_4\n",
    "# 0.890630827952182"
   ]
  },
  {
   "cell_type": "markdown",
   "id": "b8591324",
   "metadata": {
    "papermill": {
     "duration": 0.030146,
     "end_time": "2024-01-21T00:17:53.572487",
     "exception": false,
     "start_time": "2024-01-21T00:17:53.542341",
     "status": "completed"
    },
    "tags": []
   },
   "source": [
    "# model_5: CatBoost"
   ]
  },
  {
   "cell_type": "code",
   "execution_count": 48,
   "id": "bc2331d9",
   "metadata": {
    "execution": {
     "iopub.execute_input": "2024-01-21T00:17:53.634137Z",
     "iopub.status.busy": "2024-01-21T00:17:53.633753Z",
     "iopub.status.idle": "2024-01-21T00:18:13.325304Z",
     "shell.execute_reply": "2024-01-21T00:18:13.324025Z"
    },
    "papermill": {
     "duration": 19.725538,
     "end_time": "2024-01-21T00:18:13.327891",
     "exception": false,
     "start_time": "2024-01-21T00:17:53.602353",
     "status": "completed"
    },
    "tags": []
   },
   "outputs": [
    {
     "data": {
      "text/plain": [
       "array([0.27066475, 0.69732114, 0.6164659 , 0.01403969, 0.02803988,\n",
       "       0.82473916, 0.84988957, 0.04744534, 0.05692183, 0.01653631])"
      ]
     },
     "execution_count": 48,
     "metadata": {},
     "output_type": "execute_result"
    }
   ],
   "source": [
    "from catboost import CatBoostClassifier\n",
    "\n",
    "model_5 = CatBoostClassifier(random_state = 2401)\n",
    "\n",
    "model_5.fit(X_train, y_train, verbose=0)\n",
    "\n",
    "pred_5 = model_5.predict_proba(X_val)[:, 1] # pred_1\n",
    "pred_5[:10]"
   ]
  },
  {
   "cell_type": "code",
   "execution_count": 49,
   "id": "5d21a49d",
   "metadata": {
    "execution": {
     "iopub.execute_input": "2024-01-21T00:18:13.390935Z",
     "iopub.status.busy": "2024-01-21T00:18:13.390550Z",
     "iopub.status.idle": "2024-01-21T00:18:13.397998Z",
     "shell.execute_reply": "2024-01-21T00:18:13.396910Z"
    },
    "papermill": {
     "duration": 0.041703,
     "end_time": "2024-01-21T00:18:13.400101",
     "exception": false,
     "start_time": "2024-01-21T00:18:13.358398",
     "status": "completed"
    },
    "tags": []
   },
   "outputs": [
    {
     "data": {
      "text/plain": [
       "array([0, 1, 1, 0, 0, 1, 1, 0, 0, 0])"
      ]
     },
     "execution_count": 49,
     "metadata": {},
     "output_type": "execute_result"
    }
   ],
   "source": [
    "pred_label_5 = np.where(pred_5 > 0.5, 1, 0) # pred_label_5\n",
    "pred_label_5[:10]"
   ]
  },
  {
   "cell_type": "code",
   "execution_count": 50,
   "id": "9a565d9c",
   "metadata": {
    "execution": {
     "iopub.execute_input": "2024-01-21T00:18:13.465523Z",
     "iopub.status.busy": "2024-01-21T00:18:13.464356Z",
     "iopub.status.idle": "2024-01-21T00:18:13.551295Z",
     "shell.execute_reply": "2024-01-21T00:18:13.550060Z"
    },
    "papermill": {
     "duration": 0.123119,
     "end_time": "2024-01-21T00:18:13.554742",
     "exception": false,
     "start_time": "2024-01-21T00:18:13.431623",
     "status": "completed"
    },
    "tags": []
   },
   "outputs": [
    {
     "name": "stdout",
     "output_type": "stream",
     "text": [
      "[[30988  1604]\n",
      " [ 3942  4725]]\n",
      "              precision    recall  f1-score   support\n",
      "\n",
      "           0       0.89      0.95      0.92     32592\n",
      "           1       0.75      0.55      0.63      8667\n",
      "\n",
      "    accuracy                           0.87     41259\n",
      "   macro avg       0.82      0.75      0.77     41259\n",
      "weighted avg       0.86      0.87      0.86     41259\n",
      "\n"
     ]
    }
   ],
   "source": [
    "print(confusion_matrix(y_val, pred_label_5)) # pred_label_5\n",
    "print(classification_report(y_val, pred_label_5))"
   ]
  },
  {
   "cell_type": "code",
   "execution_count": 51,
   "id": "3a025cf4",
   "metadata": {
    "execution": {
     "iopub.execute_input": "2024-01-21T00:18:13.619516Z",
     "iopub.status.busy": "2024-01-21T00:18:13.619132Z",
     "iopub.status.idle": "2024-01-21T00:18:13.927235Z",
     "shell.execute_reply": "2024-01-21T00:18:13.926097Z"
    },
    "papermill": {
     "duration": 0.342997,
     "end_time": "2024-01-21T00:18:13.929853",
     "exception": false,
     "start_time": "2024-01-21T00:18:13.586856",
     "status": "completed"
    },
    "tags": []
   },
   "outputs": [
    {
     "data": {
      "image/png": "[encoded data removed]",
      "text/plain": [
       "<Figure size 640x480 with 1 Axes>"
      ]
     },
     "metadata": {},
     "output_type": "display_data"
    },
    {
     "data": {
      "text/plain": [
       "0.8896512947785682"
      ]
     },
     "execution_count": 51,
     "metadata": {},
     "output_type": "execute_result"
    }
   ],
   "source": [
    "# ROC curve\n",
    "from sklearn.metrics import roc_curve, roc_auc_score\n",
    "\n",
    "false_positive_rate, true_positive_rate, threshold = roc_curve(y_val, pred_5) # pred_5\n",
    "\n",
    "plt.title(\"ROC Curve\")\n",
    "plt.plot(false_positive_rate, true_positive_rate)\n",
    "plt.plot([0,1], ls='--')\n",
    "plt.ylabel('true_positive_rate')\n",
    "plt.xlabel('false_positive_rate')\n",
    "plt.show()\n",
    "\n",
    "roc_auc_score(y_val, pred_5)"
   ]
  },
  {
   "cell_type": "markdown",
   "id": "87576656",
   "metadata": {
    "papermill": {
     "duration": 0.030989,
     "end_time": "2024-01-21T00:18:13.991842",
     "exception": false,
     "start_time": "2024-01-21T00:18:13.960853",
     "status": "completed"
    },
    "tags": []
   },
   "source": [
    "# model_6: CatBoost with tuned hyperparameters"
   ]
  },
  {
   "cell_type": "code",
   "execution_count": 52,
   "id": "c3c8a4f3",
   "metadata": {
    "execution": {
     "iopub.execute_input": "2024-01-21T00:18:14.055920Z",
     "iopub.status.busy": "2024-01-21T00:18:14.055509Z",
     "iopub.status.idle": "2024-01-21T00:19:36.754732Z",
     "shell.execute_reply": "2024-01-21T00:19:36.753753Z"
    },
    "papermill": {
     "duration": 82.766032,
     "end_time": "2024-01-21T00:19:36.789068",
     "exception": false,
     "start_time": "2024-01-21T00:18:14.023036",
     "status": "completed"
    },
    "tags": []
   },
   "outputs": [
    {
     "name": "stdout",
     "output_type": "stream",
     "text": [
      "The best hyperparameters are  {'depth': 6, 'iterations': 800, 'l2_leaf_reg': 3, 'learning_rate': 0.05, 'max_leaves': 31, 'min_data_in_leaf': 1}\n",
      "Best score:  0.8652312664108261\n",
      "82.69244623184204\n"
     ]
    }
   ],
   "source": [
    "start = time.time()\n",
    "\n",
    "param_grid = {'iterations': [800],      # default 500\n",
    "              'learning_rate': [0.05],  # default 1 \n",
    "              'depth': [6],             # default 4 \n",
    "              'l2_leaf_reg': [3],       # default 3\n",
    "              'max_leaves': [31],       # default 31 \n",
    "              \"min_data_in_leaf\": [1]\n",
    "             } \n",
    "\n",
    "model_6 = CatBoostClassifier(random_state=2401, verbose=0)\n",
    "\n",
    "grid_search = GridSearchCV(model_6, param_grid, cv=5, scoring='accuracy')\n",
    "grid_search.fit(X_train, y_train)\n",
    "\n",
    "print(\"The best hyperparameters are \", grid_search.best_params_)\n",
    "print(\"Best score: \", grid_search.best_score_)\n",
    "\n",
    "end = time.time()\n",
    "elapsed = end-start\n",
    "print(elapsed)\n",
    "\n",
    "# 0.87\n",
    "# accuracy 0.8655705917996365\n",
    "# time 77 sec"
   ]
  },
  {
   "cell_type": "code",
   "execution_count": 53,
   "id": "a563de87",
   "metadata": {
    "execution": {
     "iopub.execute_input": "2024-01-21T00:19:36.855359Z",
     "iopub.status.busy": "2024-01-21T00:19:36.854517Z",
     "iopub.status.idle": "2024-01-21T00:19:48.486105Z",
     "shell.execute_reply": "2024-01-21T00:19:48.484901Z"
    },
    "papermill": {
     "duration": 11.667285,
     "end_time": "2024-01-21T00:19:48.488651",
     "exception": false,
     "start_time": "2024-01-21T00:19:36.821366",
     "status": "completed"
    },
    "tags": []
   },
   "outputs": [
    {
     "data": {
      "text/plain": [
       "array([0.26350431, 0.65317667, 0.63625331, 0.01713334, 0.01927429,\n",
       "       0.81029327, 0.89643231, 0.05240792, 0.04807192, 0.01739216])"
      ]
     },
     "execution_count": 53,
     "metadata": {},
     "output_type": "execute_result"
    }
   ],
   "source": [
    "model_6 = CatBoostClassifier(iterations = 800, learning_rate = 0.05, depth = 6, \n",
    "                             l2_leaf_reg = 3, max_leaves = 31, min_data_in_leaf = 1)\n",
    "\n",
    "evals = [(X_val, y_val)]\n",
    "model_6.fit(X_train, y_train, early_stopping_rounds=100, eval_set=evals, verbose=0)  \n",
    "pred_6 = model_6.predict_proba(X_val)[:, 1]\n",
    "pred_6[:10]"
   ]
  },
  {
   "cell_type": "code",
   "execution_count": 54,
   "id": "3dc37cdc",
   "metadata": {
    "execution": {
     "iopub.execute_input": "2024-01-21T00:19:48.555377Z",
     "iopub.status.busy": "2024-01-21T00:19:48.554950Z",
     "iopub.status.idle": "2024-01-21T00:19:48.563670Z",
     "shell.execute_reply": "2024-01-21T00:19:48.562748Z"
    },
    "papermill": {
     "duration": 0.044777,
     "end_time": "2024-01-21T00:19:48.565880",
     "exception": false,
     "start_time": "2024-01-21T00:19:48.521103",
     "status": "completed"
    },
    "tags": []
   },
   "outputs": [
    {
     "data": {
      "text/plain": [
       "array([0, 1, 1, 0, 0, 1, 1, 0, 0, 0])"
      ]
     },
     "execution_count": 54,
     "metadata": {},
     "output_type": "execute_result"
    }
   ],
   "source": [
    "pred_label_6 = np.where(pred_6 > 0.5, 1, 0) # pred_label_6\n",
    "pred_label_6[:10]"
   ]
  },
  {
   "cell_type": "code",
   "execution_count": 55,
   "id": "5f58cd5c",
   "metadata": {
    "execution": {
     "iopub.execute_input": "2024-01-21T00:19:48.632941Z",
     "iopub.status.busy": "2024-01-21T00:19:48.632536Z",
     "iopub.status.idle": "2024-01-21T00:19:48.720401Z",
     "shell.execute_reply": "2024-01-21T00:19:48.718792Z"
    },
    "papermill": {
     "duration": 0.123606,
     "end_time": "2024-01-21T00:19:48.722818",
     "exception": false,
     "start_time": "2024-01-21T00:19:48.599212",
     "status": "completed"
    },
    "tags": []
   },
   "outputs": [
    {
     "name": "stdout",
     "output_type": "stream",
     "text": [
      "[[31040  1552]\n",
      " [ 3952  4715]]\n",
      "              precision    recall  f1-score   support\n",
      "\n",
      "           0       0.89      0.95      0.92     32592\n",
      "           1       0.75      0.54      0.63      8667\n",
      "\n",
      "    accuracy                           0.87     41259\n",
      "   macro avg       0.82      0.75      0.78     41259\n",
      "weighted avg       0.86      0.87      0.86     41259\n",
      "\n"
     ]
    }
   ],
   "source": [
    "print(confusion_matrix(y_val, pred_label_6)) # pred_label_6\n",
    "print(classification_report(y_val, pred_label_6)) # pred_label_6"
   ]
  },
  {
   "cell_type": "code",
   "execution_count": 56,
   "id": "4ecac1a6",
   "metadata": {
    "execution": {
     "iopub.execute_input": "2024-01-21T00:19:48.788357Z",
     "iopub.status.busy": "2024-01-21T00:19:48.787928Z",
     "iopub.status.idle": "2024-01-21T00:19:49.100570Z",
     "shell.execute_reply": "2024-01-21T00:19:49.099438Z"
    },
    "papermill": {
     "duration": 0.348554,
     "end_time": "2024-01-21T00:19:49.102941",
     "exception": false,
     "start_time": "2024-01-21T00:19:48.754387",
     "status": "completed"
    },
    "tags": []
   },
   "outputs": [
    {
     "data": {
      "image/png": "[encoded data removed]",
      "text/plain": [
       "<Figure size 640x480 with 1 Axes>"
      ]
     },
     "metadata": {},
     "output_type": "display_data"
    },
    {
     "data": {
      "text/plain": [
       "0.8911692280697939"
      ]
     },
     "execution_count": 56,
     "metadata": {},
     "output_type": "execute_result"
    }
   ],
   "source": [
    "# ROC curve\n",
    "\n",
    "false_positive_rate, true_positive_rate, threshold = roc_curve(y_val, pred_6) # pred_6\n",
    "\n",
    "plt.title(\"ROC Curve\")\n",
    "plt.plot(false_positive_rate, true_positive_rate)\n",
    "plt.plot([0,1], ls='--')\n",
    "plt.ylabel('true_positive_rate')\n",
    "plt.xlabel('false_positive_rate')\n",
    "plt.show()\n",
    "\n",
    "roc_auc_score(y_val, pred_6) # pred_6\n",
    "# 0.891420514145287"
   ]
  },
  {
   "cell_type": "markdown",
   "id": "87709212",
   "metadata": {
    "papermill": {
     "duration": 0.034071,
     "end_time": "2024-01-21T00:19:49.170438",
     "exception": false,
     "start_time": "2024-01-21T00:19:49.136367",
     "status": "completed"
    },
    "tags": []
   },
   "source": [
    "- roc_auc_score\n",
    "- model_1 0.8870312351048695 0.8863196195750712\n",
    "- model_2 0.8904981294194021 0.889784731430121\n",
    "- model_3 0.890729208387193 0.8902155856954409\n",
    "- model_4 0.890630827952182 0.890630827952182\n",
    "- model_5 0.8899584725528003 0.8897544650202929\n",
    "- model_6 0.891420514145287 0.891420514145287"
   ]
  },
  {
   "cell_type": "markdown",
   "id": "53477a6a",
   "metadata": {
    "papermill": {
     "duration": 0.033996,
     "end_time": "2024-01-21T00:19:49.238015",
     "exception": false,
     "start_time": "2024-01-21T00:19:49.204019",
     "status": "completed"
    },
    "tags": []
   },
   "source": [
    "# weight model blending"
   ]
  },
  {
   "cell_type": "code",
   "execution_count": 57,
   "id": "884963a1",
   "metadata": {
    "execution": {
     "iopub.execute_input": "2024-01-21T00:19:49.305853Z",
     "iopub.status.busy": "2024-01-21T00:19:49.305237Z",
     "iopub.status.idle": "2024-01-21T00:19:49.530317Z",
     "shell.execute_reply": "2024-01-21T00:19:49.529018Z"
    },
    "papermill": {
     "duration": 0.262472,
     "end_time": "2024-01-21T00:19:49.533116",
     "exception": false,
     "start_time": "2024-01-21T00:19:49.270644",
     "status": "completed"
    },
    "tags": []
   },
   "outputs": [
    {
     "data": {
      "text/plain": [
       "0.8912893732732269"
      ]
     },
     "execution_count": 57,
     "metadata": {},
     "output_type": "execute_result"
    }
   ],
   "source": [
    "wmb_pred = (0.15*model_2.predict_proba(X_val)[:,1] + \n",
    "            0.15*model_4.predict_proba(X_val)[:,1] + \n",
    "            0.70*model_6.predict_proba(X_val)[:,1])\n",
    "\n",
    "\n",
    "roc_auc_score(y_val, wmb_pred)\n",
    "# 0.8915367828976104"
   ]
  },
  {
   "cell_type": "code",
   "execution_count": 58,
   "id": "bdc224d2",
   "metadata": {
    "execution": {
     "iopub.execute_input": "2024-01-21T00:19:49.602129Z",
     "iopub.status.busy": "2024-01-21T00:19:49.601635Z",
     "iopub.status.idle": "2024-01-21T00:19:49.609067Z",
     "shell.execute_reply": "2024-01-21T00:19:49.607832Z"
    },
    "papermill": {
     "duration": 0.04508,
     "end_time": "2024-01-21T00:19:49.611285",
     "exception": false,
     "start_time": "2024-01-21T00:19:49.566205",
     "status": "completed"
    },
    "tags": []
   },
   "outputs": [
    {
     "data": {
      "text/plain": [
       "array([0.26318958, 0.66116821, 0.63526309, ..., 0.11054173, 0.11274536,\n",
       "       0.04466343])"
      ]
     },
     "execution_count": 58,
     "metadata": {},
     "output_type": "execute_result"
    }
   ],
   "source": [
    "wmb_pred"
   ]
  },
  {
   "cell_type": "markdown",
   "id": "77d23676",
   "metadata": {
    "papermill": {
     "duration": 0.033126,
     "end_time": "2024-01-21T00:19:49.676814",
     "exception": false,
     "start_time": "2024-01-21T00:19:49.643688",
     "status": "completed"
    },
    "tags": []
   },
   "source": [
    "# submission"
   ]
  },
  {
   "cell_type": "code",
   "execution_count": 59,
   "id": "515c8ccd",
   "metadata": {
    "execution": {
     "iopub.execute_input": "2024-01-21T00:19:49.744687Z",
     "iopub.status.busy": "2024-01-21T00:19:49.743902Z",
     "iopub.status.idle": "2024-01-21T00:19:50.272922Z",
     "shell.execute_reply": "2024-01-21T00:19:50.271816Z"
    },
    "papermill": {
     "duration": 0.565945,
     "end_time": "2024-01-21T00:19:50.275584",
     "exception": false,
     "start_time": "2024-01-21T00:19:49.709639",
     "status": "completed"
    },
    "tags": []
   },
   "outputs": [
    {
     "data": {
      "text/plain": [
       "array([0.02171194, 0.83193997, 0.02873436, 0.22971811, 0.35358016,\n",
       "       0.04551639, 0.04152192, 0.0882205 , 0.54843064, 0.00982943])"
      ]
     },
     "execution_count": 59,
     "metadata": {},
     "output_type": "execute_result"
    }
   ],
   "source": [
    "pred_test = (0.15*model_2.predict_proba(test_tf)[:,1] + \n",
    "             0.15*model_4.predict_proba(test_tf)[:,1] + \n",
    "             0.70*model_6.predict_proba(test_tf)[:,1]) # pred_test\n",
    "pred_test[:10]"
   ]
  },
  {
   "cell_type": "code",
   "execution_count": 60,
   "id": "f0049c1d",
   "metadata": {
    "execution": {
     "iopub.execute_input": "2024-01-21T00:19:50.344205Z",
     "iopub.status.busy": "2024-01-21T00:19:50.343448Z",
     "iopub.status.idle": "2024-01-21T00:19:50.356662Z",
     "shell.execute_reply": "2024-01-21T00:19:50.355541Z"
    },
    "papermill": {
     "duration": 0.051089,
     "end_time": "2024-01-21T00:19:50.359339",
     "exception": false,
     "start_time": "2024-01-21T00:19:50.308250",
     "status": "completed"
    },
    "tags": []
   },
   "outputs": [
    {
     "name": "stdout",
     "output_type": "stream",
     "text": [
      "(110023, 2)\n"
     ]
    },
    {
     "data": {
      "text/html": [
       "<div>\n",
       "<style scoped>\n",
       "    .dataframe tbody tr th:only-of-type {\n",
       "        vertical-align: middle;\n",
       "    }\n",
       "\n",
       "    .dataframe tbody tr th {\n",
       "        vertical-align: top;\n",
       "    }\n",
       "\n",
       "    .dataframe thead th {\n",
       "        text-align: right;\n",
       "    }\n",
       "</style>\n",
       "<table border=\"1\" class=\"dataframe\">\n",
       "  <thead>\n",
       "    <tr style=\"text-align: right;\">\n",
       "      <th></th>\n",
       "      <th>id</th>\n",
       "      <th>Exited</th>\n",
       "    </tr>\n",
       "  </thead>\n",
       "  <tbody>\n",
       "    <tr>\n",
       "      <th>0</th>\n",
       "      <td>165034</td>\n",
       "      <td>0.021712</td>\n",
       "    </tr>\n",
       "    <tr>\n",
       "      <th>1</th>\n",
       "      <td>165035</td>\n",
       "      <td>0.831940</td>\n",
       "    </tr>\n",
       "    <tr>\n",
       "      <th>2</th>\n",
       "      <td>165036</td>\n",
       "      <td>0.028734</td>\n",
       "    </tr>\n",
       "    <tr>\n",
       "      <th>3</th>\n",
       "      <td>165037</td>\n",
       "      <td>0.229718</td>\n",
       "    </tr>\n",
       "    <tr>\n",
       "      <th>4</th>\n",
       "      <td>165038</td>\n",
       "      <td>0.353580</td>\n",
       "    </tr>\n",
       "  </tbody>\n",
       "</table>\n",
       "</div>"
      ],
      "text/plain": [
       "       id    Exited\n",
       "0  165034  0.021712\n",
       "1  165035  0.831940\n",
       "2  165036  0.028734\n",
       "3  165037  0.229718\n",
       "4  165038  0.353580"
      ]
     },
     "execution_count": 60,
     "metadata": {},
     "output_type": "execute_result"
    }
   ],
   "source": [
    "submission = pd.DataFrame({'id': test_df.id, 'Exited': pred_test})\n",
    "print(submission.shape)\n",
    "submission.head()"
   ]
  },
  {
   "cell_type": "code",
   "execution_count": 61,
   "id": "bf3e6cec",
   "metadata": {
    "execution": {
     "iopub.execute_input": "2024-01-21T00:19:50.429450Z",
     "iopub.status.busy": "2024-01-21T00:19:50.428948Z",
     "iopub.status.idle": "2024-01-21T00:19:50.736021Z",
     "shell.execute_reply": "2024-01-21T00:19:50.734814Z"
    },
    "papermill": {
     "duration": 0.345475,
     "end_time": "2024-01-21T00:19:50.738633",
     "exception": false,
     "start_time": "2024-01-21T00:19:50.393158",
     "status": "completed"
    },
    "tags": []
   },
   "outputs": [],
   "source": [
    "submission.to_csv('submission.csv', index=False)"
   ]
  }
 ],
 "metadata": {
  "kaggle": {
   "accelerator": "none",
   "dataSources": [
    {
     "databundleVersionId": 7405009,
     "sourceId": 65711,
     "sourceType": "competition"
    }
   ],
   "dockerImageVersionId": 30635,
   "isGpuEnabled": false,
   "isInternetEnabled": true,
   "language": "python",
   "sourceType": "notebook"
  },
  "kernelspec": {
   "display_name": "Python 3",
   "language": "python",
   "name": "python3"
  },
  "language_info": {
   "codemirror_mode": {
    "name": "ipython",
    "version": 3
   },
   "file_extension": ".py",
   "mimetype": "text/x-python",
   "name": "python",
   "nbconvert_exporter": "python",
   "pygments_lexer": "ipython3",
   "version": "3.9.18"
  },
  "papermill": {
   "default_parameters": {},
   "duration": 158.750982,
   "end_time": "2024-01-21T00:19:51.694639",
   "environment_variables": {},
   "exception": null,
   "input_path": "__notebook__.ipynb",
   "output_path": "__notebook__.ipynb",
   "parameters": {},
   "start_time": "2024-01-21T00:17:12.943657",
   "version": "2.4.0"
  }
 },
 "nbformat": 4,
 "nbformat_minor": 5
}
